{
 "cells": [
  {
   "cell_type": "code",
   "execution_count": 42,
   "metadata": {
    "scrolled": true
   },
   "outputs": [
    {
     "name": "stdout",
     "output_type": "stream",
     "text": [
      "_________________________________________________________________\n",
      "Layer (type)                 Output Shape              Param #   \n",
      "=================================================================\n",
      "conv2d_31 (Conv2D)           (None, 26, 26, 32)        320       \n",
      "_________________________________________________________________\n",
      "conv2d_32 (Conv2D)           (None, 24, 24, 64)        18496     \n",
      "_________________________________________________________________\n",
      "max_pooling2d_16 (MaxPooling (None, 12, 12, 64)        0         \n",
      "_________________________________________________________________\n",
      "conv2d_33 (Conv2D)           (None, 11, 11, 32)        8224      \n",
      "_________________________________________________________________\n",
      "activation_19 (Activation)   (None, 11, 11, 32)        0         \n",
      "_________________________________________________________________\n",
      "max_pooling2d_17 (MaxPooling (None, 5, 5, 32)          0         \n",
      "_________________________________________________________________\n",
      "flatten_11 (Flatten)         (None, 800)               0         \n",
      "_________________________________________________________________\n",
      "dense_21 (Dense)             (None, 128)               102528    \n",
      "_________________________________________________________________\n",
      "dropout_18 (Dropout)         (None, 128)               0         \n",
      "_________________________________________________________________\n",
      "dense_22 (Dense)             (None, 10)                1290      \n",
      "=================================================================\n",
      "Total params: 130,858\n",
      "Trainable params: 130,858\n",
      "Non-trainable params: 0\n",
      "_________________________________________________________________\n"
     ]
    },
    {
     "ename": "TypeError",
     "evalue": "__call__() missing 1 required positional argument: 'inputs'",
     "output_type": "error",
     "traceback": [
      "\u001b[1;31m---------------------------------------------------------------------------\u001b[0m",
      "\u001b[1;31mTypeError\u001b[0m                                 Traceback (most recent call last)",
      "\u001b[1;32m<ipython-input-42-85b6cf4daeaf>\u001b[0m in \u001b[0;36m<module>\u001b[1;34m()\u001b[0m\n\u001b[0;32m     37\u001b[0m \u001b[1;33m\u001b[0m\u001b[0m\n\u001b[0;32m     38\u001b[0m \u001b[0mmodel\u001b[0m\u001b[1;33m.\u001b[0m\u001b[0msummary\u001b[0m\u001b[1;33m(\u001b[0m\u001b[1;33m)\u001b[0m\u001b[1;33m\u001b[0m\u001b[0m\n\u001b[1;32m---> 39\u001b[1;33m \u001b[0mprint\u001b[0m\u001b[1;33m(\u001b[0m\u001b[0mfirst_conv_layer\u001b[0m\u001b[1;33m(\u001b[0m\u001b[1;33m)\u001b[0m\u001b[1;33m)\u001b[0m\u001b[1;33m\u001b[0m\u001b[0m\n\u001b[0m\u001b[0;32m     40\u001b[0m \u001b[1;31m#model.fit(x_train, y_train, batch_size=batch_size,epochs=epochs,  validation_data=(x_test, y_test), shuffle=True)\u001b[0m\u001b[1;33m\u001b[0m\u001b[1;33m\u001b[0m\u001b[0m\n",
      "\u001b[1;31mTypeError\u001b[0m: __call__() missing 1 required positional argument: 'inputs'"
     ]
    }
   ],
   "source": [
    "from __future__ import print_function\n",
    "import keras\n",
    "from keras.datasets import cifar10\n",
    "from keras.preprocessing.image import ImageDataGenerator\n",
    "from keras.models import Sequential\n",
    "from keras.layers import Dense, Dropout, Activation, Flatten\n",
    "from keras.layers import Conv2D, MaxPooling2D\n",
    "import os\n",
    "from keras import backend as K\n",
    "\n",
    "input_shape = (28,28,1)\n",
    "model = Sequential()\n",
    "model.add(Conv2D(32, kernel_size=(3, 3),\n",
    "                 activation='relu',\n",
    "                 input_shape=input_shape))\n",
    "model.add(Conv2D(64, (3, 3), activation='relu'))\n",
    "model.add(MaxPooling2D(pool_size=(2, 2)))\n",
    "\n",
    "model.add(Conv2D(32,(2,2)))\n",
    "model.add(Activation('relu'))\n",
    "model.add(MaxPooling2D(pool_size=(2,2)))\n",
    "\n",
    "model.add(Flatten())\n",
    "model.add(Dense(128, activation='relu'))\n",
    "model.add(Dropout(0.5))\n",
    "model.add(Dense(num_classes, activation='softmax'))\n",
    "# initiate RMSprop optimizer\n",
    "opt = keras.optimizers.rmsprop(lr=0.0001, decay=1e-6)\n",
    "\n",
    "# Let's train the model using RMSprop\n",
    "#model.compile(loss='categorical_crossentropy',\n",
    "#              optimizer=opt,\n",
    "#              metrics=['accuracy'])\n",
    "\n",
    "first_conv_layer = K.function([model.layers[0].input, K.learning_phase()],[model.layers[0].output])\n",
    "\n",
    "\n",
    "model.summary()\n",
    "print(first_conv_layer())\n",
    "#model.fit(x_train, y_train, batch_size=batch_size,epochs=epochs,  validation_data=(x_test, y_test), shuffle=True)"
   ]
  },
  {
   "cell_type": "code",
   "execution_count": 57,
   "metadata": {
    "collapsed": true
   },
   "outputs": [],
   "source": [
    "from sklearn.preprocessing import StandardScaler\n",
    "ss = StandardScaler()\n",
    "z1 = ss.fit_transform(x)"
   ]
  },
  {
   "cell_type": "code",
   "execution_count": 70,
   "metadata": {
    "scrolled": true
   },
   "outputs": [
    {
     "data": {
      "text/plain": [
       "<matplotlib.legend.Legend at 0xfdbee602e8>"
      ]
     },
     "execution_count": 70,
     "metadata": {},
     "output_type": "execute_result"
    },
    {
     "data": {
      "image/png": "[encoded data removed]",
      "text/plain": [
       "<matplotlib.figure.Figure at 0xfdbedb3a58>"
      ]
     },
     "metadata": {},
     "output_type": "display_data"
    }
   ],
   "source": [
    "import matplotlib.pyplot as plt\n",
    "%matplotlib inline\n",
    "from sklearn.preprocessing import MinMaxScaler\n",
    "mms = MinMaxScaler()\n",
    "w1 = mms.fit_transform(x)\n",
    "plt.plot(y1,label='robust')\n",
    "plt.plot(z1,label='standard')\n",
    "plt.plot(w1,label='minmax')\n",
    "plt.plot(x[:,0],label='raw')\n",
    "plt.legend()"
   ]
  },
  {
   "cell_type": "code",
   "execution_count": 103,
   "metadata": {
    "collapsed": true
   },
   "outputs": [],
   "source": [
    "x=np.random.randn(3,2)"
   ]
  },
  {
   "cell_type": "code",
   "execution_count": 106,
   "metadata": {},
   "outputs": [
    {
     "data": {
      "text/plain": [
       "array([[ 0.09207458,  0.49535663],\n",
       "       [ 0.30843404,  0.52958416],\n",
       "       [-1.18656132,  0.36976247]])"
      ]
     },
     "execution_count": 106,
     "metadata": {},
     "output_type": "execute_result"
    }
   ],
   "source": [
    "x.ravel().reshape(3,2)"
   ]
  },
  {
   "cell_type": "code",
   "execution_count": 104,
   "metadata": {},
   "outputs": [
    {
     "data": {
      "text/plain": [
       "array([[ 0.09207458,  0.49535663],\n",
       "       [ 0.30843404,  0.52958416],\n",
       "       [-1.18656132,  0.36976247]])"
      ]
     },
     "execution_count": 104,
     "metadata": {},
     "output_type": "execute_result"
    }
   ],
   "source": [
    "x"
   ]
  },
  {
   "cell_type": "raw",
   "metadata": {},
   "source": [
    "x"
   ]
  },
  {
   "cell_type": "code",
   "execution_count": 107,
   "metadata": {},
   "outputs": [
    {
     "name": "stdout",
     "output_type": "stream",
     "text": [
      "Epoch 1/10\n",
      "100/100 [==============================] - 7s 71ms/step - loss: 2.3216\n",
      "Epoch 2/10\n",
      "100/100 [==============================] - 5s 49ms/step - loss: 2.3485\n",
      "Epoch 3/10\n",
      "100/100 [==============================] - 5s 50ms/step - loss: 2.2889\n",
      "Epoch 4/10\n",
      "100/100 [==============================] - 5s 49ms/step - loss: 2.2907\n",
      "Epoch 5/10\n",
      "100/100 [==============================] - 5s 50ms/step - loss: 2.2709\n",
      "Epoch 6/10\n",
      "100/100 [==============================] - 5s 50ms/step - loss: 2.2823\n",
      "Epoch 7/10\n",
      "100/100 [==============================] - 5s 49ms/step - loss: 2.2719\n",
      "Epoch 8/10\n",
      "100/100 [==============================] - 5s 49ms/step - loss: 2.2965\n",
      "Epoch 9/10\n",
      "100/100 [==============================] - 5s 51ms/step - loss: 2.2772\n",
      "Epoch 10/10\n",
      "100/100 [==============================] - 6s 56ms/step - loss: 2.2660\n",
      "20/20 [==============================] - 0s 22ms/step\n"
     ]
    }
   ],
   "source": [
    "import numpy as np\n",
    "import keras\n",
    "from keras.models import Sequential\n",
    "from keras.layers import Dense, Dropout, Flatten\n",
    "from keras.layers import Conv2D, MaxPooling2D\n",
    "from keras.optimizers import SGD\n",
    "\n",
    "# Generate dummy data\n",
    "x_train = np.random.random((100, 100, 100, 3))\n",
    "y_train = keras.utils.to_categorical(np.random.randint(10, size=(100, 1)), num_classes=10)\n",
    "x_test = np.random.random((20, 100, 100, 3))\n",
    "y_test = keras.utils.to_categorical(np.random.randint(10, size=(20, 1)), num_classes=10)\n",
    "\n",
    "model = Sequential()\n",
    "# input: 100x100 images with 3 channels -> (100, 100, 3) tensors.\n",
    "# this applies 32 convolution filters of size 3x3 each.\n",
    "model.add(Conv2D(32, (3, 3), activation='relu', input_shape=(100, 100, 3)))\n",
    "model.add(Conv2D(32, (3, 3), activation='relu'))\n",
    "model.add(MaxPooling2D(pool_size=(2, 2)))\n",
    "model.add(Dropout(0.25))\n",
    "\n",
    "model.add(Conv2D(64, (3, 3), activation='relu'))\n",
    "model.add(Conv2D(64, (3, 3), activation='relu'))\n",
    "model.add(MaxPooling2D(pool_size=(2, 2)))\n",
    "model.add(Dropout(0.25))\n",
    "\n",
    "model.add(Flatten())\n",
    "model.add(Dense(256, activation='relu'))\n",
    "model.add(Dropout(0.5))\n",
    "model.add(Dense(10, activation='softmax'))\n",
    "\n",
    "sgd = SGD(lr=0.01, decay=1e-6, momentum=0.9, nesterov=True)\n",
    "model.compile(loss='categorical_crossentropy', optimizer=sgd)\n",
    "\n",
    "model.fit(x_train, y_train, batch_size=32, epochs=10)\n",
    "score = model.evaluate(x_test, y_test, batch_size=32)"
   ]
  },
  {
   "cell_type": "code",
   "execution_count": 38,
   "metadata": {},
   "outputs": [
    {
     "name": "stdout",
     "output_type": "stream",
     "text": [
      "(1000, 2)\n",
      "__________________________________________________________________________________________________\n",
      "Layer (type)                    Output Shape         Param #     Connected to                     \n",
      "==================================================================================================\n",
      "input_32 (InputLayer)           (None, 18)           0                                            \n",
      "__________________________________________________________________________________________________\n",
      "dense_59 (Dense)                (None, 4)            76          input_32[0][0]                   \n",
      "__________________________________________________________________________________________________\n",
      "dense_61 (Dense)                (None, 1)            5           dense_59[0][0]                   \n",
      "__________________________________________________________________________________________________\n",
      "dense_62 (Dense)                (None, 1)            5           dense_59[0][0]                   \n",
      "__________________________________________________________________________________________________\n",
      "concatenate_29 (Concatenate)    (None, 2)            0           dense_61[0][0]                   \n",
      "                                                                 dense_62[0][0]                   \n",
      "==================================================================================================\n",
      "Total params: 86\n",
      "Trainable params: 86\n",
      "Non-trainable params: 0\n",
      "__________________________________________________________________________________________________\n"
     ]
    },
    {
     "data": {
      "text/plain": [
       "<matplotlib.legend.Legend at 0xe4dadf8d68>"
      ]
     },
     "execution_count": 38,
     "metadata": {},
     "output_type": "execute_result"
    },
    {
     "data": {
      "image/png": "[encoded data removed]",
      "text/plain": [
       "<matplotlib.figure.Figure at 0xe4d83ab1d0>"
      ]
     },
     "metadata": {},
     "output_type": "display_data"
    }
   ],
   "source": [
    "from keras.layers import Dense, Dropout, Activation, Flatten, Input, merge, AveragePooling2D\n",
    "from keras.layers import Convolution2D, MaxPooling2D, Conv2D,Concatenate,Merge\n",
    "from keras.layers.merge import add, concatenate\n",
    "from keras.models import Model\n",
    "from keras.models import Sequential\n",
    "\n",
    "import numpy as np\n",
    "\n",
    "from keras.preprocessing.image import ImageDataGenerator\n",
    "import matplotlib.pyplot as plt\n",
    "%matplotlib inline\n",
    "import keras\n",
    "x1_train = np.random.randn(1000,18)\n",
    "y1_train = np.random.randint(0,2,1000)\n",
    "y2_train = np.random.randint(0,2,1000)\n",
    "y_train = np.hstack((y1_train.reshape(-1,1),y2_train.reshape(-1,1)))\n",
    "print(y_train.shape)\n",
    "x2_train = np.random.randn(10,3)\n",
    "input1 = keras.layers.Input(shape=(x1_train.shape[1],))\n",
    "x1 = keras.layers.Dense(4, activation='relu')(input1)\n",
    "input2 = keras.layers.Input(shape=(3,))\n",
    "x2 = keras.layers.Dense(8, activation='relu')(input2)\n",
    "added = keras.layers.Concatenate()([x1, x2])  # equivalent to added = keras.layers.add([x1, x2])\n",
    "\n",
    "out1 = keras.layers.Dense(1,activation='sigmoid')(x1)\n",
    "out2 = keras.layers.Dense(1,activation='sigmoid')(x1)\n",
    "out = keras.layers.concatenate([out1, out2],axis=-1)\n",
    "model = keras.models.Model(inputs=input1, outputs=out)\n",
    "\n",
    "model.compile(loss='binary_crossentropy',\n",
    "              optimizer='rmsprop',\n",
    "metrics=['accuracy'])\n",
    "model.summary()\n",
    "\n",
    "\n",
    "\n",
    "\n",
    "history = model.fit(x1_train,y_train,epochs=50,validation_split=0.2,verbose=0)\n",
    "\n",
    "plt.plot(history.history['loss'], label='train')\n",
    "plt.plot(history.history['val_loss'], label='valdate')\n",
    "plt.legend()\n"
   ]
  },
  {
   "cell_type": "code",
   "execution_count": 18,
   "metadata": {},
   "outputs": [
    {
     "data": {
      "text/plain": [
       "<matplotlib.legend.Legend at 0xe4d6016c88>"
      ]
     },
     "execution_count": 18,
     "metadata": {},
     "output_type": "execute_result"
    },
    {
     "data": {
      "image/png": "[encoded data removed]",
      "text/plain": [
       "<matplotlib.figure.Figure at 0xe4d42bf5c0>"
      ]
     },
     "metadata": {},
     "output_type": "display_data"
    }
   ],
   "source": [
    "plt.plot(history.history['acc'], label='train')\n",
    "plt.plot(history.history['val_acc'], label='valdate')\n",
    "plt.legend()\n"
   ]
  },
  {
   "cell_type": "code",
   "execution_count": 154,
   "metadata": {},
   "outputs": [
    {
     "data": {
      "text/plain": [
       "array([-0.04508911,  0.09231277, -2.1140418 , -0.47874982,  1.17345014,\n",
       "       -0.34717202,  2.73117492,  0.45007614, -0.61555016, -1.68225811,\n",
       "        0.86276502,  2.006216  ,  0.31317459, -1.05882286,  2.36876885,\n",
       "        2.51819239, -2.60110798,  0.9216319 ])"
      ]
     },
     "execution_count": 154,
     "metadata": {},
     "output_type": "execute_result"
    }
   ],
   "source": [
    "x1_train[0]"
   ]
  },
  {
   "cell_type": "code",
   "execution_count": 19,
   "metadata": {},
   "outputs": [
    {
     "data": {
      "text/plain": [
       "array([[0.43992266, 0.5033571 ],\n",
       "       [0.4624442 , 0.45473522],\n",
       "       [0.39642274, 0.45091426],\n",
       "       [0.44091645, 0.50473887],\n",
       "       [0.4538617 , 0.47316283],\n",
       "       [0.46805435, 0.43072546],\n",
       "       [0.605311  , 0.3965033 ],\n",
       "       [0.35689852, 0.51727766],\n",
       "       [0.5676236 , 0.40492266]], dtype=float32)"
      ]
     },
     "execution_count": 19,
     "metadata": {},
     "output_type": "execute_result"
    }
   ],
   "source": [
    "model.predict(x1_train[0:9])"
   ]
  },
  {
   "cell_type": "code",
   "execution_count": 20,
   "metadata": {},
   "outputs": [
    {
     "data": {
      "text/plain": [
       "array([[0, 0],\n",
       "       [1, 1],\n",
       "       [1, 1],\n",
       "       [0, 1],\n",
       "       [0, 0],\n",
       "       [0, 0],\n",
       "       [1, 0],\n",
       "       [0, 1],\n",
       "       [1, 0]])"
      ]
     },
     "execution_count": 20,
     "metadata": {},
     "output_type": "execute_result"
    }
   ],
   "source": [
    "y_train[0:9]"
   ]
  },
  {
   "cell_type": "code",
   "execution_count": 40,
   "metadata": {},
   "outputs": [
    {
     "data": {
      "text/plain": [
       "array([[558, 360, 861, 774, 480, 630, 918, 835, 117,  15,  30, 619, 727,\n",
       "        767, 820, 357, 223, 945, 704, 732],\n",
       "       [956, 576, 889, 960, 209, 366, 123, 147, 117, 122,  37, 687,  45,\n",
       "        916, 260, 238, 296, 830,  79, 625],\n",
       "       [873, 968, 695, 427, 326, 955, 669, 929, 265,  57, 287, 563, 564,\n",
       "        111, 999, 559, 657,  15, 457, 204],\n",
       "       [867, 197, 519, 594, 420, 693, 932, 970, 372, 798, 155, 172, 589,\n",
       "        799, 514, 737, 771, 498, 629, 213],\n",
       "       [243, 212,  58, 644, 642,  11, 152, 745, 170, 249, 869, 588, 894,\n",
       "        663, 495,   8, 578, 536, 920, 912],\n",
       "       [797, 833, 853, 794, 951, 902, 310, 813, 960, 769, 898, 965, 885,\n",
       "        122, 491,  36, 990, 157,  34,  47],\n",
       "       [808, 664, 493, 625, 891, 309, 854, 752, 307,  47, 560,  91, 989,\n",
       "        673, 103, 644, 787, 580, 148,  48],\n",
       "       [785, 805, 710, 191, 439, 989, 326, 482, 691, 195, 877, 773, 446,\n",
       "        243, 318, 874, 752, 606, 580, 753],\n",
       "       [224, 892, 891, 880, 877, 276, 938, 815, 778, 314, 426, 157, 141,\n",
       "        288, 788, 612, 191, 465, 571,  21],\n",
       "       [220, 739, 881, 759, 971, 237, 658, 924, 501, 110, 259, 551, 510,\n",
       "        187, 880, 645, 182, 185, 930, 562]])"
      ]
     },
     "execution_count": 40,
     "metadata": {},
     "output_type": "execute_result"
    }
   ],
   "source": [
    "np.random.randint(1,1000,size=(10,20))"
   ]
  },
  {
   "cell_type": "code",
   "execution_count": 33,
   "metadata": {
    "collapsed": true
   },
   "outputs": [],
   "source": [
    "from keras.layers import Dense, Embedding\n",
    "from keras.layers import LSTM\n",
    "max_features = 20000\n",
    "maxlen = 80  # cut texts after this number of words (among top max_features most common words)\n",
    "batch_size = 32\n",
    "model = Sequential()\n",
    "model.add(Embedding(max_features, 128))\n",
    "model.add(LSTM(128, dropout=0.2, recurrent_dropout=0.2))\n",
    "model.add(Dense(1, activation='sigmoid'))"
   ]
  },
  {
   "cell_type": "code",
   "execution_count": 34,
   "metadata": {},
   "outputs": [
    {
     "name": "stdout",
     "output_type": "stream",
     "text": [
      "_________________________________________________________________\n",
      "Layer (type)                 Output Shape              Param #   \n",
      "=================================================================\n",
      "embedding_2 (Embedding)      (None, None, 128)         2560000   \n",
      "_________________________________________________________________\n",
      "lstm_1 (LSTM)                (None, 128)               131584    \n",
      "_________________________________________________________________\n",
      "dense_48 (Dense)             (None, 1)                 129       \n",
      "=================================================================\n",
      "Total params: 2,691,713\n",
      "Trainable params: 2,691,713\n",
      "Non-trainable params: 0\n",
      "_________________________________________________________________\n"
     ]
    }
   ],
   "source": [
    "model.summary()"
   ]
  },
  {
   "cell_type": "code",
   "execution_count": 45,
   "metadata": {
    "collapsed": true
   },
   "outputs": [],
   "source": [
    "timesteps=100\n",
    "input_features = 32\n",
    "output_features = 64\n",
    "inputs = np.random.random((timesteps,input_features))\n",
    "state_t = np.zeros((output_features,))"
   ]
  },
  {
   "cell_type": "code",
   "execution_count": 56,
   "metadata": {
    "collapsed": true
   },
   "outputs": [],
   "source": [
    "W = np.random.random((input_features, output_features))\n",
    "U = np.random.random((output_features, output_features))\n",
    "b = np.random.random((output_features,))"
   ]
  },
  {
   "cell_type": "code",
   "execution_count": 59,
   "metadata": {
    "collapsed": true
   },
   "outputs": [],
   "source": [
    "successive_outputs = []\n",
    "for input_t in inputs:\n",
    "    output_t = np.tanh(np.dot(input_t,W) + np.dot(state_t,U) + b)\n",
    "# We store this output in a list.\n",
    "    successive_outputs.append(output_t)\n",
    "# We update the \"state\" of the network for the next timestep\n",
    "    state_t = output_t"
   ]
  },
  {
   "cell_type": "code",
   "execution_count": 74,
   "metadata": {
    "collapsed": true
   },
   "outputs": [],
   "source": [
    "final_output_sequence = np.concatenate(successive_outputs)"
   ]
  },
  {
   "cell_type": "code",
   "execution_count": 78,
   "metadata": {},
   "outputs": [
    {
     "name": "stdout",
     "output_type": "stream",
     "text": [
      "Help on built-in function concatenate in module numpy.core.multiarray:\n",
      "\n",
      "concatenate(...)\n",
      "    concatenate((a1, a2, ...), axis=0, out=None)\n",
      "    \n",
      "    Join a sequence of arrays along an existing axis.\n",
      "    \n",
      "    Parameters\n",
      "    ----------\n",
      "    a1, a2, ... : sequence of array_like\n",
      "        The arrays must have the same shape, except in the dimension\n",
      "        corresponding to `axis` (the first, by default).\n",
      "    axis : int, optional\n",
      "        The axis along which the arrays will be joined.  Default is 0.\n",
      "    out : ndarray, optional\n",
      "        If provided, the destination to place the result. The shape must be\n",
      "        correct, matching that of what concatenate would have returned if no\n",
      "        out argument were specified.\n",
      "    \n",
      "    Returns\n",
      "    -------\n",
      "    res : ndarray\n",
      "        The concatenated array.\n",
      "    \n",
      "    See Also\n",
      "    --------\n",
      "    ma.concatenate : Concatenate function that preserves input masks.\n",
      "    array_split : Split an array into multiple sub-arrays of equal or\n",
      "                  near-equal size.\n",
      "    split : Split array into a list of multiple sub-arrays of equal size.\n",
      "    hsplit : Split array into multiple sub-arrays horizontally (column wise)\n",
      "    vsplit : Split array into multiple sub-arrays vertically (row wise)\n",
      "    dsplit : Split array into multiple sub-arrays along the 3rd axis (depth).\n",
      "    stack : Stack a sequence of arrays along a new axis.\n",
      "    hstack : Stack arrays in sequence horizontally (column wise)\n",
      "    vstack : Stack arrays in sequence vertically (row wise)\n",
      "    dstack : Stack arrays in sequence depth wise (along third dimension)\n",
      "    \n",
      "    Notes\n",
      "    -----\n",
      "    When one or more of the arrays to be concatenated is a MaskedArray,\n",
      "    this function will return a MaskedArray object instead of an ndarray,\n",
      "    but the input masks are *not* preserved. In cases where a MaskedArray\n",
      "    is expected as input, use the ma.concatenate function from the masked\n",
      "    array module instead.\n",
      "    \n",
      "    Examples\n",
      "    --------\n",
      "    >>> a = np.array([[1, 2], [3, 4]])\n",
      "    >>> b = np.array([[5, 6]])\n",
      "    >>> np.concatenate((a, b), axis=0)\n",
      "    array([[1, 2],\n",
      "           [3, 4],\n",
      "           [5, 6]])\n",
      "    >>> np.concatenate((a, b.T), axis=1)\n",
      "    array([[1, 2, 5],\n",
      "           [3, 4, 6]])\n",
      "    \n",
      "    This function will not preserve masking of MaskedArray inputs.\n",
      "    \n",
      "    >>> a = np.ma.arange(3)\n",
      "    >>> a[1] = np.ma.masked\n",
      "    >>> b = np.arange(2, 5)\n",
      "    >>> a\n",
      "    masked_array(data = [0 -- 2],\n",
      "                 mask = [False  True False],\n",
      "           fill_value = 999999)\n",
      "    >>> b\n",
      "    array([2, 3, 4])\n",
      "    >>> np.concatenate([a, b])\n",
      "    masked_array(data = [0 1 2 2 3 4],\n",
      "                 mask = False,\n",
      "           fill_value = 999999)\n",
      "    >>> np.ma.concatenate([a, b])\n",
      "    masked_array(data = [0 -- 2 2 3 4],\n",
      "                 mask = [False  True False False False False],\n",
      "           fill_value = 999999)\n",
      "\n"
     ]
    }
   ],
   "source": [
    "help(np.concatenate)"
   ]
  },
  {
   "cell_type": "code",
   "execution_count": 71,
   "metadata": {},
   "outputs": [
    {
     "data": {
      "text/plain": [
       "array([1., 1., 1., 1., 1., 1., 1., 1., 1., 1., 1., 1., 1., 1., 1., 1., 1.,\n",
       "       1., 1., 1., 1., 1., 1., 1., 1., 1., 1., 1., 1., 1., 1., 1., 1., 1.,\n",
       "       1., 1., 1., 1., 1., 1., 1., 1., 1., 1., 1., 1., 1., 1., 1., 1., 1.,\n",
       "       1., 1., 1., 1., 1., 1., 1., 1., 1., 1., 1., 1., 1.])"
      ]
     },
     "execution_count": 71,
     "metadata": {},
     "output_type": "execute_result"
    }
   ],
   "source": [
    "successive_outputs[10]"
   ]
  },
  {
   "cell_type": "code",
   "execution_count": 372,
   "metadata": {},
   "outputs": [
    {
     "name": "stdout",
     "output_type": "stream",
     "text": [
      "_________________________________________________________________\n",
      "Layer (type)                 Output Shape              Param #   \n",
      "=================================================================\n",
      "embedding_56 (Embedding)     (None, None, 20)          20000     \n",
      "=================================================================\n",
      "Total params: 20,000\n",
      "Trainable params: 20,000\n",
      "Non-trainable params: 0\n",
      "_________________________________________________________________\n"
     ]
    },
    {
     "data": {
      "text/plain": [
       "array([[[ 0.00552947,  0.00741323, -0.04760349, -0.0357605 ,\n",
       "         -0.03826521,  0.04601723,  0.04426154,  0.03770019,\n",
       "          0.03652148,  0.02400235,  0.04818506,  0.00805304,\n",
       "          0.00071121, -0.04867144,  0.04791271, -0.03393983,\n",
       "         -0.00074543, -0.00143762, -0.00656271, -0.04863037]],\n",
       "\n",
       "       [[-0.02023538, -0.04999004, -0.01456755, -0.01121463,\n",
       "         -0.00063679, -0.04738454, -0.03420961,  0.02702988,\n",
       "         -0.02003564,  0.01151608, -0.03017124,  0.01974727,\n",
       "         -0.00183847,  0.03096762, -0.02266523,  0.01507797,\n",
       "          0.04403332, -0.04952238,  0.03497552,  0.03061134]],\n",
       "\n",
       "       [[ 0.04285243,  0.0152581 , -0.00261644, -0.03469469,\n",
       "          0.03036827, -0.00658343,  0.02851175,  0.0008593 ,\n",
       "         -0.04643569,  0.01648004, -0.00185744,  0.04692516,\n",
       "         -0.0201607 ,  0.02856102,  0.0199197 ,  0.0333828 ,\n",
       "         -0.01916257, -0.01185334, -0.00810208,  0.02571747]],\n",
       "\n",
       "       [[ 0.0417465 , -0.03060718,  0.03360845, -0.04505354,\n",
       "         -0.04114091, -0.02748556,  0.0021053 , -0.02254272,\n",
       "         -0.01030854, -0.02818782,  0.00092875, -0.02063241,\n",
       "         -0.02713611, -0.04804897,  0.02708909, -0.04245366,\n",
       "         -0.02516945,  0.01814399,  0.04622035,  0.00249261]],\n",
       "\n",
       "       [[-0.02712884, -0.00966455,  0.00651179,  0.0353415 ,\n",
       "          0.04018435,  0.03561955, -0.04391351, -0.02543051,\n",
       "         -0.03165825, -0.0342111 ,  0.00058331, -0.01279096,\n",
       "          0.00212689,  0.03473771,  0.02022358, -0.03570042,\n",
       "          0.04209048,  0.01577325,  0.04666181, -0.04962224]]],\n",
       "      dtype=float32)"
      ]
     },
     "execution_count": 372,
     "metadata": {},
     "output_type": "execute_result"
    }
   ],
   "source": [
    "# from keras.models import Sequential\n",
    "from keras.layers import Embedding, SimpleRNN\n",
    "from keras import layers\n",
    "from keras.optimizers import RMSprop\n",
    "model = Sequential()\n",
    "model.add(Embedding(1000, 20))\n",
    "# the model will take as input an integer matrix of size (batch, input_length).\n",
    "# the largest integer (i.e. word index) in the input should be no larger than 999 (vocabulary size).\n",
    "# now model.output_shape == (None, 10, 64), where None is the batch dimension.\n",
    "#model.add(LSTM(10))\n",
    "\n",
    "input_array = np.random.randint(1000, size=(32,5))\n",
    "\n",
    "#model.compile('rmsprop', 'mse')\n",
    "output_array = model.predict(input_array[0,:])\n",
    "model.summary()\n",
    "output_array"
   ]
  },
  {
   "cell_type": "code",
   "execution_count": 132,
   "metadata": {
    "collapsed": true
   },
   "outputs": [],
   "source": [
    "def generator(data, lookback, delay, min_index, max_index,\n",
    "shuffle=False, batch_size=128, step=6):\n",
    "    if max_index is None:\n",
    "        max_index = len(data) - delay - 1\n",
    "        i = min_index + lookback\n",
    "    while 1:\n",
    "        if shuffle:\n",
    "            rows = np.random.randint(\n",
    "            min_index + lookback, max_index, size=batch_size)\n",
    "        else:\n",
    "            if i + batch_size >= max_index:\n",
    "                i = min_index + lookback\n",
    "            rows = np.arange(i, min(i + batch_size, max_index))\n",
    "            i += len(rows)\n",
    "        samples = np.zeros((len(rows),\n",
    "        lookback // step,\n",
    "        data.shape[-1]))\n",
    "        targets = np.zeros((len(rows),))\n",
    "        for j, row in enumerate(rows):\n",
    "            indices = range(rows[j] - lookback, rows[j], step)\n",
    "            samples[j] = data[indices]\n",
    "            targets[j] = data[rows[j] + delay][1]\n",
    "        print(samples.shape)\n",
    "        print(samples)\n",
    "        print(targets)\n",
    "        return samples, targets"
   ]
  },
  {
   "cell_type": "code",
   "execution_count": 366,
   "metadata": {},
   "outputs": [
    {
     "name": "stdout",
     "output_type": "stream",
     "text": [
      "input_42 Tensor(\"input_42:0\", shape=(?, 10), dtype=float32)\n",
      "d1 Tensor(\"d1_3/Relu:0\", shape=(?, 32), dtype=float32)\n",
      "d2 Tensor(\"d2_3/BiasAdd:0\", shape=(?, 32), dtype=float32)\n",
      "out Tensor(\"out_3/Sigmoid:0\", shape=(?, 1), dtype=float32)\n"
     ]
    },
    {
     "data": {
      "text/plain": [
       "<tf.Tensor 'input_42:0' shape=(?, 10) dtype=float32>"
      ]
     },
     "execution_count": 366,
     "metadata": {},
     "output_type": "execute_result"
    }
   ],
   "source": [
    "inputs = layers.Input(shape=(10,))\n",
    "x = layers.Dense(32,activation='relu',name=\"d1\")(inputs)\n",
    "x = layers.Dense(32,name=\"d2\")(x)\n",
    "outputs = layers.Dense(1,activation='sigmoid',name=\"out\")(x)\n",
    "model = Model(inputs,outputs)\n",
    "for ly in model.layers:\n",
    "    print(ly.name,ly.output)\n",
    "    \n",
    "model.get_layer('d1').input"
   ]
  },
  {
   "cell_type": "code",
   "execution_count": 156,
   "metadata": {},
   "outputs": [
    {
     "name": "stdout",
     "output_type": "stream",
     "text": [
      "Alive Workers: 0\n",
      "Cores in use: 0 Total, 0 Used\n",
      "Memory in use: 0.0 B Total, 0.0 B Used\n",
      "Applications: 0 Running, 1 Completed\n",
      "Drivers: 1 Running, 0 Completed \n"
     ]
    }
   ],
   "source": [
    "text = open(\"e:\\\\tmp\\\\fq.txt\").read()\n",
    "print(text)"
   ]
  },
  {
   "cell_type": "code",
   "execution_count": 158,
   "metadata": {},
   "outputs": [
    {
     "name": "stdout",
     "output_type": "stream",
     "text": [
      "Number of sequences: 32\n"
     ]
    }
   ],
   "source": [
    "maxlen = 60\n",
    "# We sample a new sequence every `step` characters\n",
    "step = 3\n",
    "# This holds our extracted sequences\n",
    "sentences = []\n",
    "# This holds the targets (the follow-up characters)\n",
    "next_chars = []\n",
    "for i in range(0, len(text) - maxlen, step):\n",
    "    sentences.append(text[i: i + maxlen])\n",
    "    next_chars.append(text[i + maxlen])\n",
    "print('Number of sequences:', len(sentences))"
   ]
  },
  {
   "cell_type": "code",
   "execution_count": 163,
   "metadata": {},
   "outputs": [
    {
     "name": "stdout",
     "output_type": "stream",
     "text": [
      "Unique characters: 34\n"
     ]
    }
   ],
   "source": [
    "chars = sorted(list(set(text)))\n",
    "print('Unique characters:', len(chars))\n",
    "# Dictionary mapping unique characters to their index in `chars`\n",
    "char_indices = dict((char, chars.index(char)) for char in chars)"
   ]
  },
  {
   "cell_type": "code",
   "execution_count": 168,
   "metadata": {},
   "outputs": [
    {
     "name": "stdout",
     "output_type": "stream",
     "text": [
      "Vectorization...\n"
     ]
    }
   ],
   "source": [
    "print('Vectorization...')\n",
    "x = np.zeros((len(sentences), maxlen, len(chars)), dtype=np.bool)\n",
    "y = np.zeros((len(sentences), len(chars)), dtype=np.bool)\n",
    "for i, sentence in enumerate(sentences):\n",
    "    for t, char in enumerate(sentence):\n",
    "        x[i, t, char_indices[char]] = 1\n",
    "    y[i, char_indices[next_chars[i]]] = 1"
   ]
  },
  {
   "cell_type": "code",
   "execution_count": 176,
   "metadata": {},
   "outputs": [
    {
     "name": "stdout",
     "output_type": "stream",
     "text": [
      "0 A\n",
      "1 l\n",
      "2 i\n",
      "3 v\n",
      "4 e\n",
      "5  \n",
      "6 W\n",
      "7 o\n",
      "8 r\n",
      "9 k\n"
     ]
    }
   ],
   "source": [
    "for i, char in enumerate('Alive Work'):\n",
    "    print(i,char)"
   ]
  },
  {
   "cell_type": "code",
   "execution_count": 180,
   "metadata": {},
   "outputs": [
    {
     "data": {
      "text/plain": [
       "(32, 60, 34)"
      ]
     },
     "execution_count": 180,
     "metadata": {},
     "output_type": "execute_result"
    }
   ],
   "source": [
    "x.shape"
   ]
  },
  {
   "cell_type": "code",
   "execution_count": 179,
   "metadata": {},
   "outputs": [
    {
     "data": {
      "text/plain": [
       "(32, 34)"
      ]
     },
     "execution_count": 179,
     "metadata": {},
     "output_type": "execute_result"
    }
   ],
   "source": [
    "y.shape"
   ]
  },
  {
   "cell_type": "code",
   "execution_count": 243,
   "metadata": {},
   "outputs": [
    {
     "name": "stdout",
     "output_type": "stream",
     "text": [
      "(28, 28)\n"
     ]
    }
   ],
   "source": [
    "print(x_train.shape[1:])"
   ]
  },
  {
   "cell_type": "code",
   "execution_count": 251,
   "metadata": {},
   "outputs": [
    {
     "name": "stdout",
     "output_type": "stream",
     "text": [
      "x_train shape: (60000, 28, 28, 1)\n",
      "60000 train samples\n",
      "10000 test samples\n",
      "Train on 60000 samples, validate on 10000 samples\n",
      "Epoch 1/12\n",
      "60000/60000 [==============================] - 199s 3ms/step - loss: 0.2528 - acc: 0.9225 - val_loss: 0.0612 - val_acc: 0.9796\n",
      "Epoch 2/12\n",
      "60000/60000 [==============================] - 192s 3ms/step - loss: 0.0874 - acc: 0.9745 - val_loss: 0.0433 - val_acc: 0.9854\n",
      "Epoch 3/12\n",
      "60000/60000 [==============================] - 193s 3ms/step - loss: 0.0659 - acc: 0.9802 - val_loss: 0.0326 - val_acc: 0.9875\n",
      "Epoch 4/12\n",
      "60000/60000 [==============================] - 193s 3ms/step - loss: 0.0555 - acc: 0.9830 - val_loss: 0.0286 - val_acc: 0.9902\n",
      "Epoch 5/12\n",
      "60000/60000 [==============================] - 191s 3ms/step - loss: 0.0479 - acc: 0.9859 - val_loss: 0.0334 - val_acc: 0.9887\n",
      "Epoch 6/12\n",
      "60000/60000 [==============================] - 192s 3ms/step - loss: 0.0413 - acc: 0.9872 - val_loss: 0.0257 - val_acc: 0.9917\n",
      "Epoch 7/12\n",
      "60000/60000 [==============================] - 191s 3ms/step - loss: 0.0356 - acc: 0.9892 - val_loss: 0.0252 - val_acc: 0.9908\n",
      "Epoch 8/12\n",
      "60000/60000 [==============================] - 191s 3ms/step - loss: 0.0346 - acc: 0.9893 - val_loss: 0.0259 - val_acc: 0.9908\n",
      "Epoch 9/12\n",
      "60000/60000 [==============================] - 192s 3ms/step - loss: 0.0305 - acc: 0.9906 - val_loss: 0.0251 - val_acc: 0.9919\n",
      "Epoch 10/12\n",
      "60000/60000 [==============================] - 193s 3ms/step - loss: 0.0292 - acc: 0.9912 - val_loss: 0.0239 - val_acc: 0.9916\n",
      "Epoch 11/12\n",
      "60000/60000 [==============================] - 198s 3ms/step - loss: 0.0269 - acc: 0.9917 - val_loss: 0.0290 - val_acc: 0.9911\n",
      "Epoch 12/12\n",
      "60000/60000 [==============================] - 197s 3ms/step - loss: 0.0257 - acc: 0.9918 - val_loss: 0.0245 - val_acc: 0.9922\n",
      "Test loss: 0.0245376726377428\n",
      "Test accuracy: 0.9922\n"
     ]
    }
   ],
   "source": [
    "from __future__ import print_function\n",
    "import keras\n",
    "from keras.datasets import mnist\n",
    "from keras.models import Sequential\n",
    "from keras.layers import Dense, Dropout, Flatten\n",
    "from keras.layers import Conv2D, MaxPooling2D\n",
    "from keras import backend as K\n",
    "\n",
    "batch_size = 128\n",
    "num_classes = 10\n",
    "epochs = 12\n",
    "\n",
    "# input image dimensions\n",
    "img_rows, img_cols = 28, 28\n",
    "\n",
    "# the data, shuffled and split between train and test sets\n",
    "(x_train, y_train), (x_test, y_test) = mnist.load_data()\n",
    "\n",
    "if K.image_data_format() == 'channels_first':\n",
    "    x_train = x_train.reshape(x_train.shape[0], 1, img_rows, img_cols)\n",
    "    x_test = x_test.reshape(x_test.shape[0], 1, img_rows, img_cols)\n",
    "    input_shape = (1, img_rows, img_cols)\n",
    "else:\n",
    "    x_train = x_train.reshape(x_train.shape[0], img_rows, img_cols, 1)\n",
    "    x_test = x_test.reshape(x_test.shape[0], img_rows, img_cols, 1)\n",
    "    input_shape = (img_rows, img_cols, 1)\n",
    "\n",
    "x_train = x_train.astype('float32')\n",
    "x_test = x_test.astype('float32')\n",
    "x_train /= 255\n",
    "x_test /= 255\n",
    "print('x_train shape:', x_train.shape)\n",
    "print(x_train.shape[0], 'train samples')\n",
    "print(x_test.shape[0], 'test samples')\n",
    "\n",
    "# convert class vectors to binary class matrices\n",
    "y_train = keras.utils.to_categorical(y_train, num_classes)\n",
    "y_test = keras.utils.to_categorical(y_test, num_classes)\n",
    "\n",
    "model = Sequential()\n",
    "model.add(Conv2D(32, kernel_size=(3, 3),\n",
    "                 activation='relu',\n",
    "                 input_shape=input_shape))\n",
    "model.add(Conv2D(64, (3, 3), activation='relu'))\n",
    "model.add(MaxPooling2D(pool_size=(2, 2)))\n",
    "model.add(Dropout(0.25))\n",
    "model.add(Flatten())\n",
    "model.add(Dense(128, activation='relu'))\n",
    "model.add(Dropout(0.5))\n",
    "model.add(Dense(num_classes, activation='softmax'))\n",
    "\n",
    "model.compile(loss=keras.losses.categorical_crossentropy,\n",
    "              optimizer=keras.optimizers.Adadelta(),\n",
    "              metrics=['accuracy'])\n",
    "\n",
    "hist = model.fit(x_train, y_train,\n",
    "          batch_size=batch_size,\n",
    "          epochs=epochs,\n",
    "          verbose=1,\n",
    "          validation_data=(x_test, y_test))\n",
    "score = model.evaluate(x_test, y_test, verbose=0)\n",
    "print('Test loss:', score[0])\n",
    "print('Test accuracy:', score[1])"
   ]
  },
  {
   "cell_type": "code",
   "execution_count": 257,
   "metadata": {},
   "outputs": [
    {
     "data": {
      "text/plain": [
       "<matplotlib.legend.Legend at 0xe4fe00c320>"
      ]
     },
     "execution_count": 257,
     "metadata": {},
     "output_type": "execute_result"
    },
    {
     "data": {
      "image/png": "[encoded data removed]",
      "text/plain": [
       "<matplotlib.figure.Figure at 0xe4a15ffcc0>"
      ]
     },
     "metadata": {},
     "output_type": "display_data"
    }
   ],
   "source": [
    "plt.plot(hist.history['loss'],label='train')\n",
    "plt.plot(hist.history['val_loss'],label='val')\n",
    "plt.legend()"
   ]
  },
  {
   "cell_type": "code",
   "execution_count": 260,
   "metadata": {},
   "outputs": [
    {
     "data": {
      "text/plain": [
       "<tf.Tensor 'dense_80/Softmax:0' shape=(?, 10) dtype=float32>"
      ]
     },
     "execution_count": 260,
     "metadata": {},
     "output_type": "execute_result"
    }
   ],
   "source": [
    "model.output"
   ]
  },
  {
   "cell_type": "code",
   "execution_count": 339,
   "metadata": {},
   "outputs": [
    {
     "name": "stdout",
     "output_type": "stream",
     "text": [
      "[array([[[[0.        , 0.        , 0.        , ..., 0.00501646,\n",
      "          0.00721313, 0.01070498],\n",
      "         [0.        , 0.        , 0.        , ..., 0.00501646,\n",
      "          0.00721313, 0.01070498],\n",
      "         [0.        , 0.        , 0.        , ..., 0.00501646,\n",
      "          0.00721313, 0.01070498],\n",
      "         ...,\n",
      "         [0.        , 0.        , 0.        , ..., 0.00501646,\n",
      "          0.00721313, 0.01070498],\n",
      "         [0.        , 0.        , 0.        , ..., 0.00501646,\n",
      "          0.00721313, 0.01070498],\n",
      "         [0.        , 0.        , 0.        , ..., 0.00501646,\n",
      "          0.00721313, 0.01070498]],\n",
      "\n",
      "        [[0.        , 0.        , 0.        , ..., 0.00501646,\n",
      "          0.00721313, 0.01070498],\n",
      "         [0.        , 0.        , 0.        , ..., 0.00501646,\n",
      "          0.00721313, 0.01070498],\n",
      "         [0.        , 0.        , 0.        , ..., 0.00501646,\n",
      "          0.00721313, 0.01070498],\n",
      "         ...,\n",
      "         [0.        , 0.        , 0.        , ..., 0.00501646,\n",
      "          0.00721313, 0.01070498],\n",
      "         [0.        , 0.        , 0.        , ..., 0.00501646,\n",
      "          0.00721313, 0.01070498],\n",
      "         [0.        , 0.        , 0.        , ..., 0.00501646,\n",
      "          0.00721313, 0.01070498]],\n",
      "\n",
      "        [[0.        , 0.        , 0.        , ..., 0.00501646,\n",
      "          0.00721313, 0.01070498],\n",
      "         [0.        , 0.        , 0.        , ..., 0.00501646,\n",
      "          0.00721313, 0.01070498],\n",
      "         [0.        , 0.        , 0.        , ..., 0.00501646,\n",
      "          0.00721313, 0.01070498],\n",
      "         ...,\n",
      "         [0.        , 0.        , 0.        , ..., 0.00501646,\n",
      "          0.00721313, 0.01070498],\n",
      "         [0.        , 0.        , 0.        , ..., 0.00501646,\n",
      "          0.00721313, 0.01070498],\n",
      "         [0.        , 0.        , 0.        , ..., 0.00501646,\n",
      "          0.00721313, 0.01070498]],\n",
      "\n",
      "        ...,\n",
      "\n",
      "        [[0.        , 0.        , 0.        , ..., 0.00501646,\n",
      "          0.00721313, 0.01070498],\n",
      "         [0.        , 0.        , 0.        , ..., 0.00501646,\n",
      "          0.00721313, 0.01070498],\n",
      "         [0.        , 0.        , 0.        , ..., 0.00501646,\n",
      "          0.00721313, 0.01070498],\n",
      "         ...,\n",
      "         [0.        , 0.        , 0.        , ..., 0.00501646,\n",
      "          0.00721313, 0.01070498],\n",
      "         [0.        , 0.        , 0.        , ..., 0.00501646,\n",
      "          0.00721313, 0.01070498],\n",
      "         [0.        , 0.        , 0.        , ..., 0.00501646,\n",
      "          0.00721313, 0.01070498]],\n",
      "\n",
      "        [[0.        , 0.        , 0.        , ..., 0.00501646,\n",
      "          0.00721313, 0.01070498],\n",
      "         [0.        , 0.        , 0.        , ..., 0.00501646,\n",
      "          0.00721313, 0.01070498],\n",
      "         [0.        , 0.        , 0.        , ..., 0.00501646,\n",
      "          0.00721313, 0.01070498],\n",
      "         ...,\n",
      "         [0.        , 0.        , 0.        , ..., 0.00501646,\n",
      "          0.00721313, 0.01070498],\n",
      "         [0.        , 0.        , 0.        , ..., 0.00501646,\n",
      "          0.00721313, 0.01070498],\n",
      "         [0.        , 0.        , 0.        , ..., 0.00501646,\n",
      "          0.00721313, 0.01070498]],\n",
      "\n",
      "        [[0.        , 0.        , 0.        , ..., 0.00501646,\n",
      "          0.00721313, 0.01070498],\n",
      "         [0.        , 0.        , 0.        , ..., 0.00501646,\n",
      "          0.00721313, 0.01070498],\n",
      "         [0.        , 0.        , 0.        , ..., 0.00501646,\n",
      "          0.00721313, 0.01070498],\n",
      "         ...,\n",
      "         [0.        , 0.        , 0.        , ..., 0.00501646,\n",
      "          0.00721313, 0.01070498],\n",
      "         [0.        , 0.        , 0.        , ..., 0.00501646,\n",
      "          0.00721313, 0.01070498],\n",
      "         [0.        , 0.        , 0.        , ..., 0.00501646,\n",
      "          0.00721313, 0.01070498]]]], dtype=float32), array([[[[0., 0., 0., ..., 0., 0., 0.],\n",
      "         [0., 0., 0., ..., 0., 0., 0.],\n",
      "         [0., 0., 0., ..., 0., 0., 0.],\n",
      "         ...,\n",
      "         [0., 0., 0., ..., 0., 0., 0.],\n",
      "         [0., 0., 0., ..., 0., 0., 0.],\n",
      "         [0., 0., 0., ..., 0., 0., 0.]],\n",
      "\n",
      "        [[0., 0., 0., ..., 0., 0., 0.],\n",
      "         [0., 0., 0., ..., 0., 0., 0.],\n",
      "         [0., 0., 0., ..., 0., 0., 0.],\n",
      "         ...,\n",
      "         [0., 0., 0., ..., 0., 0., 0.],\n",
      "         [0., 0., 0., ..., 0., 0., 0.],\n",
      "         [0., 0., 0., ..., 0., 0., 0.]],\n",
      "\n",
      "        [[0., 0., 0., ..., 0., 0., 0.],\n",
      "         [0., 0., 0., ..., 0., 0., 0.],\n",
      "         [0., 0., 0., ..., 0., 0., 0.],\n",
      "         ...,\n",
      "         [0., 0., 0., ..., 0., 0., 0.],\n",
      "         [0., 0., 0., ..., 0., 0., 0.],\n",
      "         [0., 0., 0., ..., 0., 0., 0.]],\n",
      "\n",
      "        ...,\n",
      "\n",
      "        [[0., 0., 0., ..., 0., 0., 0.],\n",
      "         [0., 0., 0., ..., 0., 0., 0.],\n",
      "         [0., 0., 0., ..., 0., 0., 0.],\n",
      "         ...,\n",
      "         [0., 0., 0., ..., 0., 0., 0.],\n",
      "         [0., 0., 0., ..., 0., 0., 0.],\n",
      "         [0., 0., 0., ..., 0., 0., 0.]],\n",
      "\n",
      "        [[0., 0., 0., ..., 0., 0., 0.],\n",
      "         [0., 0., 0., ..., 0., 0., 0.],\n",
      "         [0., 0., 0., ..., 0., 0., 0.],\n",
      "         ...,\n",
      "         [0., 0., 0., ..., 0., 0., 0.],\n",
      "         [0., 0., 0., ..., 0., 0., 0.],\n",
      "         [0., 0., 0., ..., 0., 0., 0.]],\n",
      "\n",
      "        [[0., 0., 0., ..., 0., 0., 0.],\n",
      "         [0., 0., 0., ..., 0., 0., 0.],\n",
      "         [0., 0., 0., ..., 0., 0., 0.],\n",
      "         ...,\n",
      "         [0., 0., 0., ..., 0., 0., 0.],\n",
      "         [0., 0., 0., ..., 0., 0., 0.],\n",
      "         [0., 0., 0., ..., 0., 0., 0.]]]], dtype=float32), array([[[[0.        , 0.        , 0.        , ..., 0.        ,\n",
      "          0.        , 0.        ],\n",
      "         [0.        , 0.        , 0.        , ..., 0.        ,\n",
      "          0.        , 0.        ],\n",
      "         [0.        , 0.        , 0.        , ..., 0.        ,\n",
      "          0.        , 0.        ],\n",
      "         ...,\n",
      "         [0.        , 0.        , 0.        , ..., 0.        ,\n",
      "          0.        , 0.        ],\n",
      "         [0.        , 0.        , 0.        , ..., 0.        ,\n",
      "          0.        , 0.        ],\n",
      "         [0.        , 0.        , 0.        , ..., 0.        ,\n",
      "          0.        , 0.        ]],\n",
      "\n",
      "        [[0.        , 0.        , 0.        , ..., 0.        ,\n",
      "          0.        , 0.        ],\n",
      "         [0.        , 0.        , 0.        , ..., 0.        ,\n",
      "          0.        , 0.0390956 ],\n",
      "         [0.        , 0.        , 0.        , ..., 0.        ,\n",
      "          0.        , 0.6165526 ],\n",
      "         ...,\n",
      "         [0.        , 0.        , 0.        , ..., 0.        ,\n",
      "          0.        , 0.        ],\n",
      "         [0.        , 0.        , 0.        , ..., 0.        ,\n",
      "          0.        , 0.        ],\n",
      "         [0.        , 0.        , 0.        , ..., 0.        ,\n",
      "          0.        , 0.        ]],\n",
      "\n",
      "        [[0.        , 0.        , 0.        , ..., 0.        ,\n",
      "          0.        , 0.        ],\n",
      "         [0.02325463, 0.1564482 , 0.03304689, ..., 0.        ,\n",
      "          0.12086144, 0.        ],\n",
      "         [0.17539501, 0.        , 0.        , ..., 0.        ,\n",
      "          0.        , 1.3506753 ],\n",
      "         ...,\n",
      "         [0.        , 0.        , 0.        , ..., 0.        ,\n",
      "          0.        , 1.5428543 ],\n",
      "         [0.        , 0.        , 0.        , ..., 0.        ,\n",
      "          0.        , 0.37603027],\n",
      "         [0.        , 0.        , 0.        , ..., 0.        ,\n",
      "          0.        , 0.        ]],\n",
      "\n",
      "        ...,\n",
      "\n",
      "        [[0.        , 0.        , 0.        , ..., 0.        ,\n",
      "          0.        , 0.        ],\n",
      "         [0.        , 0.        , 0.        , ..., 0.        ,\n",
      "          0.        , 0.        ],\n",
      "         [0.        , 0.        , 0.        , ..., 0.        ,\n",
      "          0.        , 0.        ],\n",
      "         ...,\n",
      "         [0.        , 0.        , 0.        , ..., 0.        ,\n",
      "          0.        , 0.        ],\n",
      "         [0.        , 0.        , 0.        , ..., 0.        ,\n",
      "          0.        , 0.        ],\n",
      "         [0.        , 0.        , 0.        , ..., 0.        ,\n",
      "          0.        , 0.        ]],\n",
      "\n",
      "        [[0.        , 0.        , 0.        , ..., 0.        ,\n",
      "          0.        , 0.        ],\n",
      "         [0.        , 0.        , 0.        , ..., 0.        ,\n",
      "          0.        , 0.        ],\n",
      "         [0.        , 0.        , 0.        , ..., 0.        ,\n",
      "          0.        , 0.        ],\n",
      "         ...,\n",
      "         [0.        , 0.        , 0.        , ..., 0.        ,\n",
      "          0.        , 0.        ],\n",
      "         [0.        , 0.        , 0.        , ..., 0.        ,\n",
      "          0.        , 0.        ],\n",
      "         [0.        , 0.        , 0.        , ..., 0.        ,\n",
      "          0.        , 0.        ]],\n",
      "\n",
      "        [[0.        , 0.        , 0.        , ..., 0.        ,\n",
      "          0.        , 0.        ],\n",
      "         [0.        , 0.        , 0.        , ..., 0.        ,\n",
      "          0.        , 0.        ],\n",
      "         [0.        , 0.        , 0.        , ..., 0.        ,\n",
      "          0.        , 0.        ],\n",
      "         ...,\n",
      "         [0.        , 0.        , 0.        , ..., 0.        ,\n",
      "          0.        , 0.        ],\n",
      "         [0.        , 0.        , 0.        , ..., 0.        ,\n",
      "          0.        , 0.        ],\n",
      "         [0.        , 0.        , 0.        , ..., 0.        ,\n",
      "          0.        , 0.        ]]]], dtype=float32), array([[[[0.        , 0.        , 0.        , ..., 0.        ,\n",
      "          0.        , 0.        ],\n",
      "         [0.        , 0.        , 0.        , ..., 0.        ,\n",
      "          0.        , 0.        ],\n",
      "         [0.        , 0.        , 0.        , ..., 0.        ,\n",
      "          0.        , 0.        ],\n",
      "         ...,\n",
      "         [0.        , 0.        , 0.        , ..., 0.        ,\n",
      "          0.        , 0.        ],\n",
      "         [0.        , 0.        , 0.        , ..., 0.        ,\n",
      "          0.        , 0.        ],\n",
      "         [0.        , 0.        , 0.        , ..., 0.        ,\n",
      "          0.        , 0.        ]],\n",
      "\n",
      "        [[0.        , 0.        , 0.        , ..., 0.        ,\n",
      "          0.        , 0.        ],\n",
      "         [0.        , 0.        , 0.        , ..., 0.        ,\n",
      "          0.        , 0.0390956 ],\n",
      "         [0.        , 0.        , 0.        , ..., 0.        ,\n",
      "          0.        , 0.6165526 ],\n",
      "         ...,\n",
      "         [0.        , 0.        , 0.        , ..., 0.        ,\n",
      "          0.        , 0.        ],\n",
      "         [0.        , 0.        , 0.        , ..., 0.        ,\n",
      "          0.        , 0.        ],\n",
      "         [0.        , 0.        , 0.        , ..., 0.        ,\n",
      "          0.        , 0.        ]],\n",
      "\n",
      "        [[0.        , 0.        , 0.        , ..., 0.        ,\n",
      "          0.        , 0.        ],\n",
      "         [0.02325463, 0.1564482 , 0.03304689, ..., 0.        ,\n",
      "          0.12086144, 0.        ],\n",
      "         [0.17539501, 0.        , 0.        , ..., 0.        ,\n",
      "          0.        , 1.3506753 ],\n",
      "         ...,\n",
      "         [0.        , 0.        , 0.        , ..., 0.        ,\n",
      "          0.        , 1.5428543 ],\n",
      "         [0.        , 0.        , 0.        , ..., 0.        ,\n",
      "          0.        , 0.37603027],\n",
      "         [0.        , 0.        , 0.        , ..., 0.        ,\n",
      "          0.        , 0.        ]],\n",
      "\n",
      "        ...,\n",
      "\n",
      "        [[0.        , 0.        , 0.        , ..., 0.        ,\n",
      "          0.        , 0.        ],\n",
      "         [0.        , 0.        , 0.        , ..., 0.        ,\n",
      "          0.        , 0.        ],\n",
      "         [0.        , 0.        , 0.        , ..., 0.        ,\n",
      "          0.        , 0.        ],\n",
      "         ...,\n",
      "         [0.        , 0.        , 0.        , ..., 0.        ,\n",
      "          0.        , 0.        ],\n",
      "         [0.        , 0.        , 0.        , ..., 0.        ,\n",
      "          0.        , 0.        ],\n",
      "         [0.        , 0.        , 0.        , ..., 0.        ,\n",
      "          0.        , 0.        ]],\n",
      "\n",
      "        [[0.        , 0.        , 0.        , ..., 0.        ,\n",
      "          0.        , 0.        ],\n",
      "         [0.        , 0.        , 0.        , ..., 0.        ,\n",
      "          0.        , 0.        ],\n",
      "         [0.        , 0.        , 0.        , ..., 0.        ,\n",
      "          0.        , 0.        ],\n",
      "         ...,\n",
      "         [0.        , 0.        , 0.        , ..., 0.        ,\n",
      "          0.        , 0.        ],\n",
      "         [0.        , 0.        , 0.        , ..., 0.        ,\n",
      "          0.        , 0.        ],\n",
      "         [0.        , 0.        , 0.        , ..., 0.        ,\n",
      "          0.        , 0.        ]],\n",
      "\n",
      "        [[0.        , 0.        , 0.        , ..., 0.        ,\n",
      "          0.        , 0.        ],\n",
      "         [0.        , 0.        , 0.        , ..., 0.        ,\n",
      "          0.        , 0.        ],\n",
      "         [0.        , 0.        , 0.        , ..., 0.        ,\n",
      "          0.        , 0.        ],\n",
      "         ...,\n",
      "         [0.        , 0.        , 0.        , ..., 0.        ,\n",
      "          0.        , 0.        ],\n",
      "         [0.        , 0.        , 0.        , ..., 0.        ,\n",
      "          0.        , 0.        ],\n",
      "         [0.        , 0.        , 0.        , ..., 0.        ,\n",
      "          0.        , 0.        ]]]], dtype=float32), array([[0., 0., 0., ..., 0., 0., 0.]], dtype=float32), array([[0.        , 0.        , 0.        , 0.        , 0.        ,\n",
      "        0.        , 2.24511   , 0.        , 0.        , 0.        ,\n",
      "        0.        , 0.        , 0.        , 4.003201  , 0.        ,\n",
      "        2.3218443 , 0.        , 0.        , 0.        , 0.        ,\n",
      "        0.        , 0.        , 5.746978  , 1.4234401 , 0.33559665,\n",
      "        0.        , 0.25642025, 3.0644047 , 0.3440635 , 1.1912448 ,\n",
      "        3.1208928 , 0.        , 0.        , 3.4126472 , 0.        ,\n",
      "        1.3125188 , 0.        , 3.4562922 , 1.2800186 , 0.        ,\n",
      "        0.        , 3.1972797 , 0.        , 0.        , 0.        ,\n",
      "        0.        , 4.0738006 , 0.        , 3.6042016 , 3.284106  ,\n",
      "        0.        , 1.4464817 , 0.        , 2.5104342 , 0.        ,\n",
      "        0.        , 3.5253327 , 3.4383392 , 0.        , 4.913277  ,\n",
      "        0.23843376, 0.        , 0.        , 0.        , 0.        ,\n",
      "        0.        , 0.        , 0.        , 3.918879  , 1.9472399 ,\n",
      "        1.98759   , 1.3473591 , 0.8688482 , 0.        , 0.        ,\n",
      "        0.        , 2.4855926 , 0.        , 0.        , 1.8679845 ,\n",
      "        0.        , 2.2912776 , 0.        , 2.6818469 , 2.1407893 ,\n",
      "        0.        , 2.8312254 , 0.        , 0.74935615, 0.        ,\n",
      "        0.        , 0.        , 0.        , 0.        , 0.        ,\n",
      "        0.        , 0.        , 0.        , 0.        , 0.        ,\n",
      "        1.9406915 , 0.        , 0.        , 0.        , 0.        ,\n",
      "        0.        , 0.        , 0.55490226, 0.        , 0.7227038 ,\n",
      "        2.4885676 , 5.8688083 , 0.        , 3.2146835 , 0.7892963 ,\n",
      "        0.        , 2.5742524 , 0.        , 0.        , 0.        ,\n",
      "        0.8688089 , 0.        , 0.        , 4.4997454 , 4.5751834 ,\n",
      "        0.        , 0.        , 0.        ]], dtype=float32), array([[0.        , 0.        , 0.        , 0.        , 0.        ,\n",
      "        0.        , 2.24511   , 0.        , 0.        , 0.        ,\n",
      "        0.        , 0.        , 0.        , 4.003201  , 0.        ,\n",
      "        2.3218443 , 0.        , 0.        , 0.        , 0.        ,\n",
      "        0.        , 0.        , 5.746978  , 1.4234401 , 0.33559665,\n",
      "        0.        , 0.25642025, 3.0644047 , 0.3440635 , 1.1912448 ,\n",
      "        3.1208928 , 0.        , 0.        , 3.4126472 , 0.        ,\n",
      "        1.3125188 , 0.        , 3.4562922 , 1.2800186 , 0.        ,\n",
      "        0.        , 3.1972797 , 0.        , 0.        , 0.        ,\n",
      "        0.        , 4.0738006 , 0.        , 3.6042016 , 3.284106  ,\n",
      "        0.        , 1.4464817 , 0.        , 2.5104342 , 0.        ,\n",
      "        0.        , 3.5253327 , 3.4383392 , 0.        , 4.913277  ,\n",
      "        0.23843376, 0.        , 0.        , 0.        , 0.        ,\n",
      "        0.        , 0.        , 0.        , 3.918879  , 1.9472399 ,\n",
      "        1.98759   , 1.3473591 , 0.8688482 , 0.        , 0.        ,\n",
      "        0.        , 2.4855926 , 0.        , 0.        , 1.8679845 ,\n",
      "        0.        , 2.2912776 , 0.        , 2.6818469 , 2.1407893 ,\n",
      "        0.        , 2.8312254 , 0.        , 0.74935615, 0.        ,\n",
      "        0.        , 0.        , 0.        , 0.        , 0.        ,\n",
      "        0.        , 0.        , 0.        , 0.        , 0.        ,\n",
      "        1.9406915 , 0.        , 0.        , 0.        , 0.        ,\n",
      "        0.        , 0.        , 0.55490226, 0.        , 0.7227038 ,\n",
      "        2.4885676 , 5.8688083 , 0.        , 3.2146835 , 0.7892963 ,\n",
      "        0.        , 2.5742524 , 0.        , 0.        , 0.        ,\n",
      "        0.8688089 , 0.        , 0.        , 4.4997454 , 4.5751834 ,\n",
      "        0.        , 0.        , 0.        ]], dtype=float32), array([[1.0365994e-12, 2.1783681e-11, 1.1560651e-10, 8.3074001e-09,\n",
      "        2.7622029e-13, 2.5116263e-12, 6.4297894e-17, 1.0000000e+00,\n",
      "        8.6535285e-14, 6.0935140e-10]], dtype=float32)]\n"
     ]
    }
   ],
   "source": [
    "from keras import models\n",
    "layer_outputs = [layer.output for layer in model.layers]\n",
    "activation_model = models.Model(inputs=model.input,outputs = layer_outputs)\n",
    "st_layer = activation_model.predict(x_test[0].reshape(1,28,28,1))\n",
    "print(st_layer)\n"
   ]
  },
  {
   "cell_type": "code",
   "execution_count": 335,
   "metadata": {},
   "outputs": [
    {
     "data": {
      "text/plain": [
       "[<tf.Tensor 'conv2d_1/Relu:0' shape=(?, 26, 26, 32) dtype=float32>,\n",
       " <tf.Tensor 'conv2d_2/Relu:0' shape=(?, 24, 24, 64) dtype=float32>,\n",
       " <tf.Tensor 'max_pooling2d_1/MaxPool:0' shape=(?, 12, 12, 64) dtype=float32>,\n",
       " <tf.Tensor 'dropout_1/cond/Merge:0' shape=(?, 12, 12, 64) dtype=float32>,\n",
       " <tf.Tensor 'flatten_7/Reshape:0' shape=(?, ?) dtype=float32>,\n",
       " <tf.Tensor 'dense_79/Relu:0' shape=(?, 128) dtype=float32>,\n",
       " <tf.Tensor 'dropout_2/cond/Merge:0' shape=(?, 128) dtype=float32>,\n",
       " <tf.Tensor 'dense_80/Softmax:0' shape=(?, 10) dtype=float32>]"
      ]
     },
     "execution_count": 335,
     "metadata": {},
     "output_type": "execute_result"
    }
   ],
   "source": [
    "layer_outputs"
   ]
  },
  {
   "cell_type": "code",
   "execution_count": 367,
   "metadata": {},
   "outputs": [
    {
     "name": "stdout",
     "output_type": "stream",
     "text": [
      "input_43 Tensor(\"input_43:0\", shape=(?, 224, 224, 3), dtype=float32) Tensor(\"input_43:0\", shape=(?, 224, 224, 3), dtype=float32)\n",
      "conv1 Tensor(\"input_43:0\", shape=(?, 224, 224, 3), dtype=float32) Tensor(\"conv1_2/BiasAdd:0\", shape=(?, 112, 112, 64), dtype=float32)\n",
      "bn_conv1 Tensor(\"conv1_2/BiasAdd:0\", shape=(?, 112, 112, 64), dtype=float32) Tensor(\"bn_conv1_2/cond/Merge:0\", shape=(?, 112, 112, 64), dtype=float32)\n",
      "activation_105 Tensor(\"bn_conv1_2/cond/Merge:0\", shape=(?, 112, 112, 64), dtype=float32) Tensor(\"activation_105/Relu:0\", shape=(?, 112, 112, 64), dtype=float32)\n",
      "max_pooling2d_4 Tensor(\"activation_105/Relu:0\", shape=(?, 112, 112, 64), dtype=float32) Tensor(\"max_pooling2d_4/MaxPool:0\", shape=(?, 55, 55, 64), dtype=float32)\n",
      "res2a_branch2a Tensor(\"max_pooling2d_4/MaxPool:0\", shape=(?, 55, 55, 64), dtype=float32) Tensor(\"res2a_branch2a_2/BiasAdd:0\", shape=(?, 55, 55, 64), dtype=float32)\n",
      "bn2a_branch2a Tensor(\"res2a_branch2a_2/BiasAdd:0\", shape=(?, 55, 55, 64), dtype=float32) Tensor(\"bn2a_branch2a_2/cond/Merge:0\", shape=(?, 55, 55, 64), dtype=float32)\n",
      "activation_106 Tensor(\"bn2a_branch2a_2/cond/Merge:0\", shape=(?, 55, 55, 64), dtype=float32) Tensor(\"activation_106/Relu:0\", shape=(?, 55, 55, 64), dtype=float32)\n",
      "res2a_branch2b Tensor(\"activation_106/Relu:0\", shape=(?, 55, 55, 64), dtype=float32) Tensor(\"res2a_branch2b_2/BiasAdd:0\", shape=(?, 55, 55, 64), dtype=float32)\n",
      "bn2a_branch2b Tensor(\"res2a_branch2b_2/BiasAdd:0\", shape=(?, 55, 55, 64), dtype=float32) Tensor(\"bn2a_branch2b_2/cond/Merge:0\", shape=(?, 55, 55, 64), dtype=float32)\n",
      "activation_107 Tensor(\"bn2a_branch2b_2/cond/Merge:0\", shape=(?, 55, 55, 64), dtype=float32) Tensor(\"activation_107/Relu:0\", shape=(?, 55, 55, 64), dtype=float32)\n",
      "res2a_branch2c Tensor(\"activation_107/Relu:0\", shape=(?, 55, 55, 64), dtype=float32) Tensor(\"res2a_branch2c_2/BiasAdd:0\", shape=(?, 55, 55, 256), dtype=float32)\n",
      "res2a_branch1 Tensor(\"max_pooling2d_4/MaxPool:0\", shape=(?, 55, 55, 64), dtype=float32) Tensor(\"res2a_branch1_2/BiasAdd:0\", shape=(?, 55, 55, 256), dtype=float32)\n",
      "bn2a_branch2c Tensor(\"res2a_branch2c_2/BiasAdd:0\", shape=(?, 55, 55, 256), dtype=float32) Tensor(\"bn2a_branch2c_2/cond/Merge:0\", shape=(?, 55, 55, 256), dtype=float32)\n",
      "bn2a_branch1 Tensor(\"res2a_branch1_2/BiasAdd:0\", shape=(?, 55, 55, 256), dtype=float32) Tensor(\"bn2a_branch1_2/cond/Merge:0\", shape=(?, 55, 55, 256), dtype=float32)\n",
      "add_33 [<tf.Tensor 'bn2a_branch2c_2/cond/Merge:0' shape=(?, 55, 55, 256) dtype=float32>, <tf.Tensor 'bn2a_branch1_2/cond/Merge:0' shape=(?, 55, 55, 256) dtype=float32>] Tensor(\"add_33/add:0\", shape=(?, 55, 55, 256), dtype=float32)\n",
      "activation_108 Tensor(\"add_33/add:0\", shape=(?, 55, 55, 256), dtype=float32) Tensor(\"activation_108/Relu:0\", shape=(?, 55, 55, 256), dtype=float32)\n",
      "res2b_branch2a Tensor(\"activation_108/Relu:0\", shape=(?, 55, 55, 256), dtype=float32) Tensor(\"res2b_branch2a_2/BiasAdd:0\", shape=(?, 55, 55, 64), dtype=float32)\n",
      "bn2b_branch2a Tensor(\"res2b_branch2a_2/BiasAdd:0\", shape=(?, 55, 55, 64), dtype=float32) Tensor(\"bn2b_branch2a_2/cond/Merge:0\", shape=(?, 55, 55, 64), dtype=float32)\n",
      "activation_109 Tensor(\"bn2b_branch2a_2/cond/Merge:0\", shape=(?, 55, 55, 64), dtype=float32) Tensor(\"activation_109/Relu:0\", shape=(?, 55, 55, 64), dtype=float32)\n",
      "res2b_branch2b Tensor(\"activation_109/Relu:0\", shape=(?, 55, 55, 64), dtype=float32) Tensor(\"res2b_branch2b_2/BiasAdd:0\", shape=(?, 55, 55, 64), dtype=float32)\n",
      "bn2b_branch2b Tensor(\"res2b_branch2b_2/BiasAdd:0\", shape=(?, 55, 55, 64), dtype=float32) Tensor(\"bn2b_branch2b_2/cond/Merge:0\", shape=(?, 55, 55, 64), dtype=float32)\n",
      "activation_110 Tensor(\"bn2b_branch2b_2/cond/Merge:0\", shape=(?, 55, 55, 64), dtype=float32) Tensor(\"activation_110/Relu:0\", shape=(?, 55, 55, 64), dtype=float32)\n",
      "res2b_branch2c Tensor(\"activation_110/Relu:0\", shape=(?, 55, 55, 64), dtype=float32) Tensor(\"res2b_branch2c_2/BiasAdd:0\", shape=(?, 55, 55, 256), dtype=float32)\n",
      "bn2b_branch2c Tensor(\"res2b_branch2c_2/BiasAdd:0\", shape=(?, 55, 55, 256), dtype=float32) Tensor(\"bn2b_branch2c_2/cond/Merge:0\", shape=(?, 55, 55, 256), dtype=float32)\n",
      "add_34 [<tf.Tensor 'bn2b_branch2c_2/cond/Merge:0' shape=(?, 55, 55, 256) dtype=float32>, <tf.Tensor 'activation_108/Relu:0' shape=(?, 55, 55, 256) dtype=float32>] Tensor(\"add_34/add:0\", shape=(?, 55, 55, 256), dtype=float32)\n",
      "activation_111 Tensor(\"add_34/add:0\", shape=(?, 55, 55, 256), dtype=float32) Tensor(\"activation_111/Relu:0\", shape=(?, 55, 55, 256), dtype=float32)\n",
      "res2c_branch2a Tensor(\"activation_111/Relu:0\", shape=(?, 55, 55, 256), dtype=float32) Tensor(\"res2c_branch2a_2/BiasAdd:0\", shape=(?, 55, 55, 64), dtype=float32)\n",
      "bn2c_branch2a Tensor(\"res2c_branch2a_2/BiasAdd:0\", shape=(?, 55, 55, 64), dtype=float32) Tensor(\"bn2c_branch2a_2/cond/Merge:0\", shape=(?, 55, 55, 64), dtype=float32)\n",
      "activation_112 Tensor(\"bn2c_branch2a_2/cond/Merge:0\", shape=(?, 55, 55, 64), dtype=float32) Tensor(\"activation_112/Relu:0\", shape=(?, 55, 55, 64), dtype=float32)\n",
      "res2c_branch2b Tensor(\"activation_112/Relu:0\", shape=(?, 55, 55, 64), dtype=float32) Tensor(\"res2c_branch2b_2/BiasAdd:0\", shape=(?, 55, 55, 64), dtype=float32)\n",
      "bn2c_branch2b Tensor(\"res2c_branch2b_2/BiasAdd:0\", shape=(?, 55, 55, 64), dtype=float32) Tensor(\"bn2c_branch2b_2/cond/Merge:0\", shape=(?, 55, 55, 64), dtype=float32)\n",
      "activation_113 Tensor(\"bn2c_branch2b_2/cond/Merge:0\", shape=(?, 55, 55, 64), dtype=float32) Tensor(\"activation_113/Relu:0\", shape=(?, 55, 55, 64), dtype=float32)\n",
      "res2c_branch2c Tensor(\"activation_113/Relu:0\", shape=(?, 55, 55, 64), dtype=float32) Tensor(\"res2c_branch2c_2/BiasAdd:0\", shape=(?, 55, 55, 256), dtype=float32)\n",
      "bn2c_branch2c Tensor(\"res2c_branch2c_2/BiasAdd:0\", shape=(?, 55, 55, 256), dtype=float32) Tensor(\"bn2c_branch2c_2/cond/Merge:0\", shape=(?, 55, 55, 256), dtype=float32)\n",
      "add_35 [<tf.Tensor 'bn2c_branch2c_2/cond/Merge:0' shape=(?, 55, 55, 256) dtype=float32>, <tf.Tensor 'activation_111/Relu:0' shape=(?, 55, 55, 256) dtype=float32>] Tensor(\"add_35/add:0\", shape=(?, 55, 55, 256), dtype=float32)\n",
      "activation_114 Tensor(\"add_35/add:0\", shape=(?, 55, 55, 256), dtype=float32) Tensor(\"activation_114/Relu:0\", shape=(?, 55, 55, 256), dtype=float32)\n",
      "res3a_branch2a Tensor(\"activation_114/Relu:0\", shape=(?, 55, 55, 256), dtype=float32) Tensor(\"res3a_branch2a_2/BiasAdd:0\", shape=(?, 28, 28, 128), dtype=float32)\n",
      "bn3a_branch2a Tensor(\"res3a_branch2a_2/BiasAdd:0\", shape=(?, 28, 28, 128), dtype=float32) Tensor(\"bn3a_branch2a_2/cond/Merge:0\", shape=(?, 28, 28, 128), dtype=float32)\n",
      "activation_115 Tensor(\"bn3a_branch2a_2/cond/Merge:0\", shape=(?, 28, 28, 128), dtype=float32) Tensor(\"activation_115/Relu:0\", shape=(?, 28, 28, 128), dtype=float32)\n",
      "res3a_branch2b Tensor(\"activation_115/Relu:0\", shape=(?, 28, 28, 128), dtype=float32) Tensor(\"res3a_branch2b_2/BiasAdd:0\", shape=(?, 28, 28, 128), dtype=float32)\n",
      "bn3a_branch2b Tensor(\"res3a_branch2b_2/BiasAdd:0\", shape=(?, 28, 28, 128), dtype=float32) Tensor(\"bn3a_branch2b_2/cond/Merge:0\", shape=(?, 28, 28, 128), dtype=float32)\n",
      "activation_116 Tensor(\"bn3a_branch2b_2/cond/Merge:0\", shape=(?, 28, 28, 128), dtype=float32) Tensor(\"activation_116/Relu:0\", shape=(?, 28, 28, 128), dtype=float32)\n",
      "res3a_branch2c Tensor(\"activation_116/Relu:0\", shape=(?, 28, 28, 128), dtype=float32) Tensor(\"res3a_branch2c_2/BiasAdd:0\", shape=(?, 28, 28, 512), dtype=float32)\n",
      "res3a_branch1 Tensor(\"activation_114/Relu:0\", shape=(?, 55, 55, 256), dtype=float32) Tensor(\"res3a_branch1_2/BiasAdd:0\", shape=(?, 28, 28, 512), dtype=float32)\n",
      "bn3a_branch2c Tensor(\"res3a_branch2c_2/BiasAdd:0\", shape=(?, 28, 28, 512), dtype=float32) Tensor(\"bn3a_branch2c_2/cond/Merge:0\", shape=(?, 28, 28, 512), dtype=float32)\n",
      "bn3a_branch1 Tensor(\"res3a_branch1_2/BiasAdd:0\", shape=(?, 28, 28, 512), dtype=float32) Tensor(\"bn3a_branch1_2/cond/Merge:0\", shape=(?, 28, 28, 512), dtype=float32)\n",
      "add_36 [<tf.Tensor 'bn3a_branch2c_2/cond/Merge:0' shape=(?, 28, 28, 512) dtype=float32>, <tf.Tensor 'bn3a_branch1_2/cond/Merge:0' shape=(?, 28, 28, 512) dtype=float32>] Tensor(\"add_36/add:0\", shape=(?, 28, 28, 512), dtype=float32)\n",
      "activation_117 Tensor(\"add_36/add:0\", shape=(?, 28, 28, 512), dtype=float32) Tensor(\"activation_117/Relu:0\", shape=(?, 28, 28, 512), dtype=float32)\n",
      "res3b_branch2a Tensor(\"activation_117/Relu:0\", shape=(?, 28, 28, 512), dtype=float32) Tensor(\"res3b_branch2a_2/BiasAdd:0\", shape=(?, 28, 28, 128), dtype=float32)\n",
      "bn3b_branch2a Tensor(\"res3b_branch2a_2/BiasAdd:0\", shape=(?, 28, 28, 128), dtype=float32) Tensor(\"bn3b_branch2a_2/cond/Merge:0\", shape=(?, 28, 28, 128), dtype=float32)\n",
      "activation_118 Tensor(\"bn3b_branch2a_2/cond/Merge:0\", shape=(?, 28, 28, 128), dtype=float32) Tensor(\"activation_118/Relu:0\", shape=(?, 28, 28, 128), dtype=float32)\n",
      "res3b_branch2b Tensor(\"activation_118/Relu:0\", shape=(?, 28, 28, 128), dtype=float32) Tensor(\"res3b_branch2b_2/BiasAdd:0\", shape=(?, 28, 28, 128), dtype=float32)\n",
      "bn3b_branch2b Tensor(\"res3b_branch2b_2/BiasAdd:0\", shape=(?, 28, 28, 128), dtype=float32) Tensor(\"bn3b_branch2b_2/cond/Merge:0\", shape=(?, 28, 28, 128), dtype=float32)\n",
      "activation_119 Tensor(\"bn3b_branch2b_2/cond/Merge:0\", shape=(?, 28, 28, 128), dtype=float32) Tensor(\"activation_119/Relu:0\", shape=(?, 28, 28, 128), dtype=float32)\n",
      "res3b_branch2c Tensor(\"activation_119/Relu:0\", shape=(?, 28, 28, 128), dtype=float32) Tensor(\"res3b_branch2c_2/BiasAdd:0\", shape=(?, 28, 28, 512), dtype=float32)\n",
      "bn3b_branch2c Tensor(\"res3b_branch2c_2/BiasAdd:0\", shape=(?, 28, 28, 512), dtype=float32) Tensor(\"bn3b_branch2c_2/cond/Merge:0\", shape=(?, 28, 28, 512), dtype=float32)\n",
      "add_37 [<tf.Tensor 'bn3b_branch2c_2/cond/Merge:0' shape=(?, 28, 28, 512) dtype=float32>, <tf.Tensor 'activation_117/Relu:0' shape=(?, 28, 28, 512) dtype=float32>] Tensor(\"add_37/add:0\", shape=(?, 28, 28, 512), dtype=float32)\n",
      "activation_120 Tensor(\"add_37/add:0\", shape=(?, 28, 28, 512), dtype=float32) Tensor(\"activation_120/Relu:0\", shape=(?, 28, 28, 512), dtype=float32)\n",
      "res3c_branch2a Tensor(\"activation_120/Relu:0\", shape=(?, 28, 28, 512), dtype=float32) Tensor(\"res3c_branch2a_2/BiasAdd:0\", shape=(?, 28, 28, 128), dtype=float32)\n",
      "bn3c_branch2a Tensor(\"res3c_branch2a_2/BiasAdd:0\", shape=(?, 28, 28, 128), dtype=float32) Tensor(\"bn3c_branch2a_2/cond/Merge:0\", shape=(?, 28, 28, 128), dtype=float32)\n",
      "activation_121 Tensor(\"bn3c_branch2a_2/cond/Merge:0\", shape=(?, 28, 28, 128), dtype=float32) Tensor(\"activation_121/Relu:0\", shape=(?, 28, 28, 128), dtype=float32)\n",
      "res3c_branch2b Tensor(\"activation_121/Relu:0\", shape=(?, 28, 28, 128), dtype=float32) Tensor(\"res3c_branch2b_2/BiasAdd:0\", shape=(?, 28, 28, 128), dtype=float32)\n",
      "bn3c_branch2b Tensor(\"res3c_branch2b_2/BiasAdd:0\", shape=(?, 28, 28, 128), dtype=float32) Tensor(\"bn3c_branch2b_2/cond/Merge:0\", shape=(?, 28, 28, 128), dtype=float32)\n",
      "activation_122 Tensor(\"bn3c_branch2b_2/cond/Merge:0\", shape=(?, 28, 28, 128), dtype=float32) Tensor(\"activation_122/Relu:0\", shape=(?, 28, 28, 128), dtype=float32)\n",
      "res3c_branch2c Tensor(\"activation_122/Relu:0\", shape=(?, 28, 28, 128), dtype=float32) Tensor(\"res3c_branch2c_2/BiasAdd:0\", shape=(?, 28, 28, 512), dtype=float32)\n",
      "bn3c_branch2c Tensor(\"res3c_branch2c_2/BiasAdd:0\", shape=(?, 28, 28, 512), dtype=float32) Tensor(\"bn3c_branch2c_2/cond/Merge:0\", shape=(?, 28, 28, 512), dtype=float32)\n",
      "add_38 [<tf.Tensor 'bn3c_branch2c_2/cond/Merge:0' shape=(?, 28, 28, 512) dtype=float32>, <tf.Tensor 'activation_120/Relu:0' shape=(?, 28, 28, 512) dtype=float32>] Tensor(\"add_38/add:0\", shape=(?, 28, 28, 512), dtype=float32)\n",
      "activation_123 Tensor(\"add_38/add:0\", shape=(?, 28, 28, 512), dtype=float32) Tensor(\"activation_123/Relu:0\", shape=(?, 28, 28, 512), dtype=float32)\n",
      "res3d_branch2a Tensor(\"activation_123/Relu:0\", shape=(?, 28, 28, 512), dtype=float32) Tensor(\"res3d_branch2a_2/BiasAdd:0\", shape=(?, 28, 28, 128), dtype=float32)\n",
      "bn3d_branch2a Tensor(\"res3d_branch2a_2/BiasAdd:0\", shape=(?, 28, 28, 128), dtype=float32) Tensor(\"bn3d_branch2a_2/cond/Merge:0\", shape=(?, 28, 28, 128), dtype=float32)\n",
      "activation_124 Tensor(\"bn3d_branch2a_2/cond/Merge:0\", shape=(?, 28, 28, 128), dtype=float32) Tensor(\"activation_124/Relu:0\", shape=(?, 28, 28, 128), dtype=float32)\n",
      "res3d_branch2b Tensor(\"activation_124/Relu:0\", shape=(?, 28, 28, 128), dtype=float32) Tensor(\"res3d_branch2b_2/BiasAdd:0\", shape=(?, 28, 28, 128), dtype=float32)\n",
      "bn3d_branch2b Tensor(\"res3d_branch2b_2/BiasAdd:0\", shape=(?, 28, 28, 128), dtype=float32) Tensor(\"bn3d_branch2b_2/cond/Merge:0\", shape=(?, 28, 28, 128), dtype=float32)\n",
      "activation_125 Tensor(\"bn3d_branch2b_2/cond/Merge:0\", shape=(?, 28, 28, 128), dtype=float32) Tensor(\"activation_125/Relu:0\", shape=(?, 28, 28, 128), dtype=float32)\n",
      "res3d_branch2c Tensor(\"activation_125/Relu:0\", shape=(?, 28, 28, 128), dtype=float32) Tensor(\"res3d_branch2c_2/BiasAdd:0\", shape=(?, 28, 28, 512), dtype=float32)\n",
      "bn3d_branch2c Tensor(\"res3d_branch2c_2/BiasAdd:0\", shape=(?, 28, 28, 512), dtype=float32) Tensor(\"bn3d_branch2c_2/cond/Merge:0\", shape=(?, 28, 28, 512), dtype=float32)\n",
      "add_39 [<tf.Tensor 'bn3d_branch2c_2/cond/Merge:0' shape=(?, 28, 28, 512) dtype=float32>, <tf.Tensor 'activation_123/Relu:0' shape=(?, 28, 28, 512) dtype=float32>] Tensor(\"add_39/add:0\", shape=(?, 28, 28, 512), dtype=float32)\n",
      "activation_126 Tensor(\"add_39/add:0\", shape=(?, 28, 28, 512), dtype=float32) Tensor(\"activation_126/Relu:0\", shape=(?, 28, 28, 512), dtype=float32)\n",
      "res4a_branch2a Tensor(\"activation_126/Relu:0\", shape=(?, 28, 28, 512), dtype=float32) Tensor(\"res4a_branch2a_2/BiasAdd:0\", shape=(?, 14, 14, 256), dtype=float32)\n",
      "bn4a_branch2a Tensor(\"res4a_branch2a_2/BiasAdd:0\", shape=(?, 14, 14, 256), dtype=float32) Tensor(\"bn4a_branch2a_2/cond/Merge:0\", shape=(?, 14, 14, 256), dtype=float32)\n",
      "activation_127 Tensor(\"bn4a_branch2a_2/cond/Merge:0\", shape=(?, 14, 14, 256), dtype=float32) Tensor(\"activation_127/Relu:0\", shape=(?, 14, 14, 256), dtype=float32)\n",
      "res4a_branch2b Tensor(\"activation_127/Relu:0\", shape=(?, 14, 14, 256), dtype=float32) Tensor(\"res4a_branch2b_2/BiasAdd:0\", shape=(?, 14, 14, 256), dtype=float32)\n",
      "bn4a_branch2b Tensor(\"res4a_branch2b_2/BiasAdd:0\", shape=(?, 14, 14, 256), dtype=float32) Tensor(\"bn4a_branch2b_2/cond/Merge:0\", shape=(?, 14, 14, 256), dtype=float32)\n",
      "activation_128 Tensor(\"bn4a_branch2b_2/cond/Merge:0\", shape=(?, 14, 14, 256), dtype=float32) Tensor(\"activation_128/Relu:0\", shape=(?, 14, 14, 256), dtype=float32)\n",
      "res4a_branch2c Tensor(\"activation_128/Relu:0\", shape=(?, 14, 14, 256), dtype=float32) Tensor(\"res4a_branch2c_2/BiasAdd:0\", shape=(?, 14, 14, 1024), dtype=float32)\n",
      "res4a_branch1 Tensor(\"activation_126/Relu:0\", shape=(?, 28, 28, 512), dtype=float32) Tensor(\"res4a_branch1_2/BiasAdd:0\", shape=(?, 14, 14, 1024), dtype=float32)\n",
      "bn4a_branch2c Tensor(\"res4a_branch2c_2/BiasAdd:0\", shape=(?, 14, 14, 1024), dtype=float32) Tensor(\"bn4a_branch2c_2/cond/Merge:0\", shape=(?, 14, 14, 1024), dtype=float32)\n",
      "bn4a_branch1 Tensor(\"res4a_branch1_2/BiasAdd:0\", shape=(?, 14, 14, 1024), dtype=float32) Tensor(\"bn4a_branch1_2/cond/Merge:0\", shape=(?, 14, 14, 1024), dtype=float32)\n",
      "add_40 [<tf.Tensor 'bn4a_branch2c_2/cond/Merge:0' shape=(?, 14, 14, 1024) dtype=float32>, <tf.Tensor 'bn4a_branch1_2/cond/Merge:0' shape=(?, 14, 14, 1024) dtype=float32>] Tensor(\"add_40/add:0\", shape=(?, 14, 14, 1024), dtype=float32)\n",
      "activation_129 Tensor(\"add_40/add:0\", shape=(?, 14, 14, 1024), dtype=float32) Tensor(\"activation_129/Relu:0\", shape=(?, 14, 14, 1024), dtype=float32)\n",
      "res4b_branch2a Tensor(\"activation_129/Relu:0\", shape=(?, 14, 14, 1024), dtype=float32) Tensor(\"res4b_branch2a_2/BiasAdd:0\", shape=(?, 14, 14, 256), dtype=float32)\n",
      "bn4b_branch2a Tensor(\"res4b_branch2a_2/BiasAdd:0\", shape=(?, 14, 14, 256), dtype=float32) Tensor(\"bn4b_branch2a_2/cond/Merge:0\", shape=(?, 14, 14, 256), dtype=float32)\n",
      "activation_130 Tensor(\"bn4b_branch2a_2/cond/Merge:0\", shape=(?, 14, 14, 256), dtype=float32) Tensor(\"activation_130/Relu:0\", shape=(?, 14, 14, 256), dtype=float32)\n",
      "res4b_branch2b Tensor(\"activation_130/Relu:0\", shape=(?, 14, 14, 256), dtype=float32) Tensor(\"res4b_branch2b_2/BiasAdd:0\", shape=(?, 14, 14, 256), dtype=float32)\n",
      "bn4b_branch2b Tensor(\"res4b_branch2b_2/BiasAdd:0\", shape=(?, 14, 14, 256), dtype=float32) Tensor(\"bn4b_branch2b_2/cond/Merge:0\", shape=(?, 14, 14, 256), dtype=float32)\n",
      "activation_131 Tensor(\"bn4b_branch2b_2/cond/Merge:0\", shape=(?, 14, 14, 256), dtype=float32) Tensor(\"activation_131/Relu:0\", shape=(?, 14, 14, 256), dtype=float32)\n",
      "res4b_branch2c Tensor(\"activation_131/Relu:0\", shape=(?, 14, 14, 256), dtype=float32) Tensor(\"res4b_branch2c_2/BiasAdd:0\", shape=(?, 14, 14, 1024), dtype=float32)\n",
      "bn4b_branch2c Tensor(\"res4b_branch2c_2/BiasAdd:0\", shape=(?, 14, 14, 1024), dtype=float32) Tensor(\"bn4b_branch2c_2/cond/Merge:0\", shape=(?, 14, 14, 1024), dtype=float32)\n",
      "add_41 [<tf.Tensor 'bn4b_branch2c_2/cond/Merge:0' shape=(?, 14, 14, 1024) dtype=float32>, <tf.Tensor 'activation_129/Relu:0' shape=(?, 14, 14, 1024) dtype=float32>] Tensor(\"add_41/add:0\", shape=(?, 14, 14, 1024), dtype=float32)\n",
      "activation_132 Tensor(\"add_41/add:0\", shape=(?, 14, 14, 1024), dtype=float32) Tensor(\"activation_132/Relu:0\", shape=(?, 14, 14, 1024), dtype=float32)\n",
      "res4c_branch2a Tensor(\"activation_132/Relu:0\", shape=(?, 14, 14, 1024), dtype=float32) Tensor(\"res4c_branch2a_2/BiasAdd:0\", shape=(?, 14, 14, 256), dtype=float32)\n",
      "bn4c_branch2a Tensor(\"res4c_branch2a_2/BiasAdd:0\", shape=(?, 14, 14, 256), dtype=float32) Tensor(\"bn4c_branch2a_2/cond/Merge:0\", shape=(?, 14, 14, 256), dtype=float32)\n",
      "activation_133 Tensor(\"bn4c_branch2a_2/cond/Merge:0\", shape=(?, 14, 14, 256), dtype=float32) Tensor(\"activation_133/Relu:0\", shape=(?, 14, 14, 256), dtype=float32)\n",
      "res4c_branch2b Tensor(\"activation_133/Relu:0\", shape=(?, 14, 14, 256), dtype=float32) Tensor(\"res4c_branch2b_2/BiasAdd:0\", shape=(?, 14, 14, 256), dtype=float32)\n",
      "bn4c_branch2b Tensor(\"res4c_branch2b_2/BiasAdd:0\", shape=(?, 14, 14, 256), dtype=float32) Tensor(\"bn4c_branch2b_2/cond/Merge:0\", shape=(?, 14, 14, 256), dtype=float32)\n",
      "activation_134 Tensor(\"bn4c_branch2b_2/cond/Merge:0\", shape=(?, 14, 14, 256), dtype=float32) Tensor(\"activation_134/Relu:0\", shape=(?, 14, 14, 256), dtype=float32)\n",
      "res4c_branch2c Tensor(\"activation_134/Relu:0\", shape=(?, 14, 14, 256), dtype=float32) Tensor(\"res4c_branch2c_2/BiasAdd:0\", shape=(?, 14, 14, 1024), dtype=float32)\n",
      "bn4c_branch2c Tensor(\"res4c_branch2c_2/BiasAdd:0\", shape=(?, 14, 14, 1024), dtype=float32) Tensor(\"bn4c_branch2c_2/cond/Merge:0\", shape=(?, 14, 14, 1024), dtype=float32)\n",
      "add_42 [<tf.Tensor 'bn4c_branch2c_2/cond/Merge:0' shape=(?, 14, 14, 1024) dtype=float32>, <tf.Tensor 'activation_132/Relu:0' shape=(?, 14, 14, 1024) dtype=float32>] Tensor(\"add_42/add:0\", shape=(?, 14, 14, 1024), dtype=float32)\n",
      "activation_135 Tensor(\"add_42/add:0\", shape=(?, 14, 14, 1024), dtype=float32) Tensor(\"activation_135/Relu:0\", shape=(?, 14, 14, 1024), dtype=float32)\n",
      "res4d_branch2a Tensor(\"activation_135/Relu:0\", shape=(?, 14, 14, 1024), dtype=float32) Tensor(\"res4d_branch2a_2/BiasAdd:0\", shape=(?, 14, 14, 256), dtype=float32)\n",
      "bn4d_branch2a Tensor(\"res4d_branch2a_2/BiasAdd:0\", shape=(?, 14, 14, 256), dtype=float32) Tensor(\"bn4d_branch2a_2/cond/Merge:0\", shape=(?, 14, 14, 256), dtype=float32)\n",
      "activation_136 Tensor(\"bn4d_branch2a_2/cond/Merge:0\", shape=(?, 14, 14, 256), dtype=float32) Tensor(\"activation_136/Relu:0\", shape=(?, 14, 14, 256), dtype=float32)\n",
      "res4d_branch2b Tensor(\"activation_136/Relu:0\", shape=(?, 14, 14, 256), dtype=float32) Tensor(\"res4d_branch2b_2/BiasAdd:0\", shape=(?, 14, 14, 256), dtype=float32)\n",
      "bn4d_branch2b Tensor(\"res4d_branch2b_2/BiasAdd:0\", shape=(?, 14, 14, 256), dtype=float32) Tensor(\"bn4d_branch2b_2/cond/Merge:0\", shape=(?, 14, 14, 256), dtype=float32)\n",
      "activation_137 Tensor(\"bn4d_branch2b_2/cond/Merge:0\", shape=(?, 14, 14, 256), dtype=float32) Tensor(\"activation_137/Relu:0\", shape=(?, 14, 14, 256), dtype=float32)\n",
      "res4d_branch2c Tensor(\"activation_137/Relu:0\", shape=(?, 14, 14, 256), dtype=float32) Tensor(\"res4d_branch2c_2/BiasAdd:0\", shape=(?, 14, 14, 1024), dtype=float32)\n",
      "bn4d_branch2c Tensor(\"res4d_branch2c_2/BiasAdd:0\", shape=(?, 14, 14, 1024), dtype=float32) Tensor(\"bn4d_branch2c_2/cond/Merge:0\", shape=(?, 14, 14, 1024), dtype=float32)\n",
      "add_43 [<tf.Tensor 'bn4d_branch2c_2/cond/Merge:0' shape=(?, 14, 14, 1024) dtype=float32>, <tf.Tensor 'activation_135/Relu:0' shape=(?, 14, 14, 1024) dtype=float32>] Tensor(\"add_43/add:0\", shape=(?, 14, 14, 1024), dtype=float32)\n",
      "activation_138 Tensor(\"add_43/add:0\", shape=(?, 14, 14, 1024), dtype=float32) Tensor(\"activation_138/Relu:0\", shape=(?, 14, 14, 1024), dtype=float32)\n",
      "res4e_branch2a Tensor(\"activation_138/Relu:0\", shape=(?, 14, 14, 1024), dtype=float32) Tensor(\"res4e_branch2a_2/BiasAdd:0\", shape=(?, 14, 14, 256), dtype=float32)\n",
      "bn4e_branch2a Tensor(\"res4e_branch2a_2/BiasAdd:0\", shape=(?, 14, 14, 256), dtype=float32) Tensor(\"bn4e_branch2a_2/cond/Merge:0\", shape=(?, 14, 14, 256), dtype=float32)\n",
      "activation_139 Tensor(\"bn4e_branch2a_2/cond/Merge:0\", shape=(?, 14, 14, 256), dtype=float32) Tensor(\"activation_139/Relu:0\", shape=(?, 14, 14, 256), dtype=float32)\n",
      "res4e_branch2b Tensor(\"activation_139/Relu:0\", shape=(?, 14, 14, 256), dtype=float32) Tensor(\"res4e_branch2b_2/BiasAdd:0\", shape=(?, 14, 14, 256), dtype=float32)\n",
      "bn4e_branch2b Tensor(\"res4e_branch2b_2/BiasAdd:0\", shape=(?, 14, 14, 256), dtype=float32) Tensor(\"bn4e_branch2b_2/cond/Merge:0\", shape=(?, 14, 14, 256), dtype=float32)\n",
      "activation_140 Tensor(\"bn4e_branch2b_2/cond/Merge:0\", shape=(?, 14, 14, 256), dtype=float32) Tensor(\"activation_140/Relu:0\", shape=(?, 14, 14, 256), dtype=float32)\n",
      "res4e_branch2c Tensor(\"activation_140/Relu:0\", shape=(?, 14, 14, 256), dtype=float32) Tensor(\"res4e_branch2c_2/BiasAdd:0\", shape=(?, 14, 14, 1024), dtype=float32)\n",
      "bn4e_branch2c Tensor(\"res4e_branch2c_2/BiasAdd:0\", shape=(?, 14, 14, 1024), dtype=float32) Tensor(\"bn4e_branch2c_2/cond/Merge:0\", shape=(?, 14, 14, 1024), dtype=float32)\n",
      "add_44 [<tf.Tensor 'bn4e_branch2c_2/cond/Merge:0' shape=(?, 14, 14, 1024) dtype=float32>, <tf.Tensor 'activation_138/Relu:0' shape=(?, 14, 14, 1024) dtype=float32>] Tensor(\"add_44/add:0\", shape=(?, 14, 14, 1024), dtype=float32)\n",
      "activation_141 Tensor(\"add_44/add:0\", shape=(?, 14, 14, 1024), dtype=float32) Tensor(\"activation_141/Relu:0\", shape=(?, 14, 14, 1024), dtype=float32)\n",
      "res4f_branch2a Tensor(\"activation_141/Relu:0\", shape=(?, 14, 14, 1024), dtype=float32) Tensor(\"res4f_branch2a_2/BiasAdd:0\", shape=(?, 14, 14, 256), dtype=float32)\n",
      "bn4f_branch2a Tensor(\"res4f_branch2a_2/BiasAdd:0\", shape=(?, 14, 14, 256), dtype=float32) Tensor(\"bn4f_branch2a_2/cond/Merge:0\", shape=(?, 14, 14, 256), dtype=float32)\n",
      "activation_142 Tensor(\"bn4f_branch2a_2/cond/Merge:0\", shape=(?, 14, 14, 256), dtype=float32) Tensor(\"activation_142/Relu:0\", shape=(?, 14, 14, 256), dtype=float32)\n",
      "res4f_branch2b Tensor(\"activation_142/Relu:0\", shape=(?, 14, 14, 256), dtype=float32) Tensor(\"res4f_branch2b_2/BiasAdd:0\", shape=(?, 14, 14, 256), dtype=float32)\n",
      "bn4f_branch2b Tensor(\"res4f_branch2b_2/BiasAdd:0\", shape=(?, 14, 14, 256), dtype=float32) Tensor(\"bn4f_branch2b_2/cond/Merge:0\", shape=(?, 14, 14, 256), dtype=float32)\n",
      "activation_143 Tensor(\"bn4f_branch2b_2/cond/Merge:0\", shape=(?, 14, 14, 256), dtype=float32) Tensor(\"activation_143/Relu:0\", shape=(?, 14, 14, 256), dtype=float32)\n",
      "res4f_branch2c Tensor(\"activation_143/Relu:0\", shape=(?, 14, 14, 256), dtype=float32) Tensor(\"res4f_branch2c_2/BiasAdd:0\", shape=(?, 14, 14, 1024), dtype=float32)\n",
      "bn4f_branch2c Tensor(\"res4f_branch2c_2/BiasAdd:0\", shape=(?, 14, 14, 1024), dtype=float32) Tensor(\"bn4f_branch2c_2/cond/Merge:0\", shape=(?, 14, 14, 1024), dtype=float32)\n",
      "add_45 [<tf.Tensor 'bn4f_branch2c_2/cond/Merge:0' shape=(?, 14, 14, 1024) dtype=float32>, <tf.Tensor 'activation_141/Relu:0' shape=(?, 14, 14, 1024) dtype=float32>] Tensor(\"add_45/add:0\", shape=(?, 14, 14, 1024), dtype=float32)\n",
      "activation_144 Tensor(\"add_45/add:0\", shape=(?, 14, 14, 1024), dtype=float32) Tensor(\"activation_144/Relu:0\", shape=(?, 14, 14, 1024), dtype=float32)\n",
      "res5a_branch2a Tensor(\"activation_144/Relu:0\", shape=(?, 14, 14, 1024), dtype=float32) Tensor(\"res5a_branch2a_2/BiasAdd:0\", shape=(?, 7, 7, 512), dtype=float32)\n",
      "bn5a_branch2a Tensor(\"res5a_branch2a_2/BiasAdd:0\", shape=(?, 7, 7, 512), dtype=float32) Tensor(\"bn5a_branch2a_2/cond/Merge:0\", shape=(?, 7, 7, 512), dtype=float32)\n",
      "activation_145 Tensor(\"bn5a_branch2a_2/cond/Merge:0\", shape=(?, 7, 7, 512), dtype=float32) Tensor(\"activation_145/Relu:0\", shape=(?, 7, 7, 512), dtype=float32)\n",
      "res5a_branch2b Tensor(\"activation_145/Relu:0\", shape=(?, 7, 7, 512), dtype=float32) Tensor(\"res5a_branch2b_2/BiasAdd:0\", shape=(?, 7, 7, 512), dtype=float32)\n",
      "bn5a_branch2b Tensor(\"res5a_branch2b_2/BiasAdd:0\", shape=(?, 7, 7, 512), dtype=float32) Tensor(\"bn5a_branch2b_2/cond/Merge:0\", shape=(?, 7, 7, 512), dtype=float32)\n",
      "activation_146 Tensor(\"bn5a_branch2b_2/cond/Merge:0\", shape=(?, 7, 7, 512), dtype=float32) Tensor(\"activation_146/Relu:0\", shape=(?, 7, 7, 512), dtype=float32)\n",
      "res5a_branch2c Tensor(\"activation_146/Relu:0\", shape=(?, 7, 7, 512), dtype=float32) Tensor(\"res5a_branch2c_2/BiasAdd:0\", shape=(?, 7, 7, 2048), dtype=float32)\n",
      "res5a_branch1 Tensor(\"activation_144/Relu:0\", shape=(?, 14, 14, 1024), dtype=float32) Tensor(\"res5a_branch1_2/BiasAdd:0\", shape=(?, 7, 7, 2048), dtype=float32)\n",
      "bn5a_branch2c Tensor(\"res5a_branch2c_2/BiasAdd:0\", shape=(?, 7, 7, 2048), dtype=float32) Tensor(\"bn5a_branch2c_2/cond/Merge:0\", shape=(?, 7, 7, 2048), dtype=float32)\n",
      "bn5a_branch1 Tensor(\"res5a_branch1_2/BiasAdd:0\", shape=(?, 7, 7, 2048), dtype=float32) Tensor(\"bn5a_branch1_2/cond/Merge:0\", shape=(?, 7, 7, 2048), dtype=float32)\n",
      "add_46 [<tf.Tensor 'bn5a_branch2c_2/cond/Merge:0' shape=(?, 7, 7, 2048) dtype=float32>, <tf.Tensor 'bn5a_branch1_2/cond/Merge:0' shape=(?, 7, 7, 2048) dtype=float32>] Tensor(\"add_46/add:0\", shape=(?, 7, 7, 2048), dtype=float32)\n",
      "activation_147 Tensor(\"add_46/add:0\", shape=(?, 7, 7, 2048), dtype=float32) Tensor(\"activation_147/Relu:0\", shape=(?, 7, 7, 2048), dtype=float32)\n",
      "res5b_branch2a Tensor(\"activation_147/Relu:0\", shape=(?, 7, 7, 2048), dtype=float32) Tensor(\"res5b_branch2a_2/BiasAdd:0\", shape=(?, 7, 7, 512), dtype=float32)\n",
      "bn5b_branch2a Tensor(\"res5b_branch2a_2/BiasAdd:0\", shape=(?, 7, 7, 512), dtype=float32) Tensor(\"bn5b_branch2a_2/cond/Merge:0\", shape=(?, 7, 7, 512), dtype=float32)\n",
      "activation_148 Tensor(\"bn5b_branch2a_2/cond/Merge:0\", shape=(?, 7, 7, 512), dtype=float32) Tensor(\"activation_148/Relu:0\", shape=(?, 7, 7, 512), dtype=float32)\n",
      "res5b_branch2b Tensor(\"activation_148/Relu:0\", shape=(?, 7, 7, 512), dtype=float32) Tensor(\"res5b_branch2b_2/BiasAdd:0\", shape=(?, 7, 7, 512), dtype=float32)\n",
      "bn5b_branch2b Tensor(\"res5b_branch2b_2/BiasAdd:0\", shape=(?, 7, 7, 512), dtype=float32) Tensor(\"bn5b_branch2b_2/cond/Merge:0\", shape=(?, 7, 7, 512), dtype=float32)\n",
      "activation_149 Tensor(\"bn5b_branch2b_2/cond/Merge:0\", shape=(?, 7, 7, 512), dtype=float32) Tensor(\"activation_149/Relu:0\", shape=(?, 7, 7, 512), dtype=float32)\n",
      "res5b_branch2c Tensor(\"activation_149/Relu:0\", shape=(?, 7, 7, 512), dtype=float32) Tensor(\"res5b_branch2c_2/BiasAdd:0\", shape=(?, 7, 7, 2048), dtype=float32)\n",
      "bn5b_branch2c Tensor(\"res5b_branch2c_2/BiasAdd:0\", shape=(?, 7, 7, 2048), dtype=float32) Tensor(\"bn5b_branch2c_2/cond/Merge:0\", shape=(?, 7, 7, 2048), dtype=float32)\n",
      "add_47 [<tf.Tensor 'bn5b_branch2c_2/cond/Merge:0' shape=(?, 7, 7, 2048) dtype=float32>, <tf.Tensor 'activation_147/Relu:0' shape=(?, 7, 7, 2048) dtype=float32>] Tensor(\"add_47/add:0\", shape=(?, 7, 7, 2048), dtype=float32)\n",
      "activation_150 Tensor(\"add_47/add:0\", shape=(?, 7, 7, 2048), dtype=float32) Tensor(\"activation_150/Relu:0\", shape=(?, 7, 7, 2048), dtype=float32)\n",
      "res5c_branch2a Tensor(\"activation_150/Relu:0\", shape=(?, 7, 7, 2048), dtype=float32) Tensor(\"res5c_branch2a_2/BiasAdd:0\", shape=(?, 7, 7, 512), dtype=float32)\n",
      "bn5c_branch2a Tensor(\"res5c_branch2a_2/BiasAdd:0\", shape=(?, 7, 7, 512), dtype=float32) Tensor(\"bn5c_branch2a_2/cond/Merge:0\", shape=(?, 7, 7, 512), dtype=float32)\n",
      "activation_151 Tensor(\"bn5c_branch2a_2/cond/Merge:0\", shape=(?, 7, 7, 512), dtype=float32) Tensor(\"activation_151/Relu:0\", shape=(?, 7, 7, 512), dtype=float32)\n",
      "res5c_branch2b Tensor(\"activation_151/Relu:0\", shape=(?, 7, 7, 512), dtype=float32) Tensor(\"res5c_branch2b_2/BiasAdd:0\", shape=(?, 7, 7, 512), dtype=float32)\n",
      "bn5c_branch2b Tensor(\"res5c_branch2b_2/BiasAdd:0\", shape=(?, 7, 7, 512), dtype=float32) Tensor(\"bn5c_branch2b_2/cond/Merge:0\", shape=(?, 7, 7, 512), dtype=float32)\n",
      "activation_152 Tensor(\"bn5c_branch2b_2/cond/Merge:0\", shape=(?, 7, 7, 512), dtype=float32) Tensor(\"activation_152/Relu:0\", shape=(?, 7, 7, 512), dtype=float32)\n",
      "res5c_branch2c Tensor(\"activation_152/Relu:0\", shape=(?, 7, 7, 512), dtype=float32) Tensor(\"res5c_branch2c_2/BiasAdd:0\", shape=(?, 7, 7, 2048), dtype=float32)\n",
      "bn5c_branch2c Tensor(\"res5c_branch2c_2/BiasAdd:0\", shape=(?, 7, 7, 2048), dtype=float32) Tensor(\"bn5c_branch2c_2/cond/Merge:0\", shape=(?, 7, 7, 2048), dtype=float32)\n",
      "add_48 [<tf.Tensor 'bn5c_branch2c_2/cond/Merge:0' shape=(?, 7, 7, 2048) dtype=float32>, <tf.Tensor 'activation_150/Relu:0' shape=(?, 7, 7, 2048) dtype=float32>] Tensor(\"add_48/add:0\", shape=(?, 7, 7, 2048), dtype=float32)\n",
      "activation_153 Tensor(\"add_48/add:0\", shape=(?, 7, 7, 2048), dtype=float32) Tensor(\"activation_153/Relu:0\", shape=(?, 7, 7, 2048), dtype=float32)\n",
      "avg_pool Tensor(\"activation_153/Relu:0\", shape=(?, 7, 7, 2048), dtype=float32) Tensor(\"avg_pool_2/AvgPool:0\", shape=(?, 1, 1, 2048), dtype=float32)\n",
      "flatten_10 Tensor(\"avg_pool_2/AvgPool:0\", shape=(?, 1, 1, 2048), dtype=float32) Tensor(\"flatten_10/Reshape:0\", shape=(?, ?), dtype=float32)\n",
      "fc1000 Tensor(\"flatten_10/Reshape:0\", shape=(?, ?), dtype=float32) Tensor(\"fc1000_2/Softmax:0\", shape=(?, 1000), dtype=float32)\n"
     ]
    }
   ],
   "source": [
    "from keras.applications.resnet50 import ResNet50\n",
    "from keras.preprocessing import image\n",
    "from keras.applications.resnet50 import preprocess_input, decode_predictions\n",
    "import numpy as np\n",
    "\n",
    "model = ResNet50(weights='imagenet')\n",
    "for lay in model.layers:\n",
    "    print(lay.name,lay.input,lay.output)"
   ]
  },
  {
   "cell_type": "code",
   "execution_count": 350,
   "metadata": {},
   "outputs": [
    {
     "data": {
      "text/plain": [
       "[[('n02814860', 'beacon', 0.72421813),\n",
       "  ('n03220513', 'dome', 0.05901802),\n",
       "  ('n03788195', 'mosque', 0.03708306)]]"
      ]
     },
     "execution_count": 350,
     "metadata": {},
     "output_type": "execute_result"
    },
    {
     "data": {
      "image/png": "[encoded data removed]",
      "text/plain": [
       "<matplotlib.figure.Figure at 0xe4975d9470>"
      ]
     },
     "metadata": {},
     "output_type": "display_data"
    }
   ],
   "source": [
    "img_path = 'e:\\\\tmp\\\\tt.jpg'\n",
    "img = image.load_img(img_path, target_size=(224, 224))\n",
    "plt.imshow(img)\n",
    "x = image.img_to_array(img)\n",
    "x = np.expand_dims(x, axis=0)\n",
    "x = preprocess_input(x)\n",
    "\n",
    "preds = model.predict(x)\n",
    "decode_predictions(preds, top=3)\n"
   ]
  },
  {
   "cell_type": "code",
   "execution_count": 353,
   "metadata": {},
   "outputs": [
    {
     "data": {
      "text/plain": [
       "array([[1, 4, 0, 2, 1, 6],\n",
       "       [2, 4, 7, 4, 4, 2],\n",
       "       [9, 8, 8, 4, 5, 4]])"
      ]
     },
     "execution_count": 353,
     "metadata": {},
     "output_type": "execute_result"
    }
   ],
   "source": [
    "y=np.random.randint(10,size=(3,6))\n",
    "y"
   ]
  },
  {
   "cell_type": "code",
   "execution_count": 375,
   "metadata": {},
   "outputs": [
    {
     "data": {
      "text/plain": [
       "[5, 2, 8, 9]"
      ]
     },
     "execution_count": 375,
     "metadata": {},
     "output_type": "execute_result"
    }
   ],
   "source": [
    "keras.preprocessing.text.hashing_trick(\"this is a sentence\",10)"
   ]
  },
  {
   "cell_type": "code",
   "execution_count": 408,
   "metadata": {},
   "outputs": [
    {
     "data": {
      "text/plain": [
       "{'大漠': 5,\n",
       " '孤雁': 9,\n",
       " '射雕': 7,\n",
       " '平沙': 8,\n",
       " '弯弓': 6,\n",
       " '胡马': 3,\n",
       " '阴山': 4,\n",
       " '飞将': 2,\n",
       " '龙城': 1}"
      ]
     },
     "execution_count": 408,
     "metadata": {},
     "output_type": "execute_result"
    }
   ],
   "source": [
    "text = ['龙城 飞将 胡马 阴山','大漠 弯弓 射雕 平沙 孤雁']\n",
    "toker = keras.preprocessing.text.Tokenizer()\n",
    "toker.fit_on_texts(text)\n",
    "toker.word_index"
   ]
  },
  {
   "cell_type": "code",
   "execution_count": 409,
   "metadata": {
    "collapsed": true
   },
   "outputs": [],
   "source": [
    "seq = toker.texts_to_sequences(text)"
   ]
  },
  {
   "cell_type": "code",
   "execution_count": 410,
   "metadata": {},
   "outputs": [
    {
     "data": {
      "text/plain": [
       "array([[1, 2, 3, 4, 0, 0, 0, 0, 0, 0],\n",
       "       [5, 6, 7, 8, 9, 0, 0, 0, 0, 0]])"
      ]
     },
     "execution_count": 410,
     "metadata": {},
     "output_type": "execute_result"
    }
   ],
   "source": [
    "seq = keras.preprocessing.sequence.pad_sequences(seq,maxlen=10,padding='post')\n",
    "seq"
   ]
  },
  {
   "cell_type": "code",
   "execution_count": 428,
   "metadata": {},
   "outputs": [
    {
     "name": "stderr",
     "output_type": "stream",
     "text": [
      "C:\\Users\\cl\\Anaconda3\\lib\\site-packages\\ipykernel_launcher.py:7: UserWarning: Update your `Model` call to the Keras 2 API: `Model(inputs=Tensor(\"in..., outputs=Tensor(\"de...)`\n",
      "  import sys\n"
     ]
    },
    {
     "name": "stdout",
     "output_type": "stream",
     "text": [
      "Epoch 1/1\n",
      "2/2 [==============================] - 7s 4s/step - loss: 0.6930\n"
     ]
    },
    {
     "data": {
      "text/plain": [
       "array([[0.49736488],\n",
       "       [0.49686503]], dtype=float32)"
      ]
     },
     "execution_count": 428,
     "metadata": {},
     "output_type": "execute_result"
    }
   ],
   "source": [
    "from keras.layers.wrappers import Bidirectional\n",
    "inputs = Input(shape=(10,))\n",
    "em = Embedding(output_dim=4, input_dim=10, input_length=10)(inputs)\n",
    "flat = Flatten()(em)\n",
    "lstm = LSTM(30)(em)\n",
    "out = Dense(1,activation='sigmoid')(lstm)\n",
    "model = Model(inputs=inputs,output=out)\n",
    "model.compile(optimizer='rmsprop', loss='binary_crossentropy')\n",
    "\n",
    "y = np.array([1,0])\n",
    "model.fit(seq,y)\n",
    "model.predict(seq)\n"
   ]
  },
  {
   "cell_type": "markdown",
   "metadata": {},
   "source": [
    "model.layers"
   ]
  },
  {
   "cell_type": "code",
   "execution_count": 425,
   "metadata": {},
   "outputs": [
    {
     "data": {
      "text/plain": [
       "array([[1, 2, 3, 4, 0, 0, 0, 0, 0, 0],\n",
       "       [5, 6, 7, 8, 9, 0, 0, 0, 0, 0]])"
      ]
     },
     "execution_count": 425,
     "metadata": {},
     "output_type": "execute_result"
    }
   ],
   "source": [
    "seq"
   ]
  },
  {
   "cell_type": "code",
   "execution_count": 418,
   "metadata": {},
   "outputs": [
    {
     "name": "stdout",
     "output_type": "stream",
     "text": [
      "[array([[[12.,  4.],\n",
      "        [ 5., 14.],\n",
      "        [ 0.,  7.],\n",
      "        [18., 18.],\n",
      "        [ 1.,  7.],\n",
      "        [ 6., 14.],\n",
      "        [ 9.,  7.],\n",
      "        [19.,  1.],\n",
      "        [ 4., 11.],\n",
      "        [ 1., 14.]]], dtype=float32), array([[[12.,  4.],\n",
      "        [ 5., 14.],\n",
      "        [ 0.,  7.],\n",
      "        [18., 18.],\n",
      "        [ 1.,  7.],\n",
      "        [ 6., 14.],\n",
      "        [ 9.,  7.],\n",
      "        [19.,  1.],\n",
      "        [ 4., 11.],\n",
      "        [ 1., 14.]]], dtype=float32), array([[ 0.6322572 ,  0.94954437,  0.7595442 ,  0.7615826 , -0.03773177]],\n",
      "      dtype=float32)]\n"
     ]
    }
   ],
   "source": [
    "layer_outputs = [layer.output for layer in model.layers]\n",
    "activation_model = models.Model(inputs=model.input,outputs = layer_outputs)\n",
    "st_layer = activation_model.predict(data)\n",
    "print(st_layer)"
   ]
  },
  {
   "cell_type": "code",
   "execution_count": 436,
   "metadata": {},
   "outputs": [
    {
     "name": "stdout",
     "output_type": "stream",
     "text": [
      "Downloading data from https://github.com/fchollet/deep-learning-models/releases/download/v0.2/resnet50_weights_tf_dim_ordering_tf_kernels_notop.h5\n",
      "94658560/94653016 [==============================] - 11s 0us/step\n",
      "__________________________________________________________________________________________________\n",
      "Layer (type)                    Output Shape         Param #     Connected to                     \n",
      "==================================================================================================\n",
      "input_76 (InputLayer)           (None, None, None, 3 0                                            \n",
      "__________________________________________________________________________________________________\n",
      "conv1 (Conv2D)                  (None, None, None, 6 9472        input_76[0][0]                   \n",
      "__________________________________________________________________________________________________\n",
      "bn_conv1 (BatchNormalization)   (None, None, None, 6 256         conv1[0][0]                      \n",
      "__________________________________________________________________________________________________\n",
      "activation_154 (Activation)     (None, None, None, 6 0           bn_conv1[0][0]                   \n",
      "__________________________________________________________________________________________________\n",
      "max_pooling2d_5 (MaxPooling2D)  (None, None, None, 6 0           activation_154[0][0]             \n",
      "__________________________________________________________________________________________________\n",
      "res2a_branch2a (Conv2D)         (None, None, None, 6 4160        max_pooling2d_5[0][0]            \n",
      "__________________________________________________________________________________________________\n",
      "bn2a_branch2a (BatchNormalizati (None, None, None, 6 256         res2a_branch2a[0][0]             \n",
      "__________________________________________________________________________________________________\n",
      "activation_155 (Activation)     (None, None, None, 6 0           bn2a_branch2a[0][0]              \n",
      "__________________________________________________________________________________________________\n",
      "res2a_branch2b (Conv2D)         (None, None, None, 6 36928       activation_155[0][0]             \n",
      "__________________________________________________________________________________________________\n",
      "bn2a_branch2b (BatchNormalizati (None, None, None, 6 256         res2a_branch2b[0][0]             \n",
      "__________________________________________________________________________________________________\n",
      "activation_156 (Activation)     (None, None, None, 6 0           bn2a_branch2b[0][0]              \n",
      "__________________________________________________________________________________________________\n",
      "res2a_branch2c (Conv2D)         (None, None, None, 2 16640       activation_156[0][0]             \n",
      "__________________________________________________________________________________________________\n",
      "res2a_branch1 (Conv2D)          (None, None, None, 2 16640       max_pooling2d_5[0][0]            \n",
      "__________________________________________________________________________________________________\n",
      "bn2a_branch2c (BatchNormalizati (None, None, None, 2 1024        res2a_branch2c[0][0]             \n",
      "__________________________________________________________________________________________________\n",
      "bn2a_branch1 (BatchNormalizatio (None, None, None, 2 1024        res2a_branch1[0][0]              \n",
      "__________________________________________________________________________________________________\n",
      "add_49 (Add)                    (None, None, None, 2 0           bn2a_branch2c[0][0]              \n",
      "                                                                 bn2a_branch1[0][0]               \n",
      "__________________________________________________________________________________________________\n",
      "activation_157 (Activation)     (None, None, None, 2 0           add_49[0][0]                     \n",
      "__________________________________________________________________________________________________\n",
      "res2b_branch2a (Conv2D)         (None, None, None, 6 16448       activation_157[0][0]             \n",
      "__________________________________________________________________________________________________\n",
      "bn2b_branch2a (BatchNormalizati (None, None, None, 6 256         res2b_branch2a[0][0]             \n",
      "__________________________________________________________________________________________________\n",
      "activation_158 (Activation)     (None, None, None, 6 0           bn2b_branch2a[0][0]              \n",
      "__________________________________________________________________________________________________\n",
      "res2b_branch2b (Conv2D)         (None, None, None, 6 36928       activation_158[0][0]             \n",
      "__________________________________________________________________________________________________\n",
      "bn2b_branch2b (BatchNormalizati (None, None, None, 6 256         res2b_branch2b[0][0]             \n",
      "__________________________________________________________________________________________________\n",
      "activation_159 (Activation)     (None, None, None, 6 0           bn2b_branch2b[0][0]              \n",
      "__________________________________________________________________________________________________\n",
      "res2b_branch2c (Conv2D)         (None, None, None, 2 16640       activation_159[0][0]             \n",
      "__________________________________________________________________________________________________\n",
      "bn2b_branch2c (BatchNormalizati (None, None, None, 2 1024        res2b_branch2c[0][0]             \n",
      "__________________________________________________________________________________________________\n",
      "add_50 (Add)                    (None, None, None, 2 0           bn2b_branch2c[0][0]              \n",
      "                                                                 activation_157[0][0]             \n",
      "__________________________________________________________________________________________________\n",
      "activation_160 (Activation)     (None, None, None, 2 0           add_50[0][0]                     \n",
      "__________________________________________________________________________________________________\n",
      "res2c_branch2a (Conv2D)         (None, None, None, 6 16448       activation_160[0][0]             \n",
      "__________________________________________________________________________________________________\n",
      "bn2c_branch2a (BatchNormalizati (None, None, None, 6 256         res2c_branch2a[0][0]             \n",
      "__________________________________________________________________________________________________\n",
      "activation_161 (Activation)     (None, None, None, 6 0           bn2c_branch2a[0][0]              \n",
      "__________________________________________________________________________________________________\n",
      "res2c_branch2b (Conv2D)         (None, None, None, 6 36928       activation_161[0][0]             \n",
      "__________________________________________________________________________________________________\n",
      "bn2c_branch2b (BatchNormalizati (None, None, None, 6 256         res2c_branch2b[0][0]             \n",
      "__________________________________________________________________________________________________\n",
      "activation_162 (Activation)     (None, None, None, 6 0           bn2c_branch2b[0][0]              \n",
      "__________________________________________________________________________________________________\n",
      "res2c_branch2c (Conv2D)         (None, None, None, 2 16640       activation_162[0][0]             \n",
      "__________________________________________________________________________________________________\n",
      "bn2c_branch2c (BatchNormalizati (None, None, None, 2 1024        res2c_branch2c[0][0]             \n",
      "__________________________________________________________________________________________________\n",
      "add_51 (Add)                    (None, None, None, 2 0           bn2c_branch2c[0][0]              \n",
      "                                                                 activation_160[0][0]             \n",
      "__________________________________________________________________________________________________\n",
      "activation_163 (Activation)     (None, None, None, 2 0           add_51[0][0]                     \n",
      "__________________________________________________________________________________________________\n",
      "res3a_branch2a (Conv2D)         (None, None, None, 1 32896       activation_163[0][0]             \n",
      "__________________________________________________________________________________________________\n",
      "bn3a_branch2a (BatchNormalizati (None, None, None, 1 512         res3a_branch2a[0][0]             \n",
      "__________________________________________________________________________________________________\n",
      "activation_164 (Activation)     (None, None, None, 1 0           bn3a_branch2a[0][0]              \n",
      "__________________________________________________________________________________________________\n",
      "res3a_branch2b (Conv2D)         (None, None, None, 1 147584      activation_164[0][0]             \n",
      "__________________________________________________________________________________________________\n",
      "bn3a_branch2b (BatchNormalizati (None, None, None, 1 512         res3a_branch2b[0][0]             \n",
      "__________________________________________________________________________________________________\n",
      "activation_165 (Activation)     (None, None, None, 1 0           bn3a_branch2b[0][0]              \n",
      "__________________________________________________________________________________________________\n",
      "res3a_branch2c (Conv2D)         (None, None, None, 5 66048       activation_165[0][0]             \n",
      "__________________________________________________________________________________________________\n",
      "res3a_branch1 (Conv2D)          (None, None, None, 5 131584      activation_163[0][0]             \n",
      "__________________________________________________________________________________________________\n",
      "bn3a_branch2c (BatchNormalizati (None, None, None, 5 2048        res3a_branch2c[0][0]             \n",
      "__________________________________________________________________________________________________\n",
      "bn3a_branch1 (BatchNormalizatio (None, None, None, 5 2048        res3a_branch1[0][0]              \n",
      "__________________________________________________________________________________________________\n",
      "add_52 (Add)                    (None, None, None, 5 0           bn3a_branch2c[0][0]              \n",
      "                                                                 bn3a_branch1[0][0]               \n",
      "__________________________________________________________________________________________________\n",
      "activation_166 (Activation)     (None, None, None, 5 0           add_52[0][0]                     \n",
      "__________________________________________________________________________________________________\n",
      "res3b_branch2a (Conv2D)         (None, None, None, 1 65664       activation_166[0][0]             \n",
      "__________________________________________________________________________________________________\n",
      "bn3b_branch2a (BatchNormalizati (None, None, None, 1 512         res3b_branch2a[0][0]             \n",
      "__________________________________________________________________________________________________\n",
      "activation_167 (Activation)     (None, None, None, 1 0           bn3b_branch2a[0][0]              \n",
      "__________________________________________________________________________________________________\n",
      "res3b_branch2b (Conv2D)         (None, None, None, 1 147584      activation_167[0][0]             \n",
      "__________________________________________________________________________________________________\n",
      "bn3b_branch2b (BatchNormalizati (None, None, None, 1 512         res3b_branch2b[0][0]             \n",
      "__________________________________________________________________________________________________\n",
      "activation_168 (Activation)     (None, None, None, 1 0           bn3b_branch2b[0][0]              \n",
      "__________________________________________________________________________________________________\n",
      "res3b_branch2c (Conv2D)         (None, None, None, 5 66048       activation_168[0][0]             \n",
      "__________________________________________________________________________________________________\n",
      "bn3b_branch2c (BatchNormalizati (None, None, None, 5 2048        res3b_branch2c[0][0]             \n",
      "__________________________________________________________________________________________________\n",
      "add_53 (Add)                    (None, None, None, 5 0           bn3b_branch2c[0][0]              \n",
      "                                                                 activation_166[0][0]             \n",
      "__________________________________________________________________________________________________\n",
      "activation_169 (Activation)     (None, None, None, 5 0           add_53[0][0]                     \n",
      "__________________________________________________________________________________________________\n",
      "res3c_branch2a (Conv2D)         (None, None, None, 1 65664       activation_169[0][0]             \n",
      "__________________________________________________________________________________________________\n",
      "bn3c_branch2a (BatchNormalizati (None, None, None, 1 512         res3c_branch2a[0][0]             \n",
      "__________________________________________________________________________________________________\n",
      "activation_170 (Activation)     (None, None, None, 1 0           bn3c_branch2a[0][0]              \n",
      "__________________________________________________________________________________________________\n",
      "res3c_branch2b (Conv2D)         (None, None, None, 1 147584      activation_170[0][0]             \n",
      "__________________________________________________________________________________________________\n",
      "bn3c_branch2b (BatchNormalizati (None, None, None, 1 512         res3c_branch2b[0][0]             \n",
      "__________________________________________________________________________________________________\n",
      "activation_171 (Activation)     (None, None, None, 1 0           bn3c_branch2b[0][0]              \n",
      "__________________________________________________________________________________________________\n",
      "res3c_branch2c (Conv2D)         (None, None, None, 5 66048       activation_171[0][0]             \n",
      "__________________________________________________________________________________________________\n",
      "bn3c_branch2c (BatchNormalizati (None, None, None, 5 2048        res3c_branch2c[0][0]             \n",
      "__________________________________________________________________________________________________\n",
      "add_54 (Add)                    (None, None, None, 5 0           bn3c_branch2c[0][0]              \n",
      "                                                                 activation_169[0][0]             \n",
      "__________________________________________________________________________________________________\n",
      "activation_172 (Activation)     (None, None, None, 5 0           add_54[0][0]                     \n",
      "__________________________________________________________________________________________________\n",
      "res3d_branch2a (Conv2D)         (None, None, None, 1 65664       activation_172[0][0]             \n",
      "__________________________________________________________________________________________________\n",
      "bn3d_branch2a (BatchNormalizati (None, None, None, 1 512         res3d_branch2a[0][0]             \n",
      "__________________________________________________________________________________________________\n",
      "activation_173 (Activation)     (None, None, None, 1 0           bn3d_branch2a[0][0]              \n",
      "__________________________________________________________________________________________________\n",
      "res3d_branch2b (Conv2D)         (None, None, None, 1 147584      activation_173[0][0]             \n",
      "__________________________________________________________________________________________________\n",
      "bn3d_branch2b (BatchNormalizati (None, None, None, 1 512         res3d_branch2b[0][0]             \n",
      "__________________________________________________________________________________________________\n",
      "activation_174 (Activation)     (None, None, None, 1 0           bn3d_branch2b[0][0]              \n",
      "__________________________________________________________________________________________________\n",
      "res3d_branch2c (Conv2D)         (None, None, None, 5 66048       activation_174[0][0]             \n",
      "__________________________________________________________________________________________________\n",
      "bn3d_branch2c (BatchNormalizati (None, None, None, 5 2048        res3d_branch2c[0][0]             \n",
      "__________________________________________________________________________________________________\n",
      "add_55 (Add)                    (None, None, None, 5 0           bn3d_branch2c[0][0]              \n",
      "                                                                 activation_172[0][0]             \n",
      "__________________________________________________________________________________________________\n",
      "activation_175 (Activation)     (None, None, None, 5 0           add_55[0][0]                     \n",
      "__________________________________________________________________________________________________\n",
      "res4a_branch2a (Conv2D)         (None, None, None, 2 131328      activation_175[0][0]             \n",
      "__________________________________________________________________________________________________\n",
      "bn4a_branch2a (BatchNormalizati (None, None, None, 2 1024        res4a_branch2a[0][0]             \n",
      "__________________________________________________________________________________________________\n",
      "activation_176 (Activation)     (None, None, None, 2 0           bn4a_branch2a[0][0]              \n",
      "__________________________________________________________________________________________________\n",
      "res4a_branch2b (Conv2D)         (None, None, None, 2 590080      activation_176[0][0]             \n",
      "__________________________________________________________________________________________________\n",
      "bn4a_branch2b (BatchNormalizati (None, None, None, 2 1024        res4a_branch2b[0][0]             \n",
      "__________________________________________________________________________________________________\n",
      "activation_177 (Activation)     (None, None, None, 2 0           bn4a_branch2b[0][0]              \n",
      "__________________________________________________________________________________________________\n",
      "res4a_branch2c (Conv2D)         (None, None, None, 1 263168      activation_177[0][0]             \n",
      "__________________________________________________________________________________________________\n",
      "res4a_branch1 (Conv2D)          (None, None, None, 1 525312      activation_175[0][0]             \n",
      "__________________________________________________________________________________________________\n",
      "bn4a_branch2c (BatchNormalizati (None, None, None, 1 4096        res4a_branch2c[0][0]             \n",
      "__________________________________________________________________________________________________\n",
      "bn4a_branch1 (BatchNormalizatio (None, None, None, 1 4096        res4a_branch1[0][0]              \n",
      "__________________________________________________________________________________________________\n",
      "add_56 (Add)                    (None, None, None, 1 0           bn4a_branch2c[0][0]              \n",
      "                                                                 bn4a_branch1[0][0]               \n",
      "__________________________________________________________________________________________________\n",
      "activation_178 (Activation)     (None, None, None, 1 0           add_56[0][0]                     \n",
      "__________________________________________________________________________________________________\n",
      "res4b_branch2a (Conv2D)         (None, None, None, 2 262400      activation_178[0][0]             \n",
      "__________________________________________________________________________________________________\n",
      "bn4b_branch2a (BatchNormalizati (None, None, None, 2 1024        res4b_branch2a[0][0]             \n",
      "__________________________________________________________________________________________________\n",
      "activation_179 (Activation)     (None, None, None, 2 0           bn4b_branch2a[0][0]              \n",
      "__________________________________________________________________________________________________\n",
      "res4b_branch2b (Conv2D)         (None, None, None, 2 590080      activation_179[0][0]             \n",
      "__________________________________________________________________________________________________\n",
      "bn4b_branch2b (BatchNormalizati (None, None, None, 2 1024        res4b_branch2b[0][0]             \n",
      "__________________________________________________________________________________________________\n",
      "activation_180 (Activation)     (None, None, None, 2 0           bn4b_branch2b[0][0]              \n",
      "__________________________________________________________________________________________________\n",
      "res4b_branch2c (Conv2D)         (None, None, None, 1 263168      activation_180[0][0]             \n",
      "__________________________________________________________________________________________________\n",
      "bn4b_branch2c (BatchNormalizati (None, None, None, 1 4096        res4b_branch2c[0][0]             \n",
      "__________________________________________________________________________________________________\n",
      "add_57 (Add)                    (None, None, None, 1 0           bn4b_branch2c[0][0]              \n",
      "                                                                 activation_178[0][0]             \n",
      "__________________________________________________________________________________________________\n",
      "activation_181 (Activation)     (None, None, None, 1 0           add_57[0][0]                     \n",
      "__________________________________________________________________________________________________\n",
      "res4c_branch2a (Conv2D)         (None, None, None, 2 262400      activation_181[0][0]             \n",
      "__________________________________________________________________________________________________\n",
      "bn4c_branch2a (BatchNormalizati (None, None, None, 2 1024        res4c_branch2a[0][0]             \n",
      "__________________________________________________________________________________________________\n",
      "activation_182 (Activation)     (None, None, None, 2 0           bn4c_branch2a[0][0]              \n",
      "__________________________________________________________________________________________________\n",
      "res4c_branch2b (Conv2D)         (None, None, None, 2 590080      activation_182[0][0]             \n",
      "__________________________________________________________________________________________________\n",
      "bn4c_branch2b (BatchNormalizati (None, None, None, 2 1024        res4c_branch2b[0][0]             \n",
      "__________________________________________________________________________________________________\n",
      "activation_183 (Activation)     (None, None, None, 2 0           bn4c_branch2b[0][0]              \n",
      "__________________________________________________________________________________________________\n",
      "res4c_branch2c (Conv2D)         (None, None, None, 1 263168      activation_183[0][0]             \n",
      "__________________________________________________________________________________________________\n",
      "bn4c_branch2c (BatchNormalizati (None, None, None, 1 4096        res4c_branch2c[0][0]             \n",
      "__________________________________________________________________________________________________\n",
      "add_58 (Add)                    (None, None, None, 1 0           bn4c_branch2c[0][0]              \n",
      "                                                                 activation_181[0][0]             \n",
      "__________________________________________________________________________________________________\n",
      "activation_184 (Activation)     (None, None, None, 1 0           add_58[0][0]                     \n",
      "__________________________________________________________________________________________________\n",
      "res4d_branch2a (Conv2D)         (None, None, None, 2 262400      activation_184[0][0]             \n",
      "__________________________________________________________________________________________________\n",
      "bn4d_branch2a (BatchNormalizati (None, None, None, 2 1024        res4d_branch2a[0][0]             \n",
      "__________________________________________________________________________________________________\n",
      "activation_185 (Activation)     (None, None, None, 2 0           bn4d_branch2a[0][0]              \n",
      "__________________________________________________________________________________________________\n",
      "res4d_branch2b (Conv2D)         (None, None, None, 2 590080      activation_185[0][0]             \n",
      "__________________________________________________________________________________________________\n",
      "bn4d_branch2b (BatchNormalizati (None, None, None, 2 1024        res4d_branch2b[0][0]             \n",
      "__________________________________________________________________________________________________\n",
      "activation_186 (Activation)     (None, None, None, 2 0           bn4d_branch2b[0][0]              \n",
      "__________________________________________________________________________________________________\n",
      "res4d_branch2c (Conv2D)         (None, None, None, 1 263168      activation_186[0][0]             \n",
      "__________________________________________________________________________________________________\n",
      "bn4d_branch2c (BatchNormalizati (None, None, None, 1 4096        res4d_branch2c[0][0]             \n",
      "__________________________________________________________________________________________________\n",
      "add_59 (Add)                    (None, None, None, 1 0           bn4d_branch2c[0][0]              \n",
      "                                                                 activation_184[0][0]             \n",
      "__________________________________________________________________________________________________\n",
      "activation_187 (Activation)     (None, None, None, 1 0           add_59[0][0]                     \n",
      "__________________________________________________________________________________________________\n",
      "res4e_branch2a (Conv2D)         (None, None, None, 2 262400      activation_187[0][0]             \n",
      "__________________________________________________________________________________________________\n",
      "bn4e_branch2a (BatchNormalizati (None, None, None, 2 1024        res4e_branch2a[0][0]             \n",
      "__________________________________________________________________________________________________\n",
      "activation_188 (Activation)     (None, None, None, 2 0           bn4e_branch2a[0][0]              \n",
      "__________________________________________________________________________________________________\n",
      "res4e_branch2b (Conv2D)         (None, None, None, 2 590080      activation_188[0][0]             \n",
      "__________________________________________________________________________________________________\n",
      "bn4e_branch2b (BatchNormalizati (None, None, None, 2 1024        res4e_branch2b[0][0]             \n",
      "__________________________________________________________________________________________________\n",
      "activation_189 (Activation)     (None, None, None, 2 0           bn4e_branch2b[0][0]              \n",
      "__________________________________________________________________________________________________\n",
      "res4e_branch2c (Conv2D)         (None, None, None, 1 263168      activation_189[0][0]             \n",
      "__________________________________________________________________________________________________\n",
      "bn4e_branch2c (BatchNormalizati (None, None, None, 1 4096        res4e_branch2c[0][0]             \n",
      "__________________________________________________________________________________________________\n",
      "add_60 (Add)                    (None, None, None, 1 0           bn4e_branch2c[0][0]              \n",
      "                                                                 activation_187[0][0]             \n",
      "__________________________________________________________________________________________________\n",
      "activation_190 (Activation)     (None, None, None, 1 0           add_60[0][0]                     \n",
      "__________________________________________________________________________________________________\n",
      "res4f_branch2a (Conv2D)         (None, None, None, 2 262400      activation_190[0][0]             \n",
      "__________________________________________________________________________________________________\n",
      "bn4f_branch2a (BatchNormalizati (None, None, None, 2 1024        res4f_branch2a[0][0]             \n",
      "__________________________________________________________________________________________________\n",
      "activation_191 (Activation)     (None, None, None, 2 0           bn4f_branch2a[0][0]              \n",
      "__________________________________________________________________________________________________\n",
      "res4f_branch2b (Conv2D)         (None, None, None, 2 590080      activation_191[0][0]             \n",
      "__________________________________________________________________________________________________\n",
      "bn4f_branch2b (BatchNormalizati (None, None, None, 2 1024        res4f_branch2b[0][0]             \n",
      "__________________________________________________________________________________________________\n",
      "activation_192 (Activation)     (None, None, None, 2 0           bn4f_branch2b[0][0]              \n",
      "__________________________________________________________________________________________________\n",
      "res4f_branch2c (Conv2D)         (None, None, None, 1 263168      activation_192[0][0]             \n",
      "__________________________________________________________________________________________________\n",
      "bn4f_branch2c (BatchNormalizati (None, None, None, 1 4096        res4f_branch2c[0][0]             \n",
      "__________________________________________________________________________________________________\n",
      "add_61 (Add)                    (None, None, None, 1 0           bn4f_branch2c[0][0]              \n",
      "                                                                 activation_190[0][0]             \n",
      "__________________________________________________________________________________________________\n",
      "activation_193 (Activation)     (None, None, None, 1 0           add_61[0][0]                     \n",
      "__________________________________________________________________________________________________\n",
      "res5a_branch2a (Conv2D)         (None, None, None, 5 524800      activation_193[0][0]             \n",
      "__________________________________________________________________________________________________\n",
      "bn5a_branch2a (BatchNormalizati (None, None, None, 5 2048        res5a_branch2a[0][0]             \n",
      "__________________________________________________________________________________________________\n",
      "activation_194 (Activation)     (None, None, None, 5 0           bn5a_branch2a[0][0]              \n",
      "__________________________________________________________________________________________________\n",
      "res5a_branch2b (Conv2D)         (None, None, None, 5 2359808     activation_194[0][0]             \n",
      "__________________________________________________________________________________________________\n",
      "bn5a_branch2b (BatchNormalizati (None, None, None, 5 2048        res5a_branch2b[0][0]             \n",
      "__________________________________________________________________________________________________\n",
      "activation_195 (Activation)     (None, None, None, 5 0           bn5a_branch2b[0][0]              \n",
      "__________________________________________________________________________________________________\n",
      "res5a_branch2c (Conv2D)         (None, None, None, 2 1050624     activation_195[0][0]             \n",
      "__________________________________________________________________________________________________\n",
      "res5a_branch1 (Conv2D)          (None, None, None, 2 2099200     activation_193[0][0]             \n",
      "__________________________________________________________________________________________________\n",
      "bn5a_branch2c (BatchNormalizati (None, None, None, 2 8192        res5a_branch2c[0][0]             \n",
      "__________________________________________________________________________________________________\n",
      "bn5a_branch1 (BatchNormalizatio (None, None, None, 2 8192        res5a_branch1[0][0]              \n",
      "__________________________________________________________________________________________________\n",
      "add_62 (Add)                    (None, None, None, 2 0           bn5a_branch2c[0][0]              \n",
      "                                                                 bn5a_branch1[0][0]               \n",
      "__________________________________________________________________________________________________\n",
      "activation_196 (Activation)     (None, None, None, 2 0           add_62[0][0]                     \n",
      "__________________________________________________________________________________________________\n",
      "res5b_branch2a (Conv2D)         (None, None, None, 5 1049088     activation_196[0][0]             \n",
      "__________________________________________________________________________________________________\n",
      "bn5b_branch2a (BatchNormalizati (None, None, None, 5 2048        res5b_branch2a[0][0]             \n",
      "__________________________________________________________________________________________________\n",
      "activation_197 (Activation)     (None, None, None, 5 0           bn5b_branch2a[0][0]              \n",
      "__________________________________________________________________________________________________\n",
      "res5b_branch2b (Conv2D)         (None, None, None, 5 2359808     activation_197[0][0]             \n",
      "__________________________________________________________________________________________________\n",
      "bn5b_branch2b (BatchNormalizati (None, None, None, 5 2048        res5b_branch2b[0][0]             \n",
      "__________________________________________________________________________________________________\n",
      "activation_198 (Activation)     (None, None, None, 5 0           bn5b_branch2b[0][0]              \n",
      "__________________________________________________________________________________________________\n",
      "res5b_branch2c (Conv2D)         (None, None, None, 2 1050624     activation_198[0][0]             \n",
      "__________________________________________________________________________________________________\n",
      "bn5b_branch2c (BatchNormalizati (None, None, None, 2 8192        res5b_branch2c[0][0]             \n",
      "__________________________________________________________________________________________________\n",
      "add_63 (Add)                    (None, None, None, 2 0           bn5b_branch2c[0][0]              \n",
      "                                                                 activation_196[0][0]             \n",
      "__________________________________________________________________________________________________\n",
      "activation_199 (Activation)     (None, None, None, 2 0           add_63[0][0]                     \n",
      "__________________________________________________________________________________________________\n",
      "res5c_branch2a (Conv2D)         (None, None, None, 5 1049088     activation_199[0][0]             \n",
      "__________________________________________________________________________________________________\n",
      "bn5c_branch2a (BatchNormalizati (None, None, None, 5 2048        res5c_branch2a[0][0]             \n",
      "__________________________________________________________________________________________________\n",
      "activation_200 (Activation)     (None, None, None, 5 0           bn5c_branch2a[0][0]              \n",
      "__________________________________________________________________________________________________\n",
      "res5c_branch2b (Conv2D)         (None, None, None, 5 2359808     activation_200[0][0]             \n",
      "__________________________________________________________________________________________________\n",
      "bn5c_branch2b (BatchNormalizati (None, None, None, 5 2048        res5c_branch2b[0][0]             \n",
      "__________________________________________________________________________________________________\n",
      "activation_201 (Activation)     (None, None, None, 5 0           bn5c_branch2b[0][0]              \n",
      "__________________________________________________________________________________________________\n",
      "res5c_branch2c (Conv2D)         (None, None, None, 2 1050624     activation_201[0][0]             \n",
      "__________________________________________________________________________________________________\n",
      "bn5c_branch2c (BatchNormalizati (None, None, None, 2 8192        res5c_branch2c[0][0]             \n",
      "__________________________________________________________________________________________________\n",
      "add_64 (Add)                    (None, None, None, 2 0           bn5c_branch2c[0][0]              \n",
      "                                                                 activation_199[0][0]             \n",
      "__________________________________________________________________________________________________\n",
      "activation_202 (Activation)     (None, None, None, 2 0           add_64[0][0]                     \n",
      "__________________________________________________________________________________________________\n",
      "avg_pool (AveragePooling2D)     (None, None, None, 2 0           activation_202[0][0]             \n",
      "==================================================================================================\n",
      "Total params: 23,587,712\n",
      "Trainable params: 23,534,592\n",
      "Non-trainable params: 53,120\n",
      "__________________________________________________________________________________________________\n"
     ]
    }
   ],
   "source": [
    "model = ResNet50(weights='imagenet',include_top=False)\n",
    "model.summary()"
   ]
  },
  {
   "cell_type": "code",
   "execution_count": 456,
   "metadata": {},
   "outputs": [
    {
     "name": "stdout",
     "output_type": "stream",
     "text": [
      "(1, 224, 224, 3)\n",
      "(1, 28, 28, 512)\n"
     ]
    },
    {
     "data": {
      "text/plain": [
       "<matplotlib.image.AxesImage at 0xe52133cc50>"
      ]
     },
     "execution_count": 456,
     "metadata": {},
     "output_type": "execute_result"
    },
    {
     "data": {
      "image/png": "[encoded data removed]",
      "text/plain": [
       "<matplotlib.figure.Figure at 0xe521304470>"
      ]
     },
     "metadata": {},
     "output_type": "display_data"
    }
   ],
   "source": [
    "img_path = 'e:\\\\tmp\\\\tt.jpg'\n",
    "img = image.load_img(img_path, target_size=(224, 224))\n",
    "x = image.img_to_array(img)\n",
    "x = np.expand_dims(x, axis=0)\n",
    "x = preprocess_input(x)\n",
    "print(x.shape)\n",
    "#features = model.predict(x)\n",
    "\n",
    "\n",
    "model_conv1 = Model(inputs=model.input, outputs=model.get_layer('res3c_branch2c').output)\n",
    "conv_lays = model_conv1.predict(x)\n",
    "print(conv_lays.shape)\n",
    "plt.imshow(conv_lays[0,:,:,0])"
   ]
  },
  {
   "cell_type": "code",
   "execution_count": 457,
   "metadata": {},
   "outputs": [
    {
     "data": {
      "image/png": "[encoded data removed]",
      "text/plain": [
       "<matplotlib.figure.Figure at 0xe521d21710>"
      ]
     },
     "metadata": {},
     "output_type": "display_data"
    }
   ],
   "source": [
    "_,ax = plt.subplots(8,8)\n",
    "for i ,axi in enumerate(ax.flat):\n",
    "    axi.imshow(conv_lays[0,:,:,i])\n"
   ]
  },
  {
   "cell_type": "code",
   "execution_count": 461,
   "metadata": {
    "collapsed": true
   },
   "outputs": [],
   "source": [
    "features = model.predict(x)\n",
    "newf = features.reshape(-1,2048)"
   ]
  },
  {
   "cell_type": "code",
   "execution_count": 463,
   "metadata": {},
   "outputs": [
    {
     "data": {
      "text/plain": [
       "array([[0.25641397, 0.10728884, 0.        , ..., 0.        , 0.        ,\n",
       "        0.14940809]], dtype=float32)"
      ]
     },
     "execution_count": 463,
     "metadata": {},
     "output_type": "execute_result"
    }
   ],
   "source": [
    "newf"
   ]
  },
  {
   "cell_type": "code",
   "execution_count": 532,
   "metadata": {
    "collapsed": true
   },
   "outputs": [],
   "source": [
    "\n",
    "import numpy as np\n",
    "model = ResNet50(weights='imagenet',include_top=False)\n",
    "def cos(x1,x2):\n",
    "    \n",
    "    f12 = (x1*x2).sum()\n",
    "    f11 = np.sqrt((x1*x1).sum())\n",
    "    f22 = np.sqrt((x2*x2).sum())\n",
    "    return f12/(f11*f22)\n",
    "\n",
    "def get_feature_from_img(img_path):\n",
    "    \n",
    "    img = image.load_img(img_path, target_size=(224, 224))\n",
    "    x = image.img_to_array(img)\n",
    "    x = np.expand_dims(x, axis=0)\n",
    "    x = preprocess_input(x)\n",
    "    features = model.predict(x)\n",
    "    features = features.ravel()\n",
    "    return features\n",
    "\n",
    "\n",
    "\n",
    "\n",
    "\n",
    "\n"
   ]
  },
  {
   "cell_type": "code",
   "execution_count": 517,
   "metadata": {},
   "outputs": [
    {
     "name": "stdout",
     "output_type": "stream",
     "text": [
      "tc--szy  0.59600604\n",
      "jze-jze  0.5862054\n"
     ]
    }
   ],
   "source": [
    "tc_1 = 'e:\\\\tmp\\\\tc_1.jpg'\n",
    "tc_2 = 'e:\\\\tmp\\\\tc_2.jpg'\n",
    "tc_3 = 'e:\\\\tmp\\\\tc_3.jpg'\n",
    "tc_4 = 'e:\\\\tmp\\\\tc_4.jpg'\n",
    "tc_5 = 'e:\\\\tmp\\\\tc_5.jpg'\n",
    "bz_1 = 'e:\\\\tmp\\\\bz_1.jpg'\n",
    "jze_1 = 'e:\\\\tmp\\\\jze_1.jpg'\n",
    "img_path = 'e:\\\\tmp\\\\tt.jpg'\n",
    "szy_1 = 'e:\\\\tmp\\\\szy_1.jpg'\n",
    "szy_2 = 'e:\\\\tmp\\\\szy_2.jpg'\n",
    "features_szy_1 = get_feature_from_img(szy_1)\n",
    "features_szy_2 = get_feature_from_img(szy_2)\n",
    "\n",
    "features_tc_1 = get_feature_from_img(tc_1)\n",
    "features_tc_2 = get_feature_from_img(tc_2)\n",
    "features_tc_5 = get_feature_from_img(tc_5)\n",
    "features_tc_4 = get_feature_from_img(tc_4)\n",
    "features_bz_1 = get_feature_from_img(bz_1)\n",
    "features_bz_1 = get_feature_from_img(bz_1)\n",
    "features_jze_1 = get_feature_from_img(jze_1)\n",
    "features_tt = get_feature_from_img(img_path)\n",
    "print(\"tc--szy \",cos(features_szy_2,features_szy_1))\n",
    "\n",
    "print(\"jze-jze \",cos(features_tc_4,features_szy_2))\n",
    "\n"
   ]
  },
  {
   "cell_type": "code",
   "execution_count": 501,
   "metadata": {},
   "outputs": [
    {
     "data": {
      "text/plain": [
       "(1, 224, 224, 3)"
      ]
     },
     "execution_count": 501,
     "metadata": {},
     "output_type": "execute_result"
    }
   ],
   "source": [
    "x.shape"
   ]
  },
  {
   "cell_type": "code",
   "execution_count": 503,
   "metadata": {},
   "outputs": [
    {
     "data": {
      "text/plain": [
       "array([[[[0.25641397, 0.10728884, 0.        , ..., 0.        ,\n",
       "          0.        , 0.14940809]]]], dtype=float32)"
      ]
     },
     "execution_count": 503,
     "metadata": {},
     "output_type": "execute_result"
    }
   ],
   "source": [
    "model.predict(x)"
   ]
  },
  {
   "cell_type": "code",
   "execution_count": 513,
   "metadata": {},
   "outputs": [
    {
     "name": "stdout",
     "output_type": "stream",
     "text": [
      "Predicted: [('n03617480', 'kimono', 0.22114246), ('n02669723', 'academic_gown', 0.16721722), ('n03787032', 'mortarboard', 0.03957882)]\n"
     ]
    }
   ],
   "source": [
    "#model = ResNet50(weights='imagenet')\n",
    "szy_1 = 'e:\\\\tmp\\\\szy_1.jpg'\n",
    "img = image.load_img(szy_1, target_size=(224, 224))\n",
    "x = image.img_to_array(img)\n",
    "x = np.expand_dims(x, axis=0)\n",
    "x = preprocess_input(x)\n",
    "preds = model.predict(x)\n",
    "print('Predicted:', decode_predictions(preds, top=3)[0])"
   ]
  },
  {
   "cell_type": "code",
   "execution_count": 521,
   "metadata": {},
   "outputs": [
    {
     "name": "stdout",
     "output_type": "stream",
     "text": [
      "__________________________________________________________________________________________________\n",
      "Layer (type)                    Output Shape         Param #     Connected to                     \n",
      "==================================================================================================\n",
      "input_85 (InputLayer)           (None, 140, 256)     0                                            \n",
      "__________________________________________________________________________________________________\n",
      "input_86 (InputLayer)           (None, 140, 256)     0                                            \n",
      "__________________________________________________________________________________________________\n",
      "lstm_43 (LSTM)                  (None, 64)           82176       input_85[0][0]                   \n",
      "                                                                 input_86[0][0]                   \n",
      "__________________________________________________________________________________________________\n",
      "concatenate_33 (Concatenate)    (None, 128)          0           lstm_43[0][0]                    \n",
      "                                                                 lstm_43[1][0]                    \n",
      "__________________________________________________________________________________________________\n",
      "dense_103 (Dense)               (None, 1)            129         concatenate_33[0][0]             \n",
      "==================================================================================================\n",
      "Total params: 82,305\n",
      "Trainable params: 82,305\n",
      "Non-trainable params: 0\n",
      "__________________________________________________________________________________________________\n"
     ]
    }
   ],
   "source": [
    "import keras\n",
    "from keras.layers import Input, LSTM, Dense\n",
    "from keras.models import Model\n",
    "\n",
    "tweet_a = Input(shape=(140, 256))\n",
    "tweet_b = Input(shape=(140, 256))\n",
    "shared_lstm = LSTM(64)\n",
    "\n",
    "# When we reuse the same layer instance\n",
    "# multiple times, the weights of the layer\n",
    "# are also being reused\n",
    "# (it is effectively *the same* layer)\n",
    "encoded_a = shared_lstm(tweet_a)\n",
    "encoded_b = shared_lstm(tweet_b)\n",
    "\n",
    "# We can then concatenate the two vectors:\n",
    "merged_vector = keras.layers.concatenate([encoded_a, encoded_b], axis=-1)\n",
    "\n",
    "# And add a logistic regression on top\n",
    "predictions = Dense(1, activation='sigmoid')(merged_vector)\n",
    "\n",
    "# We define a trainable model linking the\n",
    "# tweet inputs to the predictions\n",
    "model = Model(inputs=[tweet_a, tweet_b], outputs=predictions)\n",
    "\n",
    "model.summary()"
   ]
  },
  {
   "cell_type": "code",
   "execution_count": 528,
   "metadata": {},
   "outputs": [
    {
     "data": {
      "text/plain": [
       "['__call__',\n",
       " '__class__',\n",
       " '__delattr__',\n",
       " '__dict__',\n",
       " '__dir__',\n",
       " '__doc__',\n",
       " '__eq__',\n",
       " '__format__',\n",
       " '__ge__',\n",
       " '__getattribute__',\n",
       " '__gt__',\n",
       " '__hash__',\n",
       " '__init__',\n",
       " '__init_subclass__',\n",
       " '__le__',\n",
       " '__lt__',\n",
       " '__module__',\n",
       " '__ne__',\n",
       " '__new__',\n",
       " '__reduce__',\n",
       " '__reduce_ex__',\n",
       " '__repr__',\n",
       " '__setattr__',\n",
       " '__sizeof__',\n",
       " '__slotnames__',\n",
       " '__str__',\n",
       " '__subclasshook__',\n",
       " '__weakref__',\n",
       " '_add_inbound_node',\n",
       " '_built',\n",
       " '_get_node_attribute_at_index',\n",
       " '_inbound_nodes',\n",
       " '_initial_weights',\n",
       " '_losses',\n",
       " '_node_key',\n",
       " '_non_trainable_weights',\n",
       " '_num_constants',\n",
       " '_outbound_nodes',\n",
       " '_per_input_losses',\n",
       " '_per_input_updates',\n",
       " '_standardize_args',\n",
       " '_states',\n",
       " '_trainable_weights',\n",
       " '_updates',\n",
       " 'activation',\n",
       " 'activity_regularizer',\n",
       " 'add_loss',\n",
       " 'add_update',\n",
       " 'add_weight',\n",
       " 'assert_input_compatibility',\n",
       " 'bias_constraint',\n",
       " 'bias_initializer',\n",
       " 'bias_regularizer',\n",
       " 'build',\n",
       " 'built',\n",
       " 'call',\n",
       " 'cell',\n",
       " 'compute_mask',\n",
       " 'compute_output_shape',\n",
       " 'constants_spec',\n",
       " 'count_params',\n",
       " 'dropout',\n",
       " 'from_config',\n",
       " 'get_config',\n",
       " 'get_initial_state',\n",
       " 'get_input_at',\n",
       " 'get_input_mask_at',\n",
       " 'get_input_shape_at',\n",
       " 'get_losses_for',\n",
       " 'get_output_at',\n",
       " 'get_output_mask_at',\n",
       " 'get_output_shape_at',\n",
       " 'get_updates_for',\n",
       " 'get_weights',\n",
       " 'go_backwards',\n",
       " 'implementation',\n",
       " 'input',\n",
       " 'input_mask',\n",
       " 'input_shape',\n",
       " 'input_spec',\n",
       " 'kernel_constraint',\n",
       " 'kernel_initializer',\n",
       " 'kernel_regularizer',\n",
       " 'losses',\n",
       " 'name',\n",
       " 'non_trainable_weights',\n",
       " 'output',\n",
       " 'output_mask',\n",
       " 'output_shape',\n",
       " 'recurrent_activation',\n",
       " 'recurrent_constraint',\n",
       " 'recurrent_dropout',\n",
       " 'recurrent_initializer',\n",
       " 'recurrent_regularizer',\n",
       " 'reset_states',\n",
       " 'return_sequences',\n",
       " 'return_state',\n",
       " 'set_weights',\n",
       " 'state_spec',\n",
       " 'stateful',\n",
       " 'states',\n",
       " 'supports_masking',\n",
       " 'trainable',\n",
       " 'trainable_weights',\n",
       " 'unit_forget_bias',\n",
       " 'units',\n",
       " 'unroll',\n",
       " 'updates',\n",
       " 'use_bias',\n",
       " 'weights']"
      ]
     },
     "execution_count": 528,
     "metadata": {},
     "output_type": "execute_result"
    }
   ],
   "source": [
    "dir(shared_lstm)"
   ]
  },
  {
   "cell_type": "code",
   "execution_count": 530,
   "metadata": {},
   "outputs": [
    {
     "data": {
      "text/plain": [
       "<tf.Tensor 'input_85:0' shape=(?, 140, 256) dtype=float32>"
      ]
     },
     "execution_count": 530,
     "metadata": {},
     "output_type": "execute_result"
    }
   ],
   "source": [
    "shared_lstm.get_input_at(0)"
   ]
  },
  {
   "cell_type": "code",
   "execution_count": 25,
   "metadata": {},
   "outputs": [
    {
     "name": "stdout",
     "output_type": "stream",
     "text": [
      "6000 train samples\n",
      "1000 test samples\n",
      "y_test2.shape: [[0. 0. 0. ... 1. 0. 0.]\n",
      " [0. 0. 1. ... 0. 0. 0.]\n",
      " [0. 1. 0. ... 0. 0. 0.]\n",
      " ...\n",
      " [1. 0. 0. ... 0. 0. 0.]\n",
      " [0. 0. 0. ... 0. 1. 0.]\n",
      " [0. 0. 0. ... 0. 0. 1.]]\n",
      "_________________________________________________________________\n",
      "Layer (type)                 Output Shape              Param #   \n",
      "=================================================================\n",
      "dense_27 (Dense)             (None, 512)               401920    \n",
      "_________________________________________________________________\n",
      "dropout_1 (Dropout)          (None, 512)               0         \n",
      "_________________________________________________________________\n",
      "dense_28 (Dense)             (None, 512)               262656    \n",
      "_________________________________________________________________\n",
      "dropout_2 (Dropout)          (None, 512)               0         \n",
      "_________________________________________________________________\n",
      "dense_29 (Dense)             (None, 10)                5130      \n",
      "=================================================================\n",
      "Total params: 669,706\n",
      "Trainable params: 669,706\n",
      "Non-trainable params: 0\n",
      "_________________________________________________________________\n",
      "Train on 6000 samples, validate on 1000 samples\n",
      "Epoch 1/20\n",
      "6000/6000 [==============================] - 3s 432us/step - loss: 1.6856 - acc: 0.4600 - val_loss: 0.9752 - val_acc: 0.7270\n",
      "Epoch 2/20\n",
      "6000/6000 [==============================] - 1s 177us/step - loss: 0.7147 - acc: 0.7915 - val_loss: 0.5816 - val_acc: 0.8130\n",
      "Epoch 3/20\n",
      "6000/6000 [==============================] - 1s 176us/step - loss: 0.4718 - acc: 0.8627 - val_loss: 0.4641 - val_acc: 0.8670\n",
      "Epoch 4/20\n",
      "6000/6000 [==============================] - 1s 179us/step - loss: 0.3680 - acc: 0.8895 - val_loss: 0.3963 - val_acc: 0.8790\n",
      "Epoch 5/20\n",
      "6000/6000 [==============================] - 1s 174us/step - loss: 0.3331 - acc: 0.9008 - val_loss: 0.3525 - val_acc: 0.8850\n",
      "Epoch 6/20\n",
      "6000/6000 [==============================] - 1s 179us/step - loss: 0.2928 - acc: 0.9092 - val_loss: 0.3568 - val_acc: 0.8850\n",
      "Epoch 7/20\n",
      "6000/6000 [==============================] - 1s 178us/step - loss: 0.2724 - acc: 0.9202 - val_loss: 0.3384 - val_acc: 0.8860\n",
      "Epoch 8/20\n",
      "6000/6000 [==============================] - 1s 176us/step - loss: 0.2531 - acc: 0.9223 - val_loss: 0.3162 - val_acc: 0.8990\n",
      "Epoch 9/20\n",
      "6000/6000 [==============================] - 1s 171us/step - loss: 0.2282 - acc: 0.9345 - val_loss: 0.3143 - val_acc: 0.8980\n",
      "Epoch 10/20\n",
      "6000/6000 [==============================] - 1s 170us/step - loss: 0.2154 - acc: 0.9355 - val_loss: 0.3944 - val_acc: 0.8800\n",
      "Epoch 11/20\n",
      "6000/6000 [==============================] - 1s 173us/step - loss: 0.2030 - acc: 0.9403 - val_loss: 0.2986 - val_acc: 0.9120\n",
      "Epoch 12/20\n",
      "6000/6000 [==============================] - 1s 193us/step - loss: 0.1844 - acc: 0.9457 - val_loss: 0.2770 - val_acc: 0.9100\n",
      "Epoch 13/20\n",
      "6000/6000 [==============================] - 1s 187us/step - loss: 0.1724 - acc: 0.9488 - val_loss: 0.2818 - val_acc: 0.9120\n",
      "Epoch 14/20\n",
      "6000/6000 [==============================] - 1s 180us/step - loss: 0.1631 - acc: 0.9498 - val_loss: 0.2899 - val_acc: 0.9120\n",
      "Epoch 15/20\n",
      "6000/6000 [==============================] - 1s 175us/step - loss: 0.1497 - acc: 0.9523 - val_loss: 0.2683 - val_acc: 0.9170\n",
      "Epoch 16/20\n",
      "6000/6000 [==============================] - 1s 172us/step - loss: 0.1380 - acc: 0.9607 - val_loss: 0.2629 - val_acc: 0.9190\n",
      "Epoch 17/20\n",
      "6000/6000 [==============================] - 1s 172us/step - loss: 0.1270 - acc: 0.9603 - val_loss: 0.2680 - val_acc: 0.9190\n",
      "Epoch 18/20\n",
      "6000/6000 [==============================] - 1s 172us/step - loss: 0.1189 - acc: 0.9638 - val_loss: 0.2751 - val_acc: 0.9100\n",
      "Epoch 19/20\n",
      "6000/6000 [==============================] - 1s 174us/step - loss: 0.1094 - acc: 0.9655 - val_loss: 0.2456 - val_acc: 0.9190\n",
      "Epoch 20/20\n",
      "6000/6000 [==============================] - 1s 173us/step - loss: 0.1043 - acc: 0.9677 - val_loss: 0.2749 - val_acc: 0.9080\n",
      "Test loss: 0.27487294340133667\n",
      "Test accuracy: 0.908\n"
     ]
    }
   ],
   "source": [
    "import keras\n",
    "from keras.datasets import mnist\n",
    "from keras.models import Sequential\n",
    "from keras.layers import Dense, Dropout\n",
    "from keras.optimizers import RMSprop\n",
    "\n",
    "batch_size = 128\n",
    "num_classes = 10\n",
    "epochs = 20\n",
    "\n",
    "# the data, shuffled and split between train and test sets\n",
    "(x_train, y_train), (x_test, y_test) = mnist.load_data()\n",
    "x_train = x_train[0:6000]\n",
    "y_train = y_train[0:6000]\n",
    "x_test = x_test[0:1000]\n",
    "y_test = y_test[0:1000]\n",
    "\n",
    "x_train = x_train.reshape(6000, 784)\n",
    "x_test = x_test.reshape(1000, 784)\n",
    "x_train = x_train.astype('float32')\n",
    "x_test = x_test.astype('float32')\n",
    "\n",
    "x_train /= 255\n",
    "x_test /= 255\n",
    "print(x_train.shape[0], 'train samples')\n",
    "print(x_test.shape[0], 'test samples')\n",
    "\n",
    "# convert class vectors to binary class matrices\n",
    "y_train = keras.utils.to_categorical(y_train, num_classes)\n",
    "y_test = keras.utils.to_categorical(y_test, num_classes)\n",
    "print(\"y_test2.shape:\",y_test)\n",
    "model = Sequential()\n",
    "model.add(Dense(512, activation='sigmoid', input_shape=(784,)))\n",
    "model.add(Dropout(0.2))\n",
    "model.add(Dense(512, activation='sigmoid'))\n",
    "model.add(Dropout(0.2))\n",
    "model.add(Dense(num_classes, activation='softmax'))\n",
    "\n",
    "model.summary()\n",
    "\n",
    "model.compile(loss='categorical_crossentropy',\n",
    "              optimizer=RMSprop(),\n",
    "              metrics=['accuracy'])\n",
    "\n",
    "history = model.fit(x_train, y_train,\n",
    "                    batch_size=batch_size,\n",
    "                    epochs=epochs,\n",
    "                    verbose=1,\n",
    "                    validation_data=(x_test, y_test))\n",
    "score = model.evaluate(x_test, y_test, verbose=0)\n",
    "print('Test loss:', score[0])\n",
    "print('Test accuracy:', score[1])\n"
   ]
  },
  {
   "cell_type": "code",
   "execution_count": 89,
   "metadata": {},
   "outputs": [
    {
     "data": {
      "text/plain": [
       "'categorical_crossentropy'"
      ]
     },
     "execution_count": 89,
     "metadata": {},
     "output_type": "execute_result"
    }
   ],
   "source": []
  },
  {
   "cell_type": "code",
   "execution_count": 38,
   "metadata": {
    "collapsed": true
   },
   "outputs": [],
   "source": [
    "sub_model = Model(inputs=model.input,outputs=model.get_layer('dense_28').output)\n",
    "d1 = sub_model.predict(x_test[0:1,:])"
   ]
  },
  {
   "cell_type": "code",
   "execution_count": 35,
   "metadata": {
    "collapsed": true
   },
   "outputs": [],
   "source": [
    "sub_model = Model(inputs=model.input,outputs=model.get_layer('dropout_1').output)\n",
    "d2 = sub_model.predict(x_test[0:1,:])"
   ]
  },
  {
   "cell_type": "code",
   "execution_count": 85,
   "metadata": {},
   "outputs": [
    {
     "data": {
      "text/plain": [
       "array([-0.0141641 , -0.00158759,  0.01165266,  0.00199743,  0.01235754,\n",
       "        0.01079319, -0.00278395,  0.00841087,  0.00166992,  0.00644189],\n",
       "      dtype=float32)"
      ]
     },
     "execution_count": 85,
     "metadata": {},
     "output_type": "execute_result"
    }
   ],
   "source": [
    "d1 = model.get_weights()[5]\n",
    "\n",
    "d1"
   ]
  },
  {
   "cell_type": "code",
   "execution_count": 545,
   "metadata": {},
   "outputs": [
    {
     "data": {
      "text/plain": [
       "[<matplotlib.lines.Line2D at 0xe55d872e80>]"
      ]
     },
     "execution_count": 545,
     "metadata": {},
     "output_type": "execute_result"
    },
    {
     "data": {
      "image/png": "[encoded data removed]",
      "text/plain": [
       "<matplotlib.figure.Figure at 0xe55d872f98>"
      ]
     },
     "metadata": {},
     "output_type": "display_data"
    }
   ],
   "source": [
    "plt.plot(history.history['loss'])\n",
    "plt.plot(history.history['val_loss'])\n"
   ]
  },
  {
   "cell_type": "code",
   "execution_count": 546,
   "metadata": {
    "collapsed": true
   },
   "outputs": [],
   "source": [
    "from __future__ import absolute_import\n",
    "from __future__ import print_function\n",
    "import numpy as np\n",
    "\n",
    "import random\n",
    "from keras.datasets import mnist\n",
    "from keras.models import Model\n",
    "from keras.layers import Input, Flatten, Dense, Dropout, Lambda\n",
    "from keras.optimizers import RMSprop\n",
    "from keras import backend as K\n",
    "\n",
    "num_classes = 10\n",
    "epochs = 20\n",
    "\n",
    "\n",
    "def euclidean_distance(vects):\n",
    "    x, y = vects\n",
    "    return K.sqrt(K.maximum(K.sum(K.square(x - y), axis=1, keepdims=True), K.epsilon()))\n",
    "\n",
    "\n",
    "def eucl_dist_output_shape(shapes):\n",
    "    shape1, shape2 = shapes\n",
    "    return (shape1[0], 1)\n",
    "\n",
    "\n",
    "def contrastive_loss(y_true, y_pred):\n",
    "    '''Contrastive loss from Hadsell-et-al.'06\n",
    "    http://yann.lecun.com/exdb/publis/pdf/hadsell-chopra-lecun-06.pdf\n",
    "    '''\n",
    "    margin = 1\n",
    "    return K.mean(y_true * K.square(y_pred) +\n",
    "                  (1 - y_true) * K.square(K.maximum(margin - y_pred, 0)))\n",
    "\n",
    "\n",
    "def create_pairs(x, digit_indices):\n",
    "    '''Positive and negative pair creation.\n",
    "    Alternates between positive and negative pairs.\n",
    "    '''\n",
    "    pairs = []\n",
    "    labels = []\n",
    "    n = min([len(digit_indices[d]) for d in range(num_classes)]) - 1\n",
    "    for d in range(num_classes):\n",
    "        for i in range(n):\n",
    "            z1, z2 = digit_indices[d][i], digit_indices[d][i + 1]\n",
    "            pairs += [[x[z1], x[z2]]]\n",
    "            inc = random.randrange(1, num_classes)\n",
    "            dn = (d + inc) % num_classes\n",
    "            z1, z2 = digit_indices[d][i], digit_indices[dn][i]\n",
    "            pairs += [[x[z1], x[z2]]]\n",
    "            labels += [1, 0]\n",
    "    return np.array(pairs), np.array(labels)\n",
    "\n",
    "\n",
    "def create_base_network(input_shape):\n",
    "    '''Base network to be shared (eq. to feature extraction).\n",
    "    '''\n",
    "    input = Input(shape=input_shape)\n",
    "    x = Flatten()(input)\n",
    "    x = Dense(128, activation='relu')(x)\n",
    "    x = Dropout(0.1)(x)\n",
    "    x = Dense(128, activation='relu')(x)\n",
    "    x = Dropout(0.1)(x)\n",
    "    x = Dense(128, activation='relu')(x)\n",
    "    return Model(input, x)\n",
    "\n",
    "\n",
    "def compute_accuracy(y_true, y_pred):\n",
    "    '''Compute classification accuracy with a fixed threshold on distances.\n",
    "    '''\n",
    "    pred = y_pred.ravel() < 0.5\n",
    "    return np.mean(pred == y_true)\n",
    "\n",
    "\n",
    "def accuracy(y_true, y_pred):\n",
    "    '''Compute classification accuracy with a fixed threshold on distances.\n",
    "    '''\n",
    "    return K.mean(K.equal(y_true, K.cast(y_pred < 0.5, y_true.dtype)))\n",
    "\n",
    "\n",
    "# the data, shuffled and split between train and test sets\n",
    "(x_train, y_train), (x_test, y_test) = mnist.load_data()\n",
    "x_train = x_train.astype('float32')\n",
    "x_test = x_test.astype('float32')\n",
    "x_train /= 255\n",
    "x_test /= 255\n",
    "input_shape = x_train.shape[1:]\n",
    "\n",
    "# create training+test positive and negative pairs\n",
    "digit_indices = [np.where(y_train == i)[0] for i in range(num_classes)]\n",
    "tr_pairs, tr_y = create_pairs(x_train, digit_indices)\n"
   ]
  },
  {
   "cell_type": "code",
   "execution_count": 547,
   "metadata": {},
   "outputs": [
    {
     "data": {
      "text/plain": [
       "(108400, 2, 28, 28)"
      ]
     },
     "execution_count": 547,
     "metadata": {},
     "output_type": "execute_result"
    }
   ],
   "source": [
    "tr_pairs.shape"
   ]
  },
  {
   "cell_type": "code",
   "execution_count": 568,
   "metadata": {},
   "outputs": [
    {
     "data": {
      "text/plain": [
       "<matplotlib.image.AxesImage at 0xe50ae8c208>"
      ]
     },
     "execution_count": 568,
     "metadata": {},
     "output_type": "execute_result"
    },
    {
     "data": {
      "image/png": "[encoded data removed]",
      "text/plain": [
       "<matplotlib.figure.Figure at 0xe50ae1f4a8>"
      ]
     },
     "metadata": {},
     "output_type": "display_data"
    }
   ],
   "source": [
    "plt.imshow(tr_pairs[4,0,:,:])"
   ]
  },
  {
   "cell_type": "code",
   "execution_count": 564,
   "metadata": {},
   "outputs": [
    {
     "data": {
      "text/plain": [
       "array([1, 0, 1, 0, 1, 0, 1, 0, 1, 0])"
      ]
     },
     "execution_count": 564,
     "metadata": {},
     "output_type": "execute_result"
    }
   ],
   "source": [
    "tr_y[0:10]"
   ]
  },
  {
   "cell_type": "code",
   "execution_count": 2,
   "metadata": {
    "collapsed": true
   },
   "outputs": [],
   "source": [
    "from keras.datasets import boston_housing\n",
    "\n",
    "(x_train, y_train), (x_test, y_test) = boston_housing.load_data()\n"
   ]
  },
  {
   "cell_type": "code",
   "execution_count": 3,
   "metadata": {},
   "outputs": [
    {
     "data": {
      "text/html": [
       "<div>\n",
       "<style scoped>\n",
       "    .dataframe tbody tr th:only-of-type {\n",
       "        vertical-align: middle;\n",
       "    }\n",
       "\n",
       "    .dataframe tbody tr th {\n",
       "        vertical-align: top;\n",
       "    }\n",
       "\n",
       "    .dataframe thead th {\n",
       "        text-align: right;\n",
       "    }\n",
       "</style>\n",
       "<table border=\"1\" class=\"dataframe\">\n",
       "  <thead>\n",
       "    <tr style=\"text-align: right;\">\n",
       "      <th></th>\n",
       "      <th>0</th>\n",
       "      <th>1</th>\n",
       "      <th>2</th>\n",
       "      <th>3</th>\n",
       "      <th>4</th>\n",
       "      <th>5</th>\n",
       "      <th>6</th>\n",
       "      <th>7</th>\n",
       "      <th>8</th>\n",
       "      <th>9</th>\n",
       "      <th>10</th>\n",
       "      <th>11</th>\n",
       "      <th>12</th>\n",
       "    </tr>\n",
       "  </thead>\n",
       "  <tbody>\n",
       "    <tr>\n",
       "      <th>0</th>\n",
       "      <td>1.23247</td>\n",
       "      <td>0.0</td>\n",
       "      <td>8.14</td>\n",
       "      <td>0.0</td>\n",
       "      <td>0.538</td>\n",
       "      <td>6.142</td>\n",
       "      <td>91.7</td>\n",
       "      <td>3.9769</td>\n",
       "      <td>4.0</td>\n",
       "      <td>307.0</td>\n",
       "      <td>21.0</td>\n",
       "      <td>396.90</td>\n",
       "      <td>18.72</td>\n",
       "    </tr>\n",
       "    <tr>\n",
       "      <th>1</th>\n",
       "      <td>0.02177</td>\n",
       "      <td>82.5</td>\n",
       "      <td>2.03</td>\n",
       "      <td>0.0</td>\n",
       "      <td>0.415</td>\n",
       "      <td>7.610</td>\n",
       "      <td>15.7</td>\n",
       "      <td>6.2700</td>\n",
       "      <td>2.0</td>\n",
       "      <td>348.0</td>\n",
       "      <td>14.7</td>\n",
       "      <td>395.38</td>\n",
       "      <td>3.11</td>\n",
       "    </tr>\n",
       "    <tr>\n",
       "      <th>2</th>\n",
       "      <td>4.89822</td>\n",
       "      <td>0.0</td>\n",
       "      <td>18.10</td>\n",
       "      <td>0.0</td>\n",
       "      <td>0.631</td>\n",
       "      <td>4.970</td>\n",
       "      <td>100.0</td>\n",
       "      <td>1.3325</td>\n",
       "      <td>24.0</td>\n",
       "      <td>666.0</td>\n",
       "      <td>20.2</td>\n",
       "      <td>375.52</td>\n",
       "      <td>3.26</td>\n",
       "    </tr>\n",
       "    <tr>\n",
       "      <th>3</th>\n",
       "      <td>0.03961</td>\n",
       "      <td>0.0</td>\n",
       "      <td>5.19</td>\n",
       "      <td>0.0</td>\n",
       "      <td>0.515</td>\n",
       "      <td>6.037</td>\n",
       "      <td>34.5</td>\n",
       "      <td>5.9853</td>\n",
       "      <td>5.0</td>\n",
       "      <td>224.0</td>\n",
       "      <td>20.2</td>\n",
       "      <td>396.90</td>\n",
       "      <td>8.01</td>\n",
       "    </tr>\n",
       "    <tr>\n",
       "      <th>4</th>\n",
       "      <td>3.69311</td>\n",
       "      <td>0.0</td>\n",
       "      <td>18.10</td>\n",
       "      <td>0.0</td>\n",
       "      <td>0.713</td>\n",
       "      <td>6.376</td>\n",
       "      <td>88.4</td>\n",
       "      <td>2.5671</td>\n",
       "      <td>24.0</td>\n",
       "      <td>666.0</td>\n",
       "      <td>20.2</td>\n",
       "      <td>391.43</td>\n",
       "      <td>14.65</td>\n",
       "    </tr>\n",
       "  </tbody>\n",
       "</table>\n",
       "</div>"
      ],
      "text/plain": [
       "        0     1      2    3      4      5      6       7     8      9     10  \\\n",
       "0  1.23247   0.0   8.14  0.0  0.538  6.142   91.7  3.9769   4.0  307.0  21.0   \n",
       "1  0.02177  82.5   2.03  0.0  0.415  7.610   15.7  6.2700   2.0  348.0  14.7   \n",
       "2  4.89822   0.0  18.10  0.0  0.631  4.970  100.0  1.3325  24.0  666.0  20.2   \n",
       "3  0.03961   0.0   5.19  0.0  0.515  6.037   34.5  5.9853   5.0  224.0  20.2   \n",
       "4  3.69311   0.0  18.10  0.0  0.713  6.376   88.4  2.5671  24.0  666.0  20.2   \n",
       "\n",
       "       11     12  \n",
       "0  396.90  18.72  \n",
       "1  395.38   3.11  \n",
       "2  375.52   3.26  \n",
       "3  396.90   8.01  \n",
       "4  391.43  14.65  "
      ]
     },
     "execution_count": 3,
     "metadata": {},
     "output_type": "execute_result"
    }
   ],
   "source": [
    "import pandas as pd\n",
    "data = pd.DataFrame(x_train)\n",
    "data.head(5)"
   ]
  },
  {
   "cell_type": "code",
   "execution_count": 46,
   "metadata": {},
   "outputs": [
    {
     "ename": "ValueError",
     "evalue": "Input 0 is incompatible with layer conv1d_1: expected ndim=3, found ndim=2",
     "output_type": "error",
     "traceback": [
      "\u001b[1;31m---------------------------------------------------------------------------\u001b[0m",
      "\u001b[1;31mValueError\u001b[0m                                Traceback (most recent call last)",
      "\u001b[1;32m<ipython-input-46-20304d1169ec>\u001b[0m in \u001b[0;36m<module>\u001b[1;34m()\u001b[0m\n\u001b[0;32m     18\u001b[0m \u001b[1;31m#    x = Dense(10, activation='relu')(x)\u001b[0m\u001b[1;33m\u001b[0m\u001b[1;33m\u001b[0m\u001b[0m\n\u001b[0;32m     19\u001b[0m \u001b[1;33m\u001b[0m\u001b[0m\n\u001b[1;32m---> 20\u001b[1;33m \u001b[0mconv1\u001b[0m \u001b[1;33m=\u001b[0m \u001b[0mConv1D\u001b[0m\u001b[1;33m(\u001b[0m\u001b[1;36m20\u001b[0m\u001b[1;33m,\u001b[0m\u001b[1;36m3\u001b[0m\u001b[1;33m,\u001b[0m\u001b[0mactivation\u001b[0m\u001b[1;33m=\u001b[0m\u001b[1;34m'relu'\u001b[0m\u001b[1;33m)\u001b[0m\u001b[1;33m(\u001b[0m\u001b[0minputs\u001b[0m\u001b[1;33m)\u001b[0m\u001b[1;33m\u001b[0m\u001b[0m\n\u001b[0m\u001b[0;32m     21\u001b[0m \u001b[0mflatten\u001b[0m \u001b[1;33m=\u001b[0m \u001b[0mFlatten\u001b[0m\u001b[1;33m(\u001b[0m\u001b[1;33m)\u001b[0m\u001b[1;33m(\u001b[0m\u001b[0mconv1\u001b[0m\u001b[1;33m)\u001b[0m\u001b[1;33m\u001b[0m\u001b[0m\n\u001b[0;32m     22\u001b[0m \u001b[1;33m\u001b[0m\u001b[0m\n",
      "\u001b[1;32m~\\Anaconda3\\lib\\site-packages\\keras\\engine\\topology.py\u001b[0m in \u001b[0;36m__call__\u001b[1;34m(self, inputs, **kwargs)\u001b[0m\n\u001b[0;32m    571\u001b[0m                 \u001b[1;31m# Raise exceptions in case the input is not compatible\u001b[0m\u001b[1;33m\u001b[0m\u001b[1;33m\u001b[0m\u001b[0m\n\u001b[0;32m    572\u001b[0m                 \u001b[1;31m# with the input_spec specified in the layer constructor.\u001b[0m\u001b[1;33m\u001b[0m\u001b[1;33m\u001b[0m\u001b[0m\n\u001b[1;32m--> 573\u001b[1;33m                 \u001b[0mself\u001b[0m\u001b[1;33m.\u001b[0m\u001b[0massert_input_compatibility\u001b[0m\u001b[1;33m(\u001b[0m\u001b[0minputs\u001b[0m\u001b[1;33m)\u001b[0m\u001b[1;33m\u001b[0m\u001b[0m\n\u001b[0m\u001b[0;32m    574\u001b[0m \u001b[1;33m\u001b[0m\u001b[0m\n\u001b[0;32m    575\u001b[0m                 \u001b[1;31m# Collect input shapes to build layer.\u001b[0m\u001b[1;33m\u001b[0m\u001b[1;33m\u001b[0m\u001b[0m\n",
      "\u001b[1;32m~\\Anaconda3\\lib\\site-packages\\keras\\engine\\topology.py\u001b[0m in \u001b[0;36massert_input_compatibility\u001b[1;34m(self, inputs)\u001b[0m\n\u001b[0;32m    470\u001b[0m                                      \u001b[0mself\u001b[0m\u001b[1;33m.\u001b[0m\u001b[0mname\u001b[0m \u001b[1;33m+\u001b[0m \u001b[1;34m': expected ndim='\u001b[0m \u001b[1;33m+\u001b[0m\u001b[1;33m\u001b[0m\u001b[0m\n\u001b[0;32m    471\u001b[0m                                      \u001b[0mstr\u001b[0m\u001b[1;33m(\u001b[0m\u001b[0mspec\u001b[0m\u001b[1;33m.\u001b[0m\u001b[0mndim\u001b[0m\u001b[1;33m)\u001b[0m \u001b[1;33m+\u001b[0m \u001b[1;34m', found ndim='\u001b[0m \u001b[1;33m+\u001b[0m\u001b[1;33m\u001b[0m\u001b[0m\n\u001b[1;32m--> 472\u001b[1;33m                                      str(K.ndim(x)))\n\u001b[0m\u001b[0;32m    473\u001b[0m             \u001b[1;32mif\u001b[0m \u001b[0mspec\u001b[0m\u001b[1;33m.\u001b[0m\u001b[0mmax_ndim\u001b[0m \u001b[1;32mis\u001b[0m \u001b[1;32mnot\u001b[0m \u001b[1;32mNone\u001b[0m\u001b[1;33m:\u001b[0m\u001b[1;33m\u001b[0m\u001b[0m\n\u001b[0;32m    474\u001b[0m                 \u001b[0mndim\u001b[0m \u001b[1;33m=\u001b[0m \u001b[0mK\u001b[0m\u001b[1;33m.\u001b[0m\u001b[0mndim\u001b[0m\u001b[1;33m(\u001b[0m\u001b[0mx\u001b[0m\u001b[1;33m)\u001b[0m\u001b[1;33m\u001b[0m\u001b[0m\n",
      "\u001b[1;31mValueError\u001b[0m: Input 0 is incompatible with layer conv1d_1: expected ndim=3, found ndim=2"
     ]
    }
   ],
   "source": [
    "from sklearn.preprocessing import MinMaxScaler,StandardScaler\n",
    "from keras.models import Model\n",
    "from keras.layers import Input, Flatten, Dense, Dropout, Lambda\n",
    "import matplotlib.pyplot as plt\n",
    "import numpy as np\n",
    "from keras import regularizers\n",
    "%matplotlib inline\n",
    "\n",
    "scaler = StandardScaler()\n",
    "(x_train, y_train), (x_test, y_test) = boston_housing.load_data()\n",
    "x_train = scaler.fit_transform(x_train)\n",
    "x_test = scaler.transform(x_test)\n",
    "\n",
    "inputs = Input(shape=(13,))\n",
    "x = Dense(20, activation='tanh',kernel_regularizer=regularizers.l2(0.01))(inputs)\n",
    "for i in range(5):\n",
    "    x = Dense(10, activation='relu')(x)\n",
    "\n",
    "output = Dense(1)(x)\n",
    "\n",
    "def my_loss(y_true, y_pred):\n",
    "    rss = K.mean(K.abs(y_pred - y_true), axis=-1)\n",
    "    ym = K.mean(y_true,axis=-1)\n",
    "    tss = K.mean(K.square(y_true-ym),axis=-1) \n",
    "    return rss\n",
    "    \n",
    "model = Model(inputs,output)\n",
    "\n",
    "model.compile(loss='mae',optimizer='adam',metrics=['mse'])\n",
    "\n",
    "history = model.fit(x_train,y_train,epochs=80,validation_data=(x_test,y_test),verbose=0)\n",
    "\n",
    "testPredict = model.predict(x_test)\n",
    "\n",
    "rss = ((y_test-testPredict.ravel())*(y_test-testPredict.ravel())).sum()\n",
    "tss = ((y_test-np.mean(y_test))*(y_test-np.mean(y_test))).sum()\n",
    "\n",
    "r = 1-rss/tss\n",
    "\n",
    "print(\"R^2 \",r)\n",
    "\n",
    "\n",
    "plt.plot(testPredict,label='pred')\n",
    "plt.plot(y_test,label='true')\n",
    "plt.legend()\n"
   ]
  },
  {
   "cell_type": "code",
   "execution_count": 7,
   "metadata": {},
   "outputs": [
    {
     "data": {
      "text/plain": [
       "<matplotlib.legend.Legend at 0x975751ac50>"
      ]
     },
     "execution_count": 7,
     "metadata": {},
     "output_type": "execute_result"
    },
    {
     "data": {
      "image/png": "[encoded data removed]",
      "text/plain": [
       "<matplotlib.figure.Figure at 0x97578cd518>"
      ]
     },
     "metadata": {},
     "output_type": "display_data"
    }
   ],
   "source": [
    "plt.plot(history.history['loss'],label='loss')\n",
    "plt.plot(history.history['val_loss'],label='val')\n",
    "plt.legend()"
   ]
  },
  {
   "cell_type": "code",
   "execution_count": 42,
   "metadata": {},
   "outputs": [
    {
     "name": "stdout",
     "output_type": "stream",
     "text": [
      "15.165796842684363\n"
     ]
    }
   ],
   "source": [
    "print(((y_test-testPredict.ravel())*(y_test-testPredict.ravel())).mean())"
   ]
  },
  {
   "cell_type": "code",
   "execution_count": 144,
   "metadata": {},
   "outputs": [
    {
     "name": "stderr",
     "output_type": "stream",
     "text": [
      "C:\\Users\\cl\\Anaconda3\\lib\\site-packages\\sklearn\\preprocessing\\label.py:151: DeprecationWarning: The truth value of an empty array is ambiguous. Returning False, but in future this will result in an error. Use `array.size > 0` to check that an array is not empty.\n",
      "  if diff:\n"
     ]
    },
    {
     "data": {
      "text/plain": [
       "array([1])"
      ]
     },
     "execution_count": 144,
     "metadata": {},
     "output_type": "execute_result"
    }
   ],
   "source": [
    "import lightgbm as lgb\n",
    "clf = lgb.LGBMClassifier(boosting_type='gbdt', num_leaves=31, min_data=1, max_depth=-1, learning_rate=0.5, n_estimators=20, subsample_for_bin=200000, objective='binary', class_weight=None, min_split_gain=0.0, min_child_weight=0.001, min_child_samples=20, subsample=1.0, subsample_freq=1, colsample_bytree=1.0, reg_alpha=0.0, reg_lambda=0.0, random_state=None, n_jobs=-1, silent=False,is_unbalance=False)\n",
    "clf.fit(X,Y)\n",
    "clf.predict([[13,1]])"
   ]
  },
  {
   "cell_type": "code",
   "execution_count": 112,
   "metadata": {},
   "outputs": [
    {
     "name": "stdout",
     "output_type": "stream",
     "text": [
      "0.8802277901028097\n"
     ]
    },
    {
     "data": {
      "text/plain": [
       "<matplotlib.legend.Legend at 0x4a60c43ef0>"
      ]
     },
     "execution_count": 112,
     "metadata": {},
     "output_type": "execute_result"
    },
    {
     "data": {
      "image/png": "[encoded data removed]",
      "text/plain": [
       "<matplotlib.figure.Figure at 0x4a5baac668>"
      ]
     },
     "metadata": {},
     "output_type": "display_data"
    }
   ],
   "source": [
    "from sklearn.svm import SVR\n",
    "\n",
    "svr = SVR(C=100,epsilon=0.5)\n",
    "svr.fit(x_train,y_train)\n",
    "print(svr.score(x_test,y_test))\n",
    "testPredict = svr.predict(x_test)\n",
    "plt.plot(testPredict,label='pred')\n",
    "plt.plot(y_test,label='true')\n",
    "plt.legend()"
   ]
  },
  {
   "cell_type": "code",
   "execution_count": 178,
   "metadata": {},
   "outputs": [
    {
     "name": "stdout",
     "output_type": "stream",
     "text": [
      "R^2  0.8107802128678114\n"
     ]
    }
   ],
   "source": [
    "rss = ((y_test-testPredict.ravel())*(y_test-testPredict.ravel())).sum()\n",
    "tss = ((y_test-np.mean(y_test))*(y_test-np.mean(y_test))).sum()\n",
    "\n",
    "r = 1-rss/tss\n",
    "\n",
    "print(\"R^2 \",r)"
   ]
  },
  {
   "cell_type": "code",
   "execution_count": 197,
   "metadata": {},
   "outputs": [
    {
     "name": "stdout",
     "output_type": "stream",
     "text": [
      "0.8312956947100925\n",
      "[0.04570941 0.0010504  0.00546892 0.00136622 0.01452209 0.39863166\n",
      " 0.01866226 0.06643433 0.00461092 0.01268611 0.01399184 0.01138197\n",
      " 0.40548387]\n"
     ]
    },
    {
     "name": "stderr",
     "output_type": "stream",
     "text": [
      "[Parallel(n_jobs=1)]: Done  80 out of  80 | elapsed:    0.1s finished\n",
      "[Parallel(n_jobs=1)]: Done  80 out of  80 | elapsed:    0.0s finished\n",
      "[Parallel(n_jobs=1)]: Done  80 out of  80 | elapsed:    0.0s finished\n"
     ]
    },
    {
     "data": {
      "image/png": "[encoded data removed]",
      "text/plain": [
       "<matplotlib.figure.Figure at 0xaa27085a20>"
      ]
     },
     "metadata": {},
     "output_type": "display_data"
    }
   ],
   "source": [
    "from sklearn.ensemble import GradientBoostingRegressor,RandomForestRegressor\n",
    "#est = GradientBoostingRegressor(n_estimators=50, learning_rate=0.1,max_depth=3, random_state=0, loss='ls').fit(x_train, y_train)\n",
    "clf = RandomForestRegressor(n_estimators=80,verbose =1).fit(x_train,y_train)\n",
    "print(clf.score(x_test,y_test))\n",
    "testPredict = clf.predict(x_test)\n",
    "plt.plot(testPredict,label='pred')\n",
    "plt.plot(y_test,label='true')\n",
    "plt.legend()\n",
    "print(clf.feature_importances_ )"
   ]
  },
  {
   "cell_type": "code",
   "execution_count": 4,
   "metadata": {},
   "outputs": [
    {
     "name": "stdout",
     "output_type": "stream",
     "text": [
      "Loading data...\n",
      "25000 train sequences\n",
      "25000 test sequences\n",
      "Pad sequences (samples x time)\n",
      "x_train shape: (25000, 100)\n",
      "x_test shape: (25000, 100)\n",
      "_________________________________________________________________\n",
      "Layer (type)                 Output Shape              Param #   \n",
      "=================================================================\n",
      "input_2 (InputLayer)         (None, 100)               0         \n",
      "_________________________________________________________________\n",
      "embedding_2 (Embedding)      (None, 100, 128)          2560000   \n",
      "_________________________________________________________________\n",
      "flatten_2 (Flatten)          (None, 12800)             0         \n",
      "_________________________________________________________________\n",
      "dense_1 (Dense)              (None, 1024)              13108224  \n",
      "_________________________________________________________________\n",
      "dense_2 (Dense)              (None, 1)                 1025      \n",
      "=================================================================\n",
      "Total params: 15,669,249\n",
      "Trainable params: 15,669,249\n",
      "Non-trainable params: 0\n",
      "_________________________________________________________________\n"
     ]
    },
    {
     "ename": "KeyboardInterrupt",
     "evalue": "",
     "output_type": "error",
     "traceback": [
      "\u001b[1;31m---------------------------------------------------------------------------\u001b[0m",
      "\u001b[1;31mKeyboardInterrupt\u001b[0m                         Traceback (most recent call last)",
      "\u001b[1;32m<ipython-input-4-1c24ad24b215>\u001b[0m in \u001b[0;36m<module>\u001b[1;34m()\u001b[0m\n\u001b[0;32m     31\u001b[0m \u001b[0mmodel\u001b[0m\u001b[1;33m.\u001b[0m\u001b[0msummary\u001b[0m\u001b[1;33m(\u001b[0m\u001b[1;33m)\u001b[0m\u001b[1;33m\u001b[0m\u001b[0m\n\u001b[0;32m     32\u001b[0m \u001b[0mmodel\u001b[0m\u001b[1;33m.\u001b[0m\u001b[0mcompile\u001b[0m\u001b[1;33m(\u001b[0m\u001b[0mloss\u001b[0m\u001b[1;33m=\u001b[0m\u001b[1;34m'binary_crossentropy'\u001b[0m\u001b[1;33m,\u001b[0m\u001b[0moptimizer\u001b[0m\u001b[1;33m=\u001b[0m\u001b[1;34m'rmsprop'\u001b[0m\u001b[1;33m,\u001b[0m \u001b[0mmetrics\u001b[0m\u001b[1;33m=\u001b[0m\u001b[1;33m[\u001b[0m\u001b[1;34m'accuracy'\u001b[0m\u001b[1;33m]\u001b[0m\u001b[1;33m)\u001b[0m\u001b[1;33m\u001b[0m\u001b[0m\n\u001b[1;32m---> 33\u001b[1;33m \u001b[0mhistory\u001b[0m \u001b[1;33m=\u001b[0m \u001b[0mmodel\u001b[0m\u001b[1;33m.\u001b[0m\u001b[0mfit\u001b[0m\u001b[1;33m(\u001b[0m\u001b[0mx_train\u001b[0m\u001b[1;33m,\u001b[0m\u001b[0my_train\u001b[0m\u001b[1;33m,\u001b[0m\u001b[0mepochs\u001b[0m\u001b[1;33m=\u001b[0m\u001b[1;36m50\u001b[0m\u001b[1;33m,\u001b[0m\u001b[0mverbose\u001b[0m\u001b[1;33m=\u001b[0m\u001b[1;36m0\u001b[0m\u001b[1;33m)\u001b[0m\u001b[1;33m\u001b[0m\u001b[0m\n\u001b[0m\u001b[0;32m     34\u001b[0m \u001b[0mprint\u001b[0m\u001b[1;33m(\u001b[0m\u001b[0mmodel\u001b[0m\u001b[1;33m.\u001b[0m\u001b[0mevaluate\u001b[0m\u001b[1;33m(\u001b[0m\u001b[0mx_test\u001b[0m\u001b[1;33m,\u001b[0m \u001b[0my_test\u001b[0m\u001b[1;33m)\u001b[0m\u001b[1;33m)\u001b[0m\u001b[1;33m\u001b[0m\u001b[0m\n",
      "\u001b[1;32m~\\Anaconda3\\lib\\site-packages\\keras\\engine\\training.py\u001b[0m in \u001b[0;36mfit\u001b[1;34m(self, x, y, batch_size, epochs, verbose, callbacks, validation_split, validation_data, shuffle, class_weight, sample_weight, initial_epoch, steps_per_epoch, validation_steps, **kwargs)\u001b[0m\n\u001b[0;32m   1667\u001b[0m                               \u001b[0minitial_epoch\u001b[0m\u001b[1;33m=\u001b[0m\u001b[0minitial_epoch\u001b[0m\u001b[1;33m,\u001b[0m\u001b[1;33m\u001b[0m\u001b[0m\n\u001b[0;32m   1668\u001b[0m                               \u001b[0msteps_per_epoch\u001b[0m\u001b[1;33m=\u001b[0m\u001b[0msteps_per_epoch\u001b[0m\u001b[1;33m,\u001b[0m\u001b[1;33m\u001b[0m\u001b[0m\n\u001b[1;32m-> 1669\u001b[1;33m                               validation_steps=validation_steps)\n\u001b[0m\u001b[0;32m   1670\u001b[0m \u001b[1;33m\u001b[0m\u001b[0m\n\u001b[0;32m   1671\u001b[0m     def evaluate(self, x=None, y=None,\n",
      "\u001b[1;32m~\\Anaconda3\\lib\\site-packages\\keras\\engine\\training.py\u001b[0m in \u001b[0;36m_fit_loop\u001b[1;34m(self, f, ins, out_labels, batch_size, epochs, verbose, callbacks, val_f, val_ins, shuffle, callback_metrics, initial_epoch, steps_per_epoch, validation_steps)\u001b[0m\n\u001b[0;32m   1204\u001b[0m                         \u001b[0mins_batch\u001b[0m\u001b[1;33m[\u001b[0m\u001b[0mi\u001b[0m\u001b[1;33m]\u001b[0m \u001b[1;33m=\u001b[0m \u001b[0mins_batch\u001b[0m\u001b[1;33m[\u001b[0m\u001b[0mi\u001b[0m\u001b[1;33m]\u001b[0m\u001b[1;33m.\u001b[0m\u001b[0mtoarray\u001b[0m\u001b[1;33m(\u001b[0m\u001b[1;33m)\u001b[0m\u001b[1;33m\u001b[0m\u001b[0m\n\u001b[0;32m   1205\u001b[0m \u001b[1;33m\u001b[0m\u001b[0m\n\u001b[1;32m-> 1206\u001b[1;33m                     \u001b[0mouts\u001b[0m \u001b[1;33m=\u001b[0m \u001b[0mf\u001b[0m\u001b[1;33m(\u001b[0m\u001b[0mins_batch\u001b[0m\u001b[1;33m)\u001b[0m\u001b[1;33m\u001b[0m\u001b[0m\n\u001b[0m\u001b[0;32m   1207\u001b[0m                     \u001b[1;32mif\u001b[0m \u001b[1;32mnot\u001b[0m \u001b[0misinstance\u001b[0m\u001b[1;33m(\u001b[0m\u001b[0mouts\u001b[0m\u001b[1;33m,\u001b[0m \u001b[0mlist\u001b[0m\u001b[1;33m)\u001b[0m\u001b[1;33m:\u001b[0m\u001b[1;33m\u001b[0m\u001b[0m\n\u001b[0;32m   1208\u001b[0m                         \u001b[0mouts\u001b[0m \u001b[1;33m=\u001b[0m \u001b[1;33m[\u001b[0m\u001b[0mouts\u001b[0m\u001b[1;33m]\u001b[0m\u001b[1;33m\u001b[0m\u001b[0m\n",
      "\u001b[1;32m~\\Anaconda3\\lib\\site-packages\\keras\\backend\\tensorflow_backend.py\u001b[0m in \u001b[0;36m__call__\u001b[1;34m(self, inputs)\u001b[0m\n\u001b[0;32m   2473\u001b[0m         \u001b[0msession\u001b[0m \u001b[1;33m=\u001b[0m \u001b[0mget_session\u001b[0m\u001b[1;33m(\u001b[0m\u001b[1;33m)\u001b[0m\u001b[1;33m\u001b[0m\u001b[0m\n\u001b[0;32m   2474\u001b[0m         updated = session.run(fetches=fetches, feed_dict=feed_dict,\n\u001b[1;32m-> 2475\u001b[1;33m                               **self.session_kwargs)\n\u001b[0m\u001b[0;32m   2476\u001b[0m         \u001b[1;32mreturn\u001b[0m \u001b[0mupdated\u001b[0m\u001b[1;33m[\u001b[0m\u001b[1;33m:\u001b[0m\u001b[0mlen\u001b[0m\u001b[1;33m(\u001b[0m\u001b[0mself\u001b[0m\u001b[1;33m.\u001b[0m\u001b[0moutputs\u001b[0m\u001b[1;33m)\u001b[0m\u001b[1;33m]\u001b[0m\u001b[1;33m\u001b[0m\u001b[0m\n\u001b[0;32m   2477\u001b[0m \u001b[1;33m\u001b[0m\u001b[0m\n",
      "\u001b[1;32m~\\Anaconda3\\lib\\site-packages\\tensorflow\\python\\client\\session.py\u001b[0m in \u001b[0;36mrun\u001b[1;34m(self, fetches, feed_dict, options, run_metadata)\u001b[0m\n\u001b[0;32m    893\u001b[0m     \u001b[1;32mtry\u001b[0m\u001b[1;33m:\u001b[0m\u001b[1;33m\u001b[0m\u001b[0m\n\u001b[0;32m    894\u001b[0m       result = self._run(None, fetches, feed_dict, options_ptr,\n\u001b[1;32m--> 895\u001b[1;33m                          run_metadata_ptr)\n\u001b[0m\u001b[0;32m    896\u001b[0m       \u001b[1;32mif\u001b[0m \u001b[0mrun_metadata\u001b[0m\u001b[1;33m:\u001b[0m\u001b[1;33m\u001b[0m\u001b[0m\n\u001b[0;32m    897\u001b[0m         \u001b[0mproto_data\u001b[0m \u001b[1;33m=\u001b[0m \u001b[0mtf_session\u001b[0m\u001b[1;33m.\u001b[0m\u001b[0mTF_GetBuffer\u001b[0m\u001b[1;33m(\u001b[0m\u001b[0mrun_metadata_ptr\u001b[0m\u001b[1;33m)\u001b[0m\u001b[1;33m\u001b[0m\u001b[0m\n",
      "\u001b[1;32m~\\Anaconda3\\lib\\site-packages\\tensorflow\\python\\client\\session.py\u001b[0m in \u001b[0;36m_run\u001b[1;34m(self, handle, fetches, feed_dict, options, run_metadata)\u001b[0m\n\u001b[0;32m   1126\u001b[0m     \u001b[1;32mif\u001b[0m \u001b[0mfinal_fetches\u001b[0m \u001b[1;32mor\u001b[0m \u001b[0mfinal_targets\u001b[0m \u001b[1;32mor\u001b[0m \u001b[1;33m(\u001b[0m\u001b[0mhandle\u001b[0m \u001b[1;32mand\u001b[0m \u001b[0mfeed_dict_tensor\u001b[0m\u001b[1;33m)\u001b[0m\u001b[1;33m:\u001b[0m\u001b[1;33m\u001b[0m\u001b[0m\n\u001b[0;32m   1127\u001b[0m       results = self._do_run(handle, final_targets, final_fetches,\n\u001b[1;32m-> 1128\u001b[1;33m                              feed_dict_tensor, options, run_metadata)\n\u001b[0m\u001b[0;32m   1129\u001b[0m     \u001b[1;32melse\u001b[0m\u001b[1;33m:\u001b[0m\u001b[1;33m\u001b[0m\u001b[0m\n\u001b[0;32m   1130\u001b[0m       \u001b[0mresults\u001b[0m \u001b[1;33m=\u001b[0m \u001b[1;33m[\u001b[0m\u001b[1;33m]\u001b[0m\u001b[1;33m\u001b[0m\u001b[0m\n",
      "\u001b[1;32m~\\Anaconda3\\lib\\site-packages\\tensorflow\\python\\client\\session.py\u001b[0m in \u001b[0;36m_do_run\u001b[1;34m(self, handle, target_list, fetch_list, feed_dict, options, run_metadata)\u001b[0m\n\u001b[0;32m   1342\u001b[0m     \u001b[1;32mif\u001b[0m \u001b[0mhandle\u001b[0m \u001b[1;32mis\u001b[0m \u001b[1;32mNone\u001b[0m\u001b[1;33m:\u001b[0m\u001b[1;33m\u001b[0m\u001b[0m\n\u001b[0;32m   1343\u001b[0m       return self._do_call(_run_fn, self._session, feeds, fetches, targets,\n\u001b[1;32m-> 1344\u001b[1;33m                            options, run_metadata)\n\u001b[0m\u001b[0;32m   1345\u001b[0m     \u001b[1;32melse\u001b[0m\u001b[1;33m:\u001b[0m\u001b[1;33m\u001b[0m\u001b[0m\n\u001b[0;32m   1346\u001b[0m       \u001b[1;32mreturn\u001b[0m \u001b[0mself\u001b[0m\u001b[1;33m.\u001b[0m\u001b[0m_do_call\u001b[0m\u001b[1;33m(\u001b[0m\u001b[0m_prun_fn\u001b[0m\u001b[1;33m,\u001b[0m \u001b[0mself\u001b[0m\u001b[1;33m.\u001b[0m\u001b[0m_session\u001b[0m\u001b[1;33m,\u001b[0m \u001b[0mhandle\u001b[0m\u001b[1;33m,\u001b[0m \u001b[0mfeeds\u001b[0m\u001b[1;33m,\u001b[0m \u001b[0mfetches\u001b[0m\u001b[1;33m)\u001b[0m\u001b[1;33m\u001b[0m\u001b[0m\n",
      "\u001b[1;32m~\\Anaconda3\\lib\\site-packages\\tensorflow\\python\\client\\session.py\u001b[0m in \u001b[0;36m_do_call\u001b[1;34m(self, fn, *args)\u001b[0m\n\u001b[0;32m   1348\u001b[0m   \u001b[1;32mdef\u001b[0m \u001b[0m_do_call\u001b[0m\u001b[1;33m(\u001b[0m\u001b[0mself\u001b[0m\u001b[1;33m,\u001b[0m \u001b[0mfn\u001b[0m\u001b[1;33m,\u001b[0m \u001b[1;33m*\u001b[0m\u001b[0margs\u001b[0m\u001b[1;33m)\u001b[0m\u001b[1;33m:\u001b[0m\u001b[1;33m\u001b[0m\u001b[0m\n\u001b[0;32m   1349\u001b[0m     \u001b[1;32mtry\u001b[0m\u001b[1;33m:\u001b[0m\u001b[1;33m\u001b[0m\u001b[0m\n\u001b[1;32m-> 1350\u001b[1;33m       \u001b[1;32mreturn\u001b[0m \u001b[0mfn\u001b[0m\u001b[1;33m(\u001b[0m\u001b[1;33m*\u001b[0m\u001b[0margs\u001b[0m\u001b[1;33m)\u001b[0m\u001b[1;33m\u001b[0m\u001b[0m\n\u001b[0m\u001b[0;32m   1351\u001b[0m     \u001b[1;32mexcept\u001b[0m \u001b[0merrors\u001b[0m\u001b[1;33m.\u001b[0m\u001b[0mOpError\u001b[0m \u001b[1;32mas\u001b[0m \u001b[0me\u001b[0m\u001b[1;33m:\u001b[0m\u001b[1;33m\u001b[0m\u001b[0m\n\u001b[0;32m   1352\u001b[0m       \u001b[0mmessage\u001b[0m \u001b[1;33m=\u001b[0m \u001b[0mcompat\u001b[0m\u001b[1;33m.\u001b[0m\u001b[0mas_text\u001b[0m\u001b[1;33m(\u001b[0m\u001b[0me\u001b[0m\u001b[1;33m.\u001b[0m\u001b[0mmessage\u001b[0m\u001b[1;33m)\u001b[0m\u001b[1;33m\u001b[0m\u001b[0m\n",
      "\u001b[1;32m~\\Anaconda3\\lib\\site-packages\\tensorflow\\python\\client\\session.py\u001b[0m in \u001b[0;36m_run_fn\u001b[1;34m(session, feed_dict, fetch_list, target_list, options, run_metadata)\u001b[0m\n\u001b[0;32m   1327\u001b[0m           return tf_session.TF_Run(session, options,\n\u001b[0;32m   1328\u001b[0m                                    \u001b[0mfeed_dict\u001b[0m\u001b[1;33m,\u001b[0m \u001b[0mfetch_list\u001b[0m\u001b[1;33m,\u001b[0m \u001b[0mtarget_list\u001b[0m\u001b[1;33m,\u001b[0m\u001b[1;33m\u001b[0m\u001b[0m\n\u001b[1;32m-> 1329\u001b[1;33m                                    status, run_metadata)\n\u001b[0m\u001b[0;32m   1330\u001b[0m \u001b[1;33m\u001b[0m\u001b[0m\n\u001b[0;32m   1331\u001b[0m     \u001b[1;32mdef\u001b[0m \u001b[0m_prun_fn\u001b[0m\u001b[1;33m(\u001b[0m\u001b[0msession\u001b[0m\u001b[1;33m,\u001b[0m \u001b[0mhandle\u001b[0m\u001b[1;33m,\u001b[0m \u001b[0mfeed_dict\u001b[0m\u001b[1;33m,\u001b[0m \u001b[0mfetch_list\u001b[0m\u001b[1;33m)\u001b[0m\u001b[1;33m:\u001b[0m\u001b[1;33m\u001b[0m\u001b[0m\n",
      "\u001b[1;31mKeyboardInterrupt\u001b[0m: "
     ]
    }
   ],
   "source": [
    "from keras.datasets import imdb\n",
    "import numpy as np\n",
    "from keras.preprocessing import sequence\n",
    "from keras.models import Sequential,Model\n",
    "from keras.layers import Embedding,Flatten,Input,Dense\n",
    "max_features = 20000\n",
    "# cut texts after this number of words\n",
    "# (among top max_features most common words)\n",
    "maxlen = 100\n",
    "batch_size = 32\n",
    "\n",
    "print('Loading data...')\n",
    "(x_train, y_train), (x_test, y_test) = imdb.load_data(num_words=max_features)\n",
    "print(len(x_train), 'train sequences')\n",
    "print(len(x_test), 'test sequences')\n",
    "\n",
    "print('Pad sequences (samples x time)')\n",
    "x_train = sequence.pad_sequences(x_train, maxlen=maxlen)\n",
    "x_test = sequence.pad_sequences(x_test, maxlen=maxlen)\n",
    "print('x_train shape:', x_train.shape)\n",
    "print('x_test shape:', x_test.shape)\n",
    "y_train = np.array(y_train)\n",
    "y_test = np.array(y_test)\n",
    "\n",
    "inputs = Input(shape=(100,))\n",
    "embedding = Embedding(max_features, 128, input_length=maxlen)(inputs)\n",
    "flatten = Flatten()(embedding)\n",
    "out = Dense(1024,activation='relu')(flatten)\n",
    "out = Dense(1,activation='sigmoid')(out)\n",
    "model = Model(inputs,out)\n",
    "model.summary()\n",
    "model.compile(loss='binary_crossentropy',optimizer='rmsprop', metrics=['accuracy'])\n",
    "history = model.fit(x_train,y_train,epochs=50,verbose=0)\n",
    "print(model.evaluate(x_test, y_test))"
   ]
  },
  {
   "cell_type": "code",
   "execution_count": 237,
   "metadata": {},
   "outputs": [
    {
     "name": "stdout",
     "output_type": "stream",
     "text": [
      "0.5038\n"
     ]
    }
   ],
   "source": [
    "from sklearn.svm import SVC\n",
    "\n",
    "svc = SVC(C=10)\n",
    "svc.fit(x_train,y_train)\n",
    "\n",
    "print(svc.score(x_test,y_test))\n",
    "\n"
   ]
  },
  {
   "cell_type": "code",
   "execution_count": 248,
   "metadata": {
    "collapsed": true
   },
   "outputs": [],
   "source": [
    "x_train_vect = model.predict(x_train)\n",
    "x_test_vect = model.predict(x_test)"
   ]
  },
  {
   "cell_type": "code",
   "execution_count": 250,
   "metadata": {},
   "outputs": [
    {
     "data": {
      "text/plain": [
       "(25000, 12800)"
      ]
     },
     "execution_count": 250,
     "metadata": {},
     "output_type": "execute_result"
    }
   ],
   "source": [
    "x_train_vect.shape"
   ]
  },
  {
   "cell_type": "code",
   "execution_count": 58,
   "metadata": {},
   "outputs": [
    {
     "data": {
      "text/plain": [
       "<matplotlib.image.AxesImage at 0x4a40e3d1d0>"
      ]
     },
     "execution_count": 58,
     "metadata": {},
     "output_type": "execute_result"
    },
    {
     "data": {
      "image/png": "[encoded data removed]",
      "text/plain": [
       "<matplotlib.figure.Figure at 0x4a40c6ae48>"
      ]
     },
     "metadata": {},
     "output_type": "display_data"
    }
   ],
   "source": [
    "from keras.layers import Dense, Dropout, Flatten\n",
    "from keras.layers import Conv2D, MaxPooling2D,Input\n",
    "from keras import backend as K\n",
    "from keras.preprocessing import image\n",
    "from keras.applications.resnet50 import preprocess_input, decode_predictions\n",
    "import matplotlib.pyplot as plt\n",
    "%matplotlib inline\n",
    "\n",
    "inputs = Input(shape=(224,224,3))\n",
    "conv1 = Conv2D(64,(5,5),activation='relu',name='conv1')(inputs)\n",
    "conv1 = MaxPooling2D((2,2),name='pooling_1')(conv1)\n",
    "conv2 = Conv2D(128,(3,3),activation='relu',name='conv2')(conv1)\n",
    "conv2 = MaxPooling2D((2,2),name='pooling_2')(conv2)\n",
    "conv3 = Conv2D(256,(5,5),activation='relu',name='conv3')(conv2)\n",
    "conv3 = MaxPooling2D((2,2),name='pooling_3')(conv3)\n",
    "\n",
    "#flatten = Flatten()(conv2)\n",
    "\n",
    "model = Model(inputs,conv3)\n",
    "\n",
    "img_path = 'e:\\\\tmp\\\\tt.jpg'\n",
    "img = image.load_img(img_path, target_size=(224, 224))\n",
    "x = image.img_to_array(img)\n",
    "x = np.expand_dims(x, axis=0)\n",
    "x = preprocess_input(x)\n",
    "\n",
    "layer_img = model.predict(x)\n",
    "plt.imshow(layer_img[0,:,:,21])"
   ]
  },
  {
   "cell_type": "code",
   "execution_count": 42,
   "metadata": {},
   "outputs": [],
   "source": [
    "from keras.preprocessing import image\n",
    "img_path = 'e:\\\\tmp\\\\tt.jpg'\n",
    "img = image.load_img(img_path, target_size=(224, 224))\n",
    "x = image.img_to_array(img)\n",
    "x/=255"
   ]
  },
  {
   "cell_type": "code",
   "execution_count": 39,
   "metadata": {},
   "outputs": [],
   "source": [
    "ct = x.mean()\n",
    "v = np.sqrt(np.square(x-ct).mean())"
   ]
  },
  {
   "cell_type": "code",
   "execution_count": 41,
   "metadata": {},
   "outputs": [
    {
     "data": {
      "text/plain": [
       "<matplotlib.image.AxesImage at 0x975a476048>"
      ]
     },
     "execution_count": 41,
     "metadata": {},
     "output_type": "execute_result"
    },
    {
     "ename": "ValueError",
     "evalue": "Floating point image RGB values must be in the 0..1 range.",
     "output_type": "error",
     "traceback": [
      "\u001b[1;31m---------------------------------------------------------------------------\u001b[0m",
      "\u001b[1;31mValueError\u001b[0m                                Traceback (most recent call last)",
      "\u001b[1;32m~\\Anaconda3\\lib\\site-packages\\IPython\\core\\formatters.py\u001b[0m in \u001b[0;36m__call__\u001b[1;34m(self, obj)\u001b[0m\n\u001b[0;32m    330\u001b[0m                 \u001b[1;32mpass\u001b[0m\u001b[1;33m\u001b[0m\u001b[0m\n\u001b[0;32m    331\u001b[0m             \u001b[1;32melse\u001b[0m\u001b[1;33m:\u001b[0m\u001b[1;33m\u001b[0m\u001b[0m\n\u001b[1;32m--> 332\u001b[1;33m                 \u001b[1;32mreturn\u001b[0m \u001b[0mprinter\u001b[0m\u001b[1;33m(\u001b[0m\u001b[0mobj\u001b[0m\u001b[1;33m)\u001b[0m\u001b[1;33m\u001b[0m\u001b[0m\n\u001b[0m\u001b[0;32m    333\u001b[0m             \u001b[1;31m# Finally look for special method names\u001b[0m\u001b[1;33m\u001b[0m\u001b[1;33m\u001b[0m\u001b[0m\n\u001b[0;32m    334\u001b[0m             \u001b[0mmethod\u001b[0m \u001b[1;33m=\u001b[0m \u001b[0mget_real_method\u001b[0m\u001b[1;33m(\u001b[0m\u001b[0mobj\u001b[0m\u001b[1;33m,\u001b[0m \u001b[0mself\u001b[0m\u001b[1;33m.\u001b[0m\u001b[0mprint_method\u001b[0m\u001b[1;33m)\u001b[0m\u001b[1;33m\u001b[0m\u001b[0m\n",
      "\u001b[1;32m~\\Anaconda3\\lib\\site-packages\\IPython\\core\\pylabtools.py\u001b[0m in \u001b[0;36m<lambda>\u001b[1;34m(fig)\u001b[0m\n\u001b[0;32m    235\u001b[0m \u001b[1;33m\u001b[0m\u001b[0m\n\u001b[0;32m    236\u001b[0m     \u001b[1;32mif\u001b[0m \u001b[1;34m'png'\u001b[0m \u001b[1;32min\u001b[0m \u001b[0mformats\u001b[0m\u001b[1;33m:\u001b[0m\u001b[1;33m\u001b[0m\u001b[0m\n\u001b[1;32m--> 237\u001b[1;33m         \u001b[0mpng_formatter\u001b[0m\u001b[1;33m.\u001b[0m\u001b[0mfor_type\u001b[0m\u001b[1;33m(\u001b[0m\u001b[0mFigure\u001b[0m\u001b[1;33m,\u001b[0m \u001b[1;32mlambda\u001b[0m \u001b[0mfig\u001b[0m\u001b[1;33m:\u001b[0m \u001b[0mprint_figure\u001b[0m\u001b[1;33m(\u001b[0m\u001b[0mfig\u001b[0m\u001b[1;33m,\u001b[0m \u001b[1;34m'png'\u001b[0m\u001b[1;33m,\u001b[0m \u001b[1;33m**\u001b[0m\u001b[0mkwargs\u001b[0m\u001b[1;33m)\u001b[0m\u001b[1;33m)\u001b[0m\u001b[1;33m\u001b[0m\u001b[0m\n\u001b[0m\u001b[0;32m    238\u001b[0m     \u001b[1;32mif\u001b[0m \u001b[1;34m'retina'\u001b[0m \u001b[1;32min\u001b[0m \u001b[0mformats\u001b[0m \u001b[1;32mor\u001b[0m \u001b[1;34m'png2x'\u001b[0m \u001b[1;32min\u001b[0m \u001b[0mformats\u001b[0m\u001b[1;33m:\u001b[0m\u001b[1;33m\u001b[0m\u001b[0m\n\u001b[0;32m    239\u001b[0m         \u001b[0mpng_formatter\u001b[0m\u001b[1;33m.\u001b[0m\u001b[0mfor_type\u001b[0m\u001b[1;33m(\u001b[0m\u001b[0mFigure\u001b[0m\u001b[1;33m,\u001b[0m \u001b[1;32mlambda\u001b[0m \u001b[0mfig\u001b[0m\u001b[1;33m:\u001b[0m \u001b[0mretina_figure\u001b[0m\u001b[1;33m(\u001b[0m\u001b[0mfig\u001b[0m\u001b[1;33m,\u001b[0m \u001b[1;33m**\u001b[0m\u001b[0mkwargs\u001b[0m\u001b[1;33m)\u001b[0m\u001b[1;33m)\u001b[0m\u001b[1;33m\u001b[0m\u001b[0m\n",
      "\u001b[1;32m~\\Anaconda3\\lib\\site-packages\\IPython\\core\\pylabtools.py\u001b[0m in \u001b[0;36mprint_figure\u001b[1;34m(fig, fmt, bbox_inches, **kwargs)\u001b[0m\n\u001b[0;32m    119\u001b[0m \u001b[1;33m\u001b[0m\u001b[0m\n\u001b[0;32m    120\u001b[0m     \u001b[0mbytes_io\u001b[0m \u001b[1;33m=\u001b[0m \u001b[0mBytesIO\u001b[0m\u001b[1;33m(\u001b[0m\u001b[1;33m)\u001b[0m\u001b[1;33m\u001b[0m\u001b[0m\n\u001b[1;32m--> 121\u001b[1;33m     \u001b[0mfig\u001b[0m\u001b[1;33m.\u001b[0m\u001b[0mcanvas\u001b[0m\u001b[1;33m.\u001b[0m\u001b[0mprint_figure\u001b[0m\u001b[1;33m(\u001b[0m\u001b[0mbytes_io\u001b[0m\u001b[1;33m,\u001b[0m \u001b[1;33m**\u001b[0m\u001b[0mkw\u001b[0m\u001b[1;33m)\u001b[0m\u001b[1;33m\u001b[0m\u001b[0m\n\u001b[0m\u001b[0;32m    122\u001b[0m     \u001b[0mdata\u001b[0m \u001b[1;33m=\u001b[0m \u001b[0mbytes_io\u001b[0m\u001b[1;33m.\u001b[0m\u001b[0mgetvalue\u001b[0m\u001b[1;33m(\u001b[0m\u001b[1;33m)\u001b[0m\u001b[1;33m\u001b[0m\u001b[0m\n\u001b[0;32m    123\u001b[0m     \u001b[1;32mif\u001b[0m \u001b[0mfmt\u001b[0m \u001b[1;33m==\u001b[0m \u001b[1;34m'svg'\u001b[0m\u001b[1;33m:\u001b[0m\u001b[1;33m\u001b[0m\u001b[0m\n",
      "\u001b[1;32m~\\Anaconda3\\lib\\site-packages\\matplotlib\\backend_bases.py\u001b[0m in \u001b[0;36mprint_figure\u001b[1;34m(self, filename, dpi, facecolor, edgecolor, orientation, format, **kwargs)\u001b[0m\n\u001b[0;32m   2206\u001b[0m                     \u001b[0morientation\u001b[0m\u001b[1;33m=\u001b[0m\u001b[0morientation\u001b[0m\u001b[1;33m,\u001b[0m\u001b[1;33m\u001b[0m\u001b[0m\n\u001b[0;32m   2207\u001b[0m                     \u001b[0mdryrun\u001b[0m\u001b[1;33m=\u001b[0m\u001b[1;32mTrue\u001b[0m\u001b[1;33m,\u001b[0m\u001b[1;33m\u001b[0m\u001b[0m\n\u001b[1;32m-> 2208\u001b[1;33m                     **kwargs)\n\u001b[0m\u001b[0;32m   2209\u001b[0m                 \u001b[0mrenderer\u001b[0m \u001b[1;33m=\u001b[0m \u001b[0mself\u001b[0m\u001b[1;33m.\u001b[0m\u001b[0mfigure\u001b[0m\u001b[1;33m.\u001b[0m\u001b[0m_cachedRenderer\u001b[0m\u001b[1;33m\u001b[0m\u001b[0m\n\u001b[0;32m   2210\u001b[0m                 \u001b[0mbbox_inches\u001b[0m \u001b[1;33m=\u001b[0m \u001b[0mself\u001b[0m\u001b[1;33m.\u001b[0m\u001b[0mfigure\u001b[0m\u001b[1;33m.\u001b[0m\u001b[0mget_tightbbox\u001b[0m\u001b[1;33m(\u001b[0m\u001b[0mrenderer\u001b[0m\u001b[1;33m)\u001b[0m\u001b[1;33m\u001b[0m\u001b[0m\n",
      "\u001b[1;32m~\\Anaconda3\\lib\\site-packages\\matplotlib\\backends\\backend_agg.py\u001b[0m in \u001b[0;36mprint_png\u001b[1;34m(self, filename_or_obj, *args, **kwargs)\u001b[0m\n\u001b[0;32m    505\u001b[0m \u001b[1;33m\u001b[0m\u001b[0m\n\u001b[0;32m    506\u001b[0m     \u001b[1;32mdef\u001b[0m \u001b[0mprint_png\u001b[0m\u001b[1;33m(\u001b[0m\u001b[0mself\u001b[0m\u001b[1;33m,\u001b[0m \u001b[0mfilename_or_obj\u001b[0m\u001b[1;33m,\u001b[0m \u001b[1;33m*\u001b[0m\u001b[0margs\u001b[0m\u001b[1;33m,\u001b[0m \u001b[1;33m**\u001b[0m\u001b[0mkwargs\u001b[0m\u001b[1;33m)\u001b[0m\u001b[1;33m:\u001b[0m\u001b[1;33m\u001b[0m\u001b[0m\n\u001b[1;32m--> 507\u001b[1;33m         \u001b[0mFigureCanvasAgg\u001b[0m\u001b[1;33m.\u001b[0m\u001b[0mdraw\u001b[0m\u001b[1;33m(\u001b[0m\u001b[0mself\u001b[0m\u001b[1;33m)\u001b[0m\u001b[1;33m\u001b[0m\u001b[0m\n\u001b[0m\u001b[0;32m    508\u001b[0m         \u001b[0mrenderer\u001b[0m \u001b[1;33m=\u001b[0m \u001b[0mself\u001b[0m\u001b[1;33m.\u001b[0m\u001b[0mget_renderer\u001b[0m\u001b[1;33m(\u001b[0m\u001b[1;33m)\u001b[0m\u001b[1;33m\u001b[0m\u001b[0m\n\u001b[0;32m    509\u001b[0m         \u001b[0moriginal_dpi\u001b[0m \u001b[1;33m=\u001b[0m \u001b[0mrenderer\u001b[0m\u001b[1;33m.\u001b[0m\u001b[0mdpi\u001b[0m\u001b[1;33m\u001b[0m\u001b[0m\n",
      "\u001b[1;32m~\\Anaconda3\\lib\\site-packages\\matplotlib\\backends\\backend_agg.py\u001b[0m in \u001b[0;36mdraw\u001b[1;34m(self)\u001b[0m\n\u001b[0;32m    428\u001b[0m             \u001b[1;32mif\u001b[0m \u001b[0mtoolbar\u001b[0m\u001b[1;33m:\u001b[0m\u001b[1;33m\u001b[0m\u001b[0m\n\u001b[0;32m    429\u001b[0m                 \u001b[0mtoolbar\u001b[0m\u001b[1;33m.\u001b[0m\u001b[0mset_cursor\u001b[0m\u001b[1;33m(\u001b[0m\u001b[0mcursors\u001b[0m\u001b[1;33m.\u001b[0m\u001b[0mWAIT\u001b[0m\u001b[1;33m)\u001b[0m\u001b[1;33m\u001b[0m\u001b[0m\n\u001b[1;32m--> 430\u001b[1;33m             \u001b[0mself\u001b[0m\u001b[1;33m.\u001b[0m\u001b[0mfigure\u001b[0m\u001b[1;33m.\u001b[0m\u001b[0mdraw\u001b[0m\u001b[1;33m(\u001b[0m\u001b[0mself\u001b[0m\u001b[1;33m.\u001b[0m\u001b[0mrenderer\u001b[0m\u001b[1;33m)\u001b[0m\u001b[1;33m\u001b[0m\u001b[0m\n\u001b[0m\u001b[0;32m    431\u001b[0m         \u001b[1;32mfinally\u001b[0m\u001b[1;33m:\u001b[0m\u001b[1;33m\u001b[0m\u001b[0m\n\u001b[0;32m    432\u001b[0m             \u001b[1;32mif\u001b[0m \u001b[0mtoolbar\u001b[0m\u001b[1;33m:\u001b[0m\u001b[1;33m\u001b[0m\u001b[0m\n",
      "\u001b[1;32m~\\Anaconda3\\lib\\site-packages\\matplotlib\\artist.py\u001b[0m in \u001b[0;36mdraw_wrapper\u001b[1;34m(artist, renderer, *args, **kwargs)\u001b[0m\n\u001b[0;32m     53\u001b[0m                 \u001b[0mrenderer\u001b[0m\u001b[1;33m.\u001b[0m\u001b[0mstart_filter\u001b[0m\u001b[1;33m(\u001b[0m\u001b[1;33m)\u001b[0m\u001b[1;33m\u001b[0m\u001b[0m\n\u001b[0;32m     54\u001b[0m \u001b[1;33m\u001b[0m\u001b[0m\n\u001b[1;32m---> 55\u001b[1;33m             \u001b[1;32mreturn\u001b[0m \u001b[0mdraw\u001b[0m\u001b[1;33m(\u001b[0m\u001b[0martist\u001b[0m\u001b[1;33m,\u001b[0m \u001b[0mrenderer\u001b[0m\u001b[1;33m,\u001b[0m \u001b[1;33m*\u001b[0m\u001b[0margs\u001b[0m\u001b[1;33m,\u001b[0m \u001b[1;33m**\u001b[0m\u001b[0mkwargs\u001b[0m\u001b[1;33m)\u001b[0m\u001b[1;33m\u001b[0m\u001b[0m\n\u001b[0m\u001b[0;32m     56\u001b[0m         \u001b[1;32mfinally\u001b[0m\u001b[1;33m:\u001b[0m\u001b[1;33m\u001b[0m\u001b[0m\n\u001b[0;32m     57\u001b[0m             \u001b[1;32mif\u001b[0m \u001b[0martist\u001b[0m\u001b[1;33m.\u001b[0m\u001b[0mget_agg_filter\u001b[0m\u001b[1;33m(\u001b[0m\u001b[1;33m)\u001b[0m \u001b[1;32mis\u001b[0m \u001b[1;32mnot\u001b[0m \u001b[1;32mNone\u001b[0m\u001b[1;33m:\u001b[0m\u001b[1;33m\u001b[0m\u001b[0m\n",
      "\u001b[1;32m~\\Anaconda3\\lib\\site-packages\\matplotlib\\figure.py\u001b[0m in \u001b[0;36mdraw\u001b[1;34m(self, renderer)\u001b[0m\n\u001b[0;32m   1293\u001b[0m \u001b[1;33m\u001b[0m\u001b[0m\n\u001b[0;32m   1294\u001b[0m             mimage._draw_list_compositing_images(\n\u001b[1;32m-> 1295\u001b[1;33m                 renderer, self, artists, self.suppressComposite)\n\u001b[0m\u001b[0;32m   1296\u001b[0m \u001b[1;33m\u001b[0m\u001b[0m\n\u001b[0;32m   1297\u001b[0m             \u001b[0mrenderer\u001b[0m\u001b[1;33m.\u001b[0m\u001b[0mclose_group\u001b[0m\u001b[1;33m(\u001b[0m\u001b[1;34m'figure'\u001b[0m\u001b[1;33m)\u001b[0m\u001b[1;33m\u001b[0m\u001b[0m\n",
      "\u001b[1;32m~\\Anaconda3\\lib\\site-packages\\matplotlib\\image.py\u001b[0m in \u001b[0;36m_draw_list_compositing_images\u001b[1;34m(renderer, parent, artists, suppress_composite)\u001b[0m\n\u001b[0;32m    136\u001b[0m     \u001b[1;32mif\u001b[0m \u001b[0mnot_composite\u001b[0m \u001b[1;32mor\u001b[0m \u001b[1;32mnot\u001b[0m \u001b[0mhas_images\u001b[0m\u001b[1;33m:\u001b[0m\u001b[1;33m\u001b[0m\u001b[0m\n\u001b[0;32m    137\u001b[0m         \u001b[1;32mfor\u001b[0m \u001b[0ma\u001b[0m \u001b[1;32min\u001b[0m \u001b[0martists\u001b[0m\u001b[1;33m:\u001b[0m\u001b[1;33m\u001b[0m\u001b[0m\n\u001b[1;32m--> 138\u001b[1;33m             \u001b[0ma\u001b[0m\u001b[1;33m.\u001b[0m\u001b[0mdraw\u001b[0m\u001b[1;33m(\u001b[0m\u001b[0mrenderer\u001b[0m\u001b[1;33m)\u001b[0m\u001b[1;33m\u001b[0m\u001b[0m\n\u001b[0m\u001b[0;32m    139\u001b[0m     \u001b[1;32melse\u001b[0m\u001b[1;33m:\u001b[0m\u001b[1;33m\u001b[0m\u001b[0m\n\u001b[0;32m    140\u001b[0m         \u001b[1;31m# Composite any adjacent images together\u001b[0m\u001b[1;33m\u001b[0m\u001b[1;33m\u001b[0m\u001b[0m\n",
      "\u001b[1;32m~\\Anaconda3\\lib\\site-packages\\matplotlib\\artist.py\u001b[0m in \u001b[0;36mdraw_wrapper\u001b[1;34m(artist, renderer, *args, **kwargs)\u001b[0m\n\u001b[0;32m     53\u001b[0m                 \u001b[0mrenderer\u001b[0m\u001b[1;33m.\u001b[0m\u001b[0mstart_filter\u001b[0m\u001b[1;33m(\u001b[0m\u001b[1;33m)\u001b[0m\u001b[1;33m\u001b[0m\u001b[0m\n\u001b[0;32m     54\u001b[0m \u001b[1;33m\u001b[0m\u001b[0m\n\u001b[1;32m---> 55\u001b[1;33m             \u001b[1;32mreturn\u001b[0m \u001b[0mdraw\u001b[0m\u001b[1;33m(\u001b[0m\u001b[0martist\u001b[0m\u001b[1;33m,\u001b[0m \u001b[0mrenderer\u001b[0m\u001b[1;33m,\u001b[0m \u001b[1;33m*\u001b[0m\u001b[0margs\u001b[0m\u001b[1;33m,\u001b[0m \u001b[1;33m**\u001b[0m\u001b[0mkwargs\u001b[0m\u001b[1;33m)\u001b[0m\u001b[1;33m\u001b[0m\u001b[0m\n\u001b[0m\u001b[0;32m     56\u001b[0m         \u001b[1;32mfinally\u001b[0m\u001b[1;33m:\u001b[0m\u001b[1;33m\u001b[0m\u001b[0m\n\u001b[0;32m     57\u001b[0m             \u001b[1;32mif\u001b[0m \u001b[0martist\u001b[0m\u001b[1;33m.\u001b[0m\u001b[0mget_agg_filter\u001b[0m\u001b[1;33m(\u001b[0m\u001b[1;33m)\u001b[0m \u001b[1;32mis\u001b[0m \u001b[1;32mnot\u001b[0m \u001b[1;32mNone\u001b[0m\u001b[1;33m:\u001b[0m\u001b[1;33m\u001b[0m\u001b[0m\n",
      "\u001b[1;32m~\\Anaconda3\\lib\\site-packages\\matplotlib\\axes\\_base.py\u001b[0m in \u001b[0;36mdraw\u001b[1;34m(self, renderer, inframe)\u001b[0m\n\u001b[0;32m   2397\u001b[0m             \u001b[0mrenderer\u001b[0m\u001b[1;33m.\u001b[0m\u001b[0mstop_rasterizing\u001b[0m\u001b[1;33m(\u001b[0m\u001b[1;33m)\u001b[0m\u001b[1;33m\u001b[0m\u001b[0m\n\u001b[0;32m   2398\u001b[0m \u001b[1;33m\u001b[0m\u001b[0m\n\u001b[1;32m-> 2399\u001b[1;33m         \u001b[0mmimage\u001b[0m\u001b[1;33m.\u001b[0m\u001b[0m_draw_list_compositing_images\u001b[0m\u001b[1;33m(\u001b[0m\u001b[0mrenderer\u001b[0m\u001b[1;33m,\u001b[0m \u001b[0mself\u001b[0m\u001b[1;33m,\u001b[0m \u001b[0martists\u001b[0m\u001b[1;33m)\u001b[0m\u001b[1;33m\u001b[0m\u001b[0m\n\u001b[0m\u001b[0;32m   2400\u001b[0m \u001b[1;33m\u001b[0m\u001b[0m\n\u001b[0;32m   2401\u001b[0m         \u001b[0mrenderer\u001b[0m\u001b[1;33m.\u001b[0m\u001b[0mclose_group\u001b[0m\u001b[1;33m(\u001b[0m\u001b[1;34m'axes'\u001b[0m\u001b[1;33m)\u001b[0m\u001b[1;33m\u001b[0m\u001b[0m\n",
      "\u001b[1;32m~\\Anaconda3\\lib\\site-packages\\matplotlib\\image.py\u001b[0m in \u001b[0;36m_draw_list_compositing_images\u001b[1;34m(renderer, parent, artists, suppress_composite)\u001b[0m\n\u001b[0;32m    136\u001b[0m     \u001b[1;32mif\u001b[0m \u001b[0mnot_composite\u001b[0m \u001b[1;32mor\u001b[0m \u001b[1;32mnot\u001b[0m \u001b[0mhas_images\u001b[0m\u001b[1;33m:\u001b[0m\u001b[1;33m\u001b[0m\u001b[0m\n\u001b[0;32m    137\u001b[0m         \u001b[1;32mfor\u001b[0m \u001b[0ma\u001b[0m \u001b[1;32min\u001b[0m \u001b[0martists\u001b[0m\u001b[1;33m:\u001b[0m\u001b[1;33m\u001b[0m\u001b[0m\n\u001b[1;32m--> 138\u001b[1;33m             \u001b[0ma\u001b[0m\u001b[1;33m.\u001b[0m\u001b[0mdraw\u001b[0m\u001b[1;33m(\u001b[0m\u001b[0mrenderer\u001b[0m\u001b[1;33m)\u001b[0m\u001b[1;33m\u001b[0m\u001b[0m\n\u001b[0m\u001b[0;32m    139\u001b[0m     \u001b[1;32melse\u001b[0m\u001b[1;33m:\u001b[0m\u001b[1;33m\u001b[0m\u001b[0m\n\u001b[0;32m    140\u001b[0m         \u001b[1;31m# Composite any adjacent images together\u001b[0m\u001b[1;33m\u001b[0m\u001b[1;33m\u001b[0m\u001b[0m\n",
      "\u001b[1;32m~\\Anaconda3\\lib\\site-packages\\matplotlib\\artist.py\u001b[0m in \u001b[0;36mdraw_wrapper\u001b[1;34m(artist, renderer, *args, **kwargs)\u001b[0m\n\u001b[0;32m     53\u001b[0m                 \u001b[0mrenderer\u001b[0m\u001b[1;33m.\u001b[0m\u001b[0mstart_filter\u001b[0m\u001b[1;33m(\u001b[0m\u001b[1;33m)\u001b[0m\u001b[1;33m\u001b[0m\u001b[0m\n\u001b[0;32m     54\u001b[0m \u001b[1;33m\u001b[0m\u001b[0m\n\u001b[1;32m---> 55\u001b[1;33m             \u001b[1;32mreturn\u001b[0m \u001b[0mdraw\u001b[0m\u001b[1;33m(\u001b[0m\u001b[0martist\u001b[0m\u001b[1;33m,\u001b[0m \u001b[0mrenderer\u001b[0m\u001b[1;33m,\u001b[0m \u001b[1;33m*\u001b[0m\u001b[0margs\u001b[0m\u001b[1;33m,\u001b[0m \u001b[1;33m**\u001b[0m\u001b[0mkwargs\u001b[0m\u001b[1;33m)\u001b[0m\u001b[1;33m\u001b[0m\u001b[0m\n\u001b[0m\u001b[0;32m     56\u001b[0m         \u001b[1;32mfinally\u001b[0m\u001b[1;33m:\u001b[0m\u001b[1;33m\u001b[0m\u001b[0m\n\u001b[0;32m     57\u001b[0m             \u001b[1;32mif\u001b[0m \u001b[0martist\u001b[0m\u001b[1;33m.\u001b[0m\u001b[0mget_agg_filter\u001b[0m\u001b[1;33m(\u001b[0m\u001b[1;33m)\u001b[0m \u001b[1;32mis\u001b[0m \u001b[1;32mnot\u001b[0m \u001b[1;32mNone\u001b[0m\u001b[1;33m:\u001b[0m\u001b[1;33m\u001b[0m\u001b[0m\n",
      "\u001b[1;32m~\\Anaconda3\\lib\\site-packages\\matplotlib\\image.py\u001b[0m in \u001b[0;36mdraw\u001b[1;34m(self, renderer, *args, **kwargs)\u001b[0m\n\u001b[0;32m    546\u001b[0m         \u001b[1;32melse\u001b[0m\u001b[1;33m:\u001b[0m\u001b[1;33m\u001b[0m\u001b[0m\n\u001b[0;32m    547\u001b[0m             im, l, b, trans = self.make_image(\n\u001b[1;32m--> 548\u001b[1;33m                 renderer, renderer.get_image_magnification())\n\u001b[0m\u001b[0;32m    549\u001b[0m             \u001b[1;32mif\u001b[0m \u001b[0mim\u001b[0m \u001b[1;32mis\u001b[0m \u001b[1;32mnot\u001b[0m \u001b[1;32mNone\u001b[0m\u001b[1;33m:\u001b[0m\u001b[1;33m\u001b[0m\u001b[0m\n\u001b[0;32m    550\u001b[0m                 \u001b[0mrenderer\u001b[0m\u001b[1;33m.\u001b[0m\u001b[0mdraw_image\u001b[0m\u001b[1;33m(\u001b[0m\u001b[0mgc\u001b[0m\u001b[1;33m,\u001b[0m \u001b[0ml\u001b[0m\u001b[1;33m,\u001b[0m \u001b[0mb\u001b[0m\u001b[1;33m,\u001b[0m \u001b[0mim\u001b[0m\u001b[1;33m)\u001b[0m\u001b[1;33m\u001b[0m\u001b[0m\n",
      "\u001b[1;32m~\\Anaconda3\\lib\\site-packages\\matplotlib\\image.py\u001b[0m in \u001b[0;36mmake_image\u001b[1;34m(self, renderer, magnification, unsampled)\u001b[0m\n\u001b[0;32m    772\u001b[0m         return self._make_image(\n\u001b[0;32m    773\u001b[0m             \u001b[0mself\u001b[0m\u001b[1;33m.\u001b[0m\u001b[0m_A\u001b[0m\u001b[1;33m,\u001b[0m \u001b[0mbbox\u001b[0m\u001b[1;33m,\u001b[0m \u001b[0mtransformed_bbox\u001b[0m\u001b[1;33m,\u001b[0m \u001b[0mself\u001b[0m\u001b[1;33m.\u001b[0m\u001b[0maxes\u001b[0m\u001b[1;33m.\u001b[0m\u001b[0mbbox\u001b[0m\u001b[1;33m,\u001b[0m \u001b[0mmagnification\u001b[0m\u001b[1;33m,\u001b[0m\u001b[1;33m\u001b[0m\u001b[0m\n\u001b[1;32m--> 774\u001b[1;33m             unsampled=unsampled)\n\u001b[0m\u001b[0;32m    775\u001b[0m \u001b[1;33m\u001b[0m\u001b[0m\n\u001b[0;32m    776\u001b[0m     \u001b[1;32mdef\u001b[0m \u001b[0m_check_unsampled_image\u001b[0m\u001b[1;33m(\u001b[0m\u001b[0mself\u001b[0m\u001b[1;33m,\u001b[0m \u001b[0mrenderer\u001b[0m\u001b[1;33m)\u001b[0m\u001b[1;33m:\u001b[0m\u001b[1;33m\u001b[0m\u001b[0m\n",
      "\u001b[1;32m~\\Anaconda3\\lib\\site-packages\\matplotlib\\image.py\u001b[0m in \u001b[0;36m_make_image\u001b[1;34m(self, A, in_bbox, out_bbox, clip_bbox, magnification, unsampled, round_to_pixel_border)\u001b[0m\n\u001b[0;32m    464\u001b[0m             \u001b[1;31m# (of int or float)\u001b[0m\u001b[1;33m\u001b[0m\u001b[1;33m\u001b[0m\u001b[0m\n\u001b[0;32m    465\u001b[0m             \u001b[1;31m# or an RGBA array of re-sampled input\u001b[0m\u001b[1;33m\u001b[0m\u001b[1;33m\u001b[0m\u001b[0m\n\u001b[1;32m--> 466\u001b[1;33m             \u001b[0moutput\u001b[0m \u001b[1;33m=\u001b[0m \u001b[0mself\u001b[0m\u001b[1;33m.\u001b[0m\u001b[0mto_rgba\u001b[0m\u001b[1;33m(\u001b[0m\u001b[0moutput\u001b[0m\u001b[1;33m,\u001b[0m \u001b[0mbytes\u001b[0m\u001b[1;33m=\u001b[0m\u001b[1;32mTrue\u001b[0m\u001b[1;33m,\u001b[0m \u001b[0mnorm\u001b[0m\u001b[1;33m=\u001b[0m\u001b[1;32mFalse\u001b[0m\u001b[1;33m)\u001b[0m\u001b[1;33m\u001b[0m\u001b[0m\n\u001b[0m\u001b[0;32m    467\u001b[0m             \u001b[1;31m# output is now a correctly sized RGBA array of uint8\u001b[0m\u001b[1;33m\u001b[0m\u001b[1;33m\u001b[0m\u001b[0m\n\u001b[0;32m    468\u001b[0m \u001b[1;33m\u001b[0m\u001b[0m\n",
      "\u001b[1;32m~\\Anaconda3\\lib\\site-packages\\matplotlib\\cm.py\u001b[0m in \u001b[0;36mto_rgba\u001b[1;34m(self, x, alpha, bytes, norm)\u001b[0m\n\u001b[0;32m    255\u001b[0m                 \u001b[1;32mif\u001b[0m \u001b[0mxx\u001b[0m\u001b[1;33m.\u001b[0m\u001b[0mdtype\u001b[0m\u001b[1;33m.\u001b[0m\u001b[0mkind\u001b[0m \u001b[1;33m==\u001b[0m \u001b[1;34m'f'\u001b[0m\u001b[1;33m:\u001b[0m\u001b[1;33m\u001b[0m\u001b[0m\n\u001b[0;32m    256\u001b[0m                     \u001b[1;32mif\u001b[0m \u001b[0mnorm\u001b[0m \u001b[1;32mand\u001b[0m \u001b[0mxx\u001b[0m\u001b[1;33m.\u001b[0m\u001b[0mmax\u001b[0m\u001b[1;33m(\u001b[0m\u001b[1;33m)\u001b[0m \u001b[1;33m>\u001b[0m \u001b[1;36m1\u001b[0m \u001b[1;32mor\u001b[0m \u001b[0mxx\u001b[0m\u001b[1;33m.\u001b[0m\u001b[0mmin\u001b[0m\u001b[1;33m(\u001b[0m\u001b[1;33m)\u001b[0m \u001b[1;33m<\u001b[0m \u001b[1;36m0\u001b[0m\u001b[1;33m:\u001b[0m\u001b[1;33m\u001b[0m\u001b[0m\n\u001b[1;32m--> 257\u001b[1;33m                         raise ValueError(\"Floating point image RGB values \"\n\u001b[0m\u001b[0;32m    258\u001b[0m                                          \"must be in the 0..1 range.\")\n\u001b[0;32m    259\u001b[0m                     \u001b[1;32mif\u001b[0m \u001b[0mbytes\u001b[0m\u001b[1;33m:\u001b[0m\u001b[1;33m\u001b[0m\u001b[0m\n",
      "\u001b[1;31mValueError\u001b[0m: Floating point image RGB values must be in the 0..1 range."
     ]
    },
    {
     "data": {
      "text/plain": [
       "<matplotlib.figure.Figure at 0x975a3a6d68>"
      ]
     },
     "metadata": {},
     "output_type": "display_data"
    }
   ],
   "source": [
    "plt.imshow(x)"
   ]
  },
  {
   "cell_type": "code",
   "execution_count": 45,
   "metadata": {},
   "outputs": [
    {
     "data": {
      "text/plain": [
       "<matplotlib.image.AxesImage at 0x975a5021d0>"
      ]
     },
     "execution_count": 45,
     "metadata": {},
     "output_type": "execute_result"
    },
    {
     "data": {
      "image/png": "[encoded data removed]",
      "text/plain": [
       "<matplotlib.figure.Figure at 0x975a4bdb00>"
      ]
     },
     "metadata": {},
     "output_type": "display_data"
    }
   ],
   "source": [
    "#x = (x-ct)\n",
    "x=np.where(x<0,0,x)\n",
    "plt.imshow(x)"
   ]
  },
  {
   "cell_type": "code",
   "execution_count": 122,
   "metadata": {
    "scrolled": false
   },
   "outputs": [
    {
     "name": "stdout",
     "output_type": "stream",
     "text": [
      "Train on 108400 samples, validate on 17820 samples\n",
      "Epoch 1/20\n",
      "108400/108400 [==============================] - 9s 86us/step - loss: 0.4359 - acc: 0.8459 - val_loss: 0.2148 - val_acc: 0.9365\n",
      "Epoch 2/20\n",
      "108400/108400 [==============================] - 7s 63us/step - loss: 0.1960 - acc: 0.9377 - val_loss: 0.1557 - val_acc: 0.9573\n",
      "Epoch 3/20\n",
      "108400/108400 [==============================] - 8s 72us/step - loss: 0.1432 - acc: 0.9578 - val_loss: 0.1309 - val_acc: 0.9659\n",
      "Epoch 4/20\n",
      "108400/108400 [==============================] - 7s 67us/step - loss: 0.1146 - acc: 0.9681 - val_loss: 0.1096 - val_acc: 0.9723\n",
      "Epoch 5/20\n",
      "108400/108400 [==============================] - 10s 96us/step - loss: 0.0939 - acc: 0.9747 - val_loss: 0.0948 - val_acc: 0.9754\n",
      "Epoch 6/20\n",
      "108400/108400 [==============================] - 10s 88us/step - loss: 0.0823 - acc: 0.9782 - val_loss: 0.0934 - val_acc: 0.9755\n",
      "Epoch 7/20\n",
      "108400/108400 [==============================] - 10s 89us/step - loss: 0.0704 - acc: 0.9818 - val_loss: 0.1088 - val_acc: 0.9683\n",
      "Epoch 8/20\n",
      "108400/108400 [==============================] - 10s 90us/step - loss: 0.0627 - acc: 0.9841 - val_loss: 0.0904 - val_acc: 0.9771\n",
      "Epoch 9/20\n",
      "108400/108400 [==============================] - 8s 78us/step - loss: 0.0567 - acc: 0.9857 - val_loss: 0.0849 - val_acc: 0.9787\n",
      "Epoch 10/20\n",
      "108400/108400 [==============================] - 9s 81us/step - loss: 0.0507 - acc: 0.9873 - val_loss: 0.0774 - val_acc: 0.9814\n",
      "Epoch 11/20\n",
      "108400/108400 [==============================] - 9s 80us/step - loss: 0.0471 - acc: 0.9886 - val_loss: 0.0757 - val_acc: 0.9823\n",
      "Epoch 12/20\n",
      "108400/108400 [==============================] - 8s 78us/step - loss: 0.0437 - acc: 0.9893 - val_loss: 0.1003 - val_acc: 0.9765\n",
      "Epoch 13/20\n",
      "108400/108400 [==============================] - 8s 77us/step - loss: 0.0413 - acc: 0.9900 - val_loss: 0.0802 - val_acc: 0.9808\n",
      "Epoch 14/20\n",
      "108400/108400 [==============================] - 8s 76us/step - loss: 0.0384 - acc: 0.9907 - val_loss: 0.0790 - val_acc: 0.9800\n",
      "Epoch 15/20\n",
      "108400/108400 [==============================] - 8s 77us/step - loss: 0.0367 - acc: 0.9915 - val_loss: 0.0793 - val_acc: 0.9802\n",
      "Epoch 16/20\n",
      "108400/108400 [==============================] - 8s 76us/step - loss: 0.0365 - acc: 0.9912 - val_loss: 0.0796 - val_acc: 0.9814\n",
      "Epoch 17/20\n",
      "108400/108400 [==============================] - 8s 77us/step - loss: 0.0334 - acc: 0.9921 - val_loss: 0.0835 - val_acc: 0.9807\n",
      "Epoch 18/20\n",
      "108400/108400 [==============================] - 9s 79us/step - loss: 0.0319 - acc: 0.9924 - val_loss: 0.0874 - val_acc: 0.9793\n",
      "Epoch 19/20\n",
      "108400/108400 [==============================] - 8s 74us/step - loss: 0.0299 - acc: 0.9931 - val_loss: 0.0805 - val_acc: 0.9823\n",
      "Epoch 20/20\n",
      "108400/108400 [==============================] - 8s 74us/step - loss: 0.0287 - acc: 0.9930 - val_loss: 0.0859 - val_acc: 0.9819\n",
      "train accuracy: 0.9979612546125461\n",
      "test accuracy: 0.9818742985409652\n"
     ]
    }
   ],
   "source": [
    "from __future__ import absolute_import\n",
    "from __future__ import print_function\n",
    "import numpy as np\n",
    "\n",
    "import random\n",
    "from keras.datasets import mnist\n",
    "from keras.models import Model\n",
    "from keras.layers import Input, Flatten, Dense, Dropout, Lambda\n",
    "from keras.layers import Conv2D, MaxPooling2D\n",
    "from keras.optimizers import RMSprop\n",
    "from keras import backend as K\n",
    "from keras.layers.merge import concatenate\n",
    "from sklearn.metrics import classification_report\n",
    "\n",
    "num_classes = 10\n",
    "epochs = 20\n",
    "\n",
    "\n",
    "def euclidean_distance(vects):\n",
    "    x, y = vects\n",
    "    return K.sqrt(K.maximum(K.sum(K.square(x - y), axis=1, keepdims=True), K.epsilon()))\n",
    "\n",
    "\n",
    "def eucl_dist_output_shape(shapes):\n",
    "    shape1, shape2 = shapes\n",
    "    return (shape1[0], 1)\n",
    "\n",
    "\n",
    "def contrastive_loss(y_true, y_pred):\n",
    "    '''Contrastive loss from Hadsell-et-al.'06\n",
    "    http://yann.lecun.com/exdb/publis/pdf/hadsell-chopra-lecun-06.pdf\n",
    "    '''\n",
    "    margin = 1\n",
    "    return K.mean(y_true * K.square(y_pred) +\n",
    "                  (1 - y_true) * K.square(K.maximum(margin - y_pred, 0)))\n",
    "\n",
    "\n",
    "def create_pairs(x, digit_indices):\n",
    "    '''Positive and negative pair creation.\n",
    "    Alternates between positive and negative pairs.\n",
    "    '''\n",
    "    pairs = []\n",
    "    labels = []\n",
    "    n = min([len(digit_indices[d]) for d in range(num_classes)]) - 1\n",
    "    for d in range(num_classes):\n",
    "        for i in range(n):\n",
    "            z1, z2 = digit_indices[d][i], digit_indices[d][i + 1]\n",
    "            pairs += [[x[z1], x[z2]]]\n",
    "            inc = random.randrange(1, num_classes)\n",
    "            dn = (d + inc) % num_classes\n",
    "            z1, z2 = digit_indices[d][i], digit_indices[dn][i]\n",
    "            pairs += [[x[z1], x[z2]]]\n",
    "            labels += [1, 0]\n",
    "    return np.array(pairs), np.array(labels)\n",
    "\n",
    "\n",
    "def create_base_network(input_shape):\n",
    "    '''Base network to be shared (eq. to feature extraction).\n",
    "    '''\n",
    "    input = Input(shape=input_shape)\n",
    "    x = Flatten()(input)\n",
    "    x = Dense(128, activation='relu')(x)\n",
    "    x = Dropout(0.1)(x)\n",
    "    x = Dense(128, activation='relu')(x)\n",
    "    x = Dropout(0.1)(x)\n",
    "    x = Dense(128, activation='relu')(x)\n",
    "    \n",
    "    #x = Conv2D(32, kernel_size=(3, 3),activation='relu')(input)\n",
    "    #x = Conv2D(64, (3, 3), activation='relu')(x)\n",
    "    #x = MaxPooling2D(pool_size=(2, 2))(x)\n",
    "    #x = Dropout(0.25)(x)\n",
    "    #x = Flatten()(x)\n",
    "    #x = Dense(128, activation='relu')(x)\n",
    "    \n",
    "    return Model(input, x)\n",
    "\n",
    "\n",
    "def compute_accuracy(y_true, y_pred):\n",
    "    '''Compute classification accuracy with a fixed threshold on distances.\n",
    "    '''\n",
    "    pred = y_pred.ravel() < 0.5\n",
    "    return np.mean(pred == y_true)\n",
    "    \n",
    "    #print(classification_report(y_true,y_pred))\n",
    "\n",
    "\n",
    "def accuracy(y_true, y_pred):\n",
    "    '''Compute classification accuracy with a fixed threshold on distances.\n",
    "    '''\n",
    "    return K.mean(K.equal(y_true, K.cast(y_pred < 0.5, y_true.dtype)))\n",
    "\n",
    "\n",
    "# the data, shuffled and split between train and test sets\n",
    "(x_train, y_train), (x_test, y_test) = mnist.load_data()\n",
    "x_train = x_train.astype('float32')\n",
    "x_test = x_test.astype('float32')\n",
    "x_train /= 255\n",
    "x_test /= 255\n",
    "img_rows, img_cols = 28, 28\n",
    "#x_train = x_train.reshape(x_train.shape[0], img_rows, img_cols, 1)\n",
    "#x_test = x_test.reshape(x_test.shape[0], img_rows, img_cols, 1)\n",
    "input_shape = x_train.shape[1:]\n",
    "\n",
    "# create training+test positive and negative pairs\n",
    "digit_indices = [np.where(y_train == i)[0] for i in range(num_classes)]\n",
    "tr_pairs, tr_y = create_pairs(x_train, digit_indices)\n",
    "\n",
    "digit_indices = [np.where(y_test == i)[0] for i in range(num_classes)]\n",
    "te_pairs, te_y = create_pairs(x_test, digit_indices)\n",
    "\n",
    "# network definition\n",
    "base_network = create_base_network(input_shape)\n",
    "\n",
    "input_a = Input(shape=input_shape)\n",
    "input_b = Input(shape=input_shape)\n",
    "\n",
    "# because we re-use the same instance `base_network`,\n",
    "# the weights of the network\n",
    "# will be shared across the two branches\n",
    "processed_a = base_network(input_a)\n",
    "processed_b = base_network(input_b)\n",
    "\n",
    "distance = Lambda(euclidean_distance,\n",
    "                  output_shape=eucl_dist_output_shape)([processed_a, processed_b])\n",
    "\n",
    "merge = concatenate([processed_a,processed_b])\n",
    "out = Dense(128,activation='relu',kernel_regularizer=regularizers.l2(0.01))(merge)\n",
    "out = Dense(1,activation='sigmoid')(out)\n",
    "\n",
    "model = Model([input_a, input_b], out)\n",
    "\n",
    "# train\n",
    "rms = RMSprop()\n",
    "model.compile(loss='binary_crossentropy', optimizer='rmsprop', metrics=['accuracy'])\n",
    "history = model.fit([tr_pairs[:, 0], tr_pairs[:, 1]], tr_y, batch_size=128,epochs=epochs,validation_data=([te_pairs[:, 0], te_pairs[:, 1]], te_y))\n",
    "\n",
    "# compute final accuracy on training and test sets\n",
    "y_pred = model.predict([tr_pairs[:, 0], tr_pairs[:, 1]])\n",
    "y_pred = np.where(y_pred<0.5,0,1).ravel()\n",
    "print(\"train accuracy:\",np.mean(tr_y==y_pred))\n",
    "\n",
    "y_pred = model.predict([te_pairs[:, 0], te_pairs[:, 1]])\n",
    "y_pred = np.where(y_pred<0.5,0,1).ravel()\n",
    "print(\"test accuracy:\",np.mean(te_y==y_pred))\n",
    "\n",
    "\n"
   ]
  },
  {
   "cell_type": "code",
   "execution_count": 121,
   "metadata": {},
   "outputs": [
    {
     "data": {
      "text/plain": [
       "0.9819304152637486"
      ]
     },
     "execution_count": 121,
     "metadata": {},
     "output_type": "execute_result"
    }
   ],
   "source": [
    "pred = np.where(y_pred.ravel() < 0.5,0,1)\n",
    "np.mean(pred==te_y)"
   ]
  },
  {
   "cell_type": "code",
   "execution_count": 109,
   "metadata": {},
   "outputs": [
    {
     "data": {
      "text/plain": [
       "[<matplotlib.lines.Line2D at 0x970387a048>]"
      ]
     },
     "execution_count": 109,
     "metadata": {},
     "output_type": "execute_result"
    },
    {
     "data": {
      "image/png": "[encoded data removed]",
      "text/plain": [
       "<matplotlib.figure.Figure at 0x970043c5f8>"
      ]
     },
     "metadata": {},
     "output_type": "display_data"
    }
   ],
   "source": [
    "plt.plot(history.history['loss'])\n",
    "plt.plot(history.history['val_loss'])"
   ]
  },
  {
   "cell_type": "code",
   "execution_count": 78,
   "metadata": {},
   "outputs": [
    {
     "name": "stdout",
     "output_type": "stream",
     "text": [
      "             precision    recall  f1-score   support\n",
      "\n",
      "          0       0.98      0.99      0.98      8910\n",
      "          1       0.99      0.98      0.98      8910\n",
      "\n",
      "avg / total       0.98      0.98      0.98     17820\n",
      "\n"
     ]
    }
   ],
   "source": [
    "print(classification_report(te_y,y_pred))"
   ]
  },
  {
   "cell_type": "code",
   "execution_count": 84,
   "metadata": {},
   "outputs": [
    {
     "data": {
      "text/plain": [
       "0.9821548821548821"
      ]
     },
     "execution_count": 84,
     "metadata": {},
     "output_type": "execute_result"
    }
   ],
   "source": [
    "(te_y==y_pred).sum()/17820"
   ]
  },
  {
   "cell_type": "code",
   "execution_count": 80,
   "metadata": {},
   "outputs": [
    {
     "name": "stdout",
     "output_type": "stream",
     "text": [
      "__________________________________________________________________________________________________\n",
      "Layer (type)                    Output Shape         Param #     Connected to                     \n",
      "==================================================================================================\n",
      "input_15 (InputLayer)           (None, 28, 28)       0                                            \n",
      "__________________________________________________________________________________________________\n",
      "input_16 (InputLayer)           (None, 28, 28)       0                                            \n",
      "__________________________________________________________________________________________________\n",
      "model_10 (Model)                (None, 128)          133504      input_15[0][0]                   \n",
      "                                                                 input_16[0][0]                   \n",
      "__________________________________________________________________________________________________\n",
      "concatenate_4 (Concatenate)     (None, 256)          0           model_10[1][0]                   \n",
      "                                                                 model_10[2][0]                   \n",
      "__________________________________________________________________________________________________\n",
      "dense_38 (Dense)                (None, 128)          32896       concatenate_4[0][0]              \n",
      "__________________________________________________________________________________________________\n",
      "dense_39 (Dense)                (None, 1)            129         dense_38[0][0]                   \n",
      "==================================================================================================\n",
      "Total params: 166,529\n",
      "Trainable params: 166,529\n",
      "Non-trainable params: 0\n",
      "__________________________________________________________________________________________________\n"
     ]
    }
   ],
   "source": [
    "model.summary()"
   ]
  },
  {
   "cell_type": "code",
   "execution_count": null,
   "metadata": {
    "collapsed": true
   },
   "outputs": [],
   "source": []
  }
 ],
 "metadata": {
  "kernelspec": {
   "display_name": "Python 3",
   "language": "python",
   "name": "python3"
  }
 },
 "nbformat": 4,
 "nbformat_minor": 2
}
